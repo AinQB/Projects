{
 "cells": [
  {
   "cell_type": "markdown",
   "metadata": {},
   "source": [
    "# Определение перспективного тарифа для телеком-компании"
   ]
  },
  {
   "cell_type": "markdown",
   "metadata": {},
   "source": [
    "# Описание проекта\n",
    "\n",
    "    Компания «Мегалайн» — федерального оператора сотовой связи. Клиентам предлагают два тарифных плана: «Смарт» и «Ультра». Чтобы скорректировать рекламный бюджет, коммерческий департамент хочет понять, какой тариф приносит больше денег. В распоряжении данные 500 пользователей «Мегалайна»: кто они, откуда, каким тарифом пользуются, сколько звонков и сообщений каждый отправил за 2018 год. Нужно проанализировать поведение клиентов и сделать вывод — какой тариф лучше.\n",
    "\n",
    "Описание тарифов\n",
    "    \n",
    "    Тариф «Смарт»\n",
    "\n",
    "    Ежемесячная плата: 550 рублей\n",
    "    Включено 500 минут разговора, 50 сообщений и 15 Гб интернет-трафика\n",
    "    Стоимость услуг сверх тарифного пакета:\n",
    "     - минута разговора: 3 рубля\n",
    "     - сообщение: 3 рубля\n",
    "     - 1 Гб интернет-трафика: 200 рублей\n",
    "\n",
    "    Тариф «Ультра»\n",
    "\n",
    "    Ежемесячная плата: 1950 рублей\n",
    "    Включено 3000 минут разговора, 1000 сообщений и 30 Гб интернет-трафика\n",
    "    Стоимость услуг сверх тарифного пакета:\n",
    "     - минута разговора: 1 рубль\n",
    "     - сообщение: 1 рубль\n",
    "     - 1 Гб интернет-трафика: 150 рублей\n",
    "\n",
    "    Примечание «Мегалайн» всегда округляет секунды до минут, а мегабайты — до гигабайт. Каждый звонок округляется отдельно: даже если он длился всего 1 секунду, будет засчитан как 1 минута. Для веб-трафика отдельные сессии не считаются. Вместо этого общая сумма за месяц округляется в бо́льшую сторону. Если абонент использует 1025 мегабайт в этом месяце, с него возьмут плату за 2 гигабайта. Примите, что неиспользованные за предыдущий месяц звонки, смс, интернет на следующий месяц не переносятся."
   ]
  },
  {
   "cell_type": "markdown",
   "metadata": {},
   "source": [
    "# Загрузка библиотек"
   ]
  },
  {
   "cell_type": "code",
   "execution_count": 1,
   "metadata": {},
   "outputs": [],
   "source": [
    "import pandas as pd\n",
    "import matplotlib.pyplot as plt\n",
    "import numpy as np\n",
    "import datetime\n",
    "from scipy import stats as st"
   ]
  },
  {
   "cell_type": "markdown",
   "metadata": {},
   "source": [
    "## Подготовка и изучение данных"
   ]
  },
  {
   "cell_type": "code",
   "execution_count": 68,
   "metadata": {},
   "outputs": [],
   "source": [
    "pd.set_option('display.max_columns', None)\n",
    "pd.options.display.float_format = '{:,.2f}'.format\n",
    "\n",
    "users = pd.read_csv('/datasets/users.csv')\n",
    "calls = pd.read_csv('/datasets/calls.csv')\n",
    "messages = pd.read_csv('/datasets/messages.csv')\n",
    "internet = pd.read_csv('/datasets/internet.csv')\n",
    "tariffs = pd.read_csv('/datasets/tariffs.csv')\n"
   ]
  },
  {
   "cell_type": "markdown",
   "metadata": {},
   "source": [
    "### Данные из Звонки"
   ]
  },
  {
   "cell_type": "code",
   "execution_count": 4,
   "metadata": {},
   "outputs": [
    {
     "data": {
      "text/html": [
       "<div>\n",
       "<style scoped>\n",
       "    .dataframe tbody tr th:only-of-type {\n",
       "        vertical-align: middle;\n",
       "    }\n",
       "\n",
       "    .dataframe tbody tr th {\n",
       "        vertical-align: top;\n",
       "    }\n",
       "\n",
       "    .dataframe thead th {\n",
       "        text-align: right;\n",
       "    }\n",
       "</style>\n",
       "<table border=\"1\" class=\"dataframe\">\n",
       "  <thead>\n",
       "    <tr style=\"text-align: right;\">\n",
       "      <th></th>\n",
       "      <th>id</th>\n",
       "      <th>call_date</th>\n",
       "      <th>duration</th>\n",
       "      <th>user_id</th>\n",
       "    </tr>\n",
       "  </thead>\n",
       "  <tbody>\n",
       "    <tr>\n",
       "      <th>0</th>\n",
       "      <td>1000_0</td>\n",
       "      <td>2018-07-25</td>\n",
       "      <td>0.00</td>\n",
       "      <td>1000</td>\n",
       "    </tr>\n",
       "    <tr>\n",
       "      <th>1</th>\n",
       "      <td>1000_1</td>\n",
       "      <td>2018-08-17</td>\n",
       "      <td>0.00</td>\n",
       "      <td>1000</td>\n",
       "    </tr>\n",
       "    <tr>\n",
       "      <th>2</th>\n",
       "      <td>1000_2</td>\n",
       "      <td>2018-06-11</td>\n",
       "      <td>2.85</td>\n",
       "      <td>1000</td>\n",
       "    </tr>\n",
       "    <tr>\n",
       "      <th>3</th>\n",
       "      <td>1000_3</td>\n",
       "      <td>2018-09-21</td>\n",
       "      <td>13.80</td>\n",
       "      <td>1000</td>\n",
       "    </tr>\n",
       "    <tr>\n",
       "      <th>4</th>\n",
       "      <td>1000_4</td>\n",
       "      <td>2018-12-15</td>\n",
       "      <td>5.18</td>\n",
       "      <td>1000</td>\n",
       "    </tr>\n",
       "  </tbody>\n",
       "</table>\n",
       "</div>"
      ],
      "text/plain": [
       "       id   call_date  duration  user_id\n",
       "0  1000_0  2018-07-25      0.00     1000\n",
       "1  1000_1  2018-08-17      0.00     1000\n",
       "2  1000_2  2018-06-11      2.85     1000\n",
       "3  1000_3  2018-09-21     13.80     1000\n",
       "4  1000_4  2018-12-15      5.18     1000"
      ]
     },
     "execution_count": 4,
     "metadata": {},
     "output_type": "execute_result"
    }
   ],
   "source": [
    "calls.head()"
   ]
  },
  {
   "cell_type": "code",
   "execution_count": 5,
   "metadata": {},
   "outputs": [
    {
     "data": {
      "text/html": [
       "<div>\n",
       "<style scoped>\n",
       "    .dataframe tbody tr th:only-of-type {\n",
       "        vertical-align: middle;\n",
       "    }\n",
       "\n",
       "    .dataframe tbody tr th {\n",
       "        vertical-align: top;\n",
       "    }\n",
       "\n",
       "    .dataframe thead th {\n",
       "        text-align: right;\n",
       "    }\n",
       "</style>\n",
       "<table border=\"1\" class=\"dataframe\">\n",
       "  <thead>\n",
       "    <tr style=\"text-align: right;\">\n",
       "      <th></th>\n",
       "      <th>duration</th>\n",
       "      <th>user_id</th>\n",
       "    </tr>\n",
       "  </thead>\n",
       "  <tbody>\n",
       "    <tr>\n",
       "      <th>count</th>\n",
       "      <td>202,607.00</td>\n",
       "      <td>202,607.00</td>\n",
       "    </tr>\n",
       "    <tr>\n",
       "      <th>mean</th>\n",
       "      <td>6.76</td>\n",
       "      <td>1,253.94</td>\n",
       "    </tr>\n",
       "    <tr>\n",
       "      <th>std</th>\n",
       "      <td>5.84</td>\n",
       "      <td>144.72</td>\n",
       "    </tr>\n",
       "    <tr>\n",
       "      <th>min</th>\n",
       "      <td>0.00</td>\n",
       "      <td>1,000.00</td>\n",
       "    </tr>\n",
       "    <tr>\n",
       "      <th>25%</th>\n",
       "      <td>1.30</td>\n",
       "      <td>1,126.00</td>\n",
       "    </tr>\n",
       "    <tr>\n",
       "      <th>50%</th>\n",
       "      <td>6.00</td>\n",
       "      <td>1,260.00</td>\n",
       "    </tr>\n",
       "    <tr>\n",
       "      <th>75%</th>\n",
       "      <td>10.70</td>\n",
       "      <td>1,379.00</td>\n",
       "    </tr>\n",
       "    <tr>\n",
       "      <th>max</th>\n",
       "      <td>38.00</td>\n",
       "      <td>1,499.00</td>\n",
       "    </tr>\n",
       "  </tbody>\n",
       "</table>\n",
       "</div>"
      ],
      "text/plain": [
       "        duration    user_id\n",
       "count 202,607.00 202,607.00\n",
       "mean        6.76   1,253.94\n",
       "std         5.84     144.72\n",
       "min         0.00   1,000.00\n",
       "25%         1.30   1,126.00\n",
       "50%         6.00   1,260.00\n",
       "75%        10.70   1,379.00\n",
       "max        38.00   1,499.00"
      ]
     },
     "execution_count": 5,
     "metadata": {},
     "output_type": "execute_result"
    }
   ],
   "source": [
    "calls.describe()"
   ]
  },
  {
   "cell_type": "code",
   "execution_count": 6,
   "metadata": {},
   "outputs": [
    {
     "name": "stdout",
     "output_type": "stream",
     "text": [
      "<class 'pandas.core.frame.DataFrame'>\n",
      "RangeIndex: 202607 entries, 0 to 202606\n",
      "Data columns (total 4 columns):\n",
      " #   Column     Non-Null Count   Dtype  \n",
      "---  ------     --------------   -----  \n",
      " 0   id         202607 non-null  object \n",
      " 1   call_date  202607 non-null  object \n",
      " 2   duration   202607 non-null  float64\n",
      " 3   user_id    202607 non-null  int64  \n",
      "dtypes: float64(1), int64(1), object(2)\n",
      "memory usage: 6.2+ MB\n"
     ]
    }
   ],
   "source": [
    "calls.info()"
   ]
  },
  {
   "cell_type": "code",
   "execution_count": 7,
   "metadata": {},
   "outputs": [],
   "source": [
    "calls['call_date'] = pd.to_datetime(calls['call_date'], format=\"%Y-%m-%d\")"
   ]
  },
  {
   "cell_type": "code",
   "execution_count": 8,
   "metadata": {},
   "outputs": [],
   "source": [
    "calls['id'] = calls['id'].astype('int') \n"
   ]
  },
  {
   "cell_type": "code",
   "execution_count": 9,
   "metadata": {},
   "outputs": [],
   "source": [
    "calls['duration'] = calls['duration'].apply(np.ceil).astype('int') "
   ]
  },
  {
   "cell_type": "code",
   "execution_count": 10,
   "metadata": {},
   "outputs": [
    {
     "data": {
      "text/html": [
       "<div>\n",
       "<style scoped>\n",
       "    .dataframe tbody tr th:only-of-type {\n",
       "        vertical-align: middle;\n",
       "    }\n",
       "\n",
       "    .dataframe tbody tr th {\n",
       "        vertical-align: top;\n",
       "    }\n",
       "\n",
       "    .dataframe thead th {\n",
       "        text-align: right;\n",
       "    }\n",
       "</style>\n",
       "<table border=\"1\" class=\"dataframe\">\n",
       "  <thead>\n",
       "    <tr style=\"text-align: right;\">\n",
       "      <th></th>\n",
       "      <th>id</th>\n",
       "      <th>call_date</th>\n",
       "      <th>duration</th>\n",
       "      <th>user_id</th>\n",
       "    </tr>\n",
       "  </thead>\n",
       "  <tbody>\n",
       "    <tr>\n",
       "      <th>0</th>\n",
       "      <td>10000</td>\n",
       "      <td>2018-07-25</td>\n",
       "      <td>0</td>\n",
       "      <td>1000</td>\n",
       "    </tr>\n",
       "    <tr>\n",
       "      <th>1</th>\n",
       "      <td>10001</td>\n",
       "      <td>2018-08-17</td>\n",
       "      <td>0</td>\n",
       "      <td>1000</td>\n",
       "    </tr>\n",
       "    <tr>\n",
       "      <th>2</th>\n",
       "      <td>10002</td>\n",
       "      <td>2018-06-11</td>\n",
       "      <td>3</td>\n",
       "      <td>1000</td>\n",
       "    </tr>\n",
       "    <tr>\n",
       "      <th>3</th>\n",
       "      <td>10003</td>\n",
       "      <td>2018-09-21</td>\n",
       "      <td>14</td>\n",
       "      <td>1000</td>\n",
       "    </tr>\n",
       "    <tr>\n",
       "      <th>4</th>\n",
       "      <td>10004</td>\n",
       "      <td>2018-12-15</td>\n",
       "      <td>6</td>\n",
       "      <td>1000</td>\n",
       "    </tr>\n",
       "  </tbody>\n",
       "</table>\n",
       "</div>"
      ],
      "text/plain": [
       "      id  call_date  duration  user_id\n",
       "0  10000 2018-07-25         0     1000\n",
       "1  10001 2018-08-17         0     1000\n",
       "2  10002 2018-06-11         3     1000\n",
       "3  10003 2018-09-21        14     1000\n",
       "4  10004 2018-12-15         6     1000"
      ]
     },
     "execution_count": 10,
     "metadata": {},
     "output_type": "execute_result"
    }
   ],
   "source": [
    "calls.head()"
   ]
  },
  {
   "cell_type": "markdown",
   "metadata": {},
   "source": [
    "### Данные из Интернет"
   ]
  },
  {
   "cell_type": "code",
   "execution_count": 11,
   "metadata": {},
   "outputs": [
    {
     "data": {
      "text/html": [
       "<div>\n",
       "<style scoped>\n",
       "    .dataframe tbody tr th:only-of-type {\n",
       "        vertical-align: middle;\n",
       "    }\n",
       "\n",
       "    .dataframe tbody tr th {\n",
       "        vertical-align: top;\n",
       "    }\n",
       "\n",
       "    .dataframe thead th {\n",
       "        text-align: right;\n",
       "    }\n",
       "</style>\n",
       "<table border=\"1\" class=\"dataframe\">\n",
       "  <thead>\n",
       "    <tr style=\"text-align: right;\">\n",
       "      <th></th>\n",
       "      <th>Unnamed: 0</th>\n",
       "      <th>id</th>\n",
       "      <th>mb_used</th>\n",
       "      <th>session_date</th>\n",
       "      <th>user_id</th>\n",
       "    </tr>\n",
       "  </thead>\n",
       "  <tbody>\n",
       "    <tr>\n",
       "      <th>0</th>\n",
       "      <td>0</td>\n",
       "      <td>1000_0</td>\n",
       "      <td>112.95</td>\n",
       "      <td>2018-11-25</td>\n",
       "      <td>1000</td>\n",
       "    </tr>\n",
       "    <tr>\n",
       "      <th>1</th>\n",
       "      <td>1</td>\n",
       "      <td>1000_1</td>\n",
       "      <td>1,052.81</td>\n",
       "      <td>2018-09-07</td>\n",
       "      <td>1000</td>\n",
       "    </tr>\n",
       "    <tr>\n",
       "      <th>2</th>\n",
       "      <td>2</td>\n",
       "      <td>1000_2</td>\n",
       "      <td>1,197.26</td>\n",
       "      <td>2018-06-25</td>\n",
       "      <td>1000</td>\n",
       "    </tr>\n",
       "    <tr>\n",
       "      <th>3</th>\n",
       "      <td>3</td>\n",
       "      <td>1000_3</td>\n",
       "      <td>550.27</td>\n",
       "      <td>2018-08-22</td>\n",
       "      <td>1000</td>\n",
       "    </tr>\n",
       "    <tr>\n",
       "      <th>4</th>\n",
       "      <td>4</td>\n",
       "      <td>1000_4</td>\n",
       "      <td>302.56</td>\n",
       "      <td>2018-09-24</td>\n",
       "      <td>1000</td>\n",
       "    </tr>\n",
       "  </tbody>\n",
       "</table>\n",
       "</div>"
      ],
      "text/plain": [
       "   Unnamed: 0      id  mb_used session_date  user_id\n",
       "0           0  1000_0   112.95   2018-11-25     1000\n",
       "1           1  1000_1 1,052.81   2018-09-07     1000\n",
       "2           2  1000_2 1,197.26   2018-06-25     1000\n",
       "3           3  1000_3   550.27   2018-08-22     1000\n",
       "4           4  1000_4   302.56   2018-09-24     1000"
      ]
     },
     "execution_count": 11,
     "metadata": {},
     "output_type": "execute_result"
    }
   ],
   "source": [
    "internet.head()"
   ]
  },
  {
   "cell_type": "code",
   "execution_count": 12,
   "metadata": {},
   "outputs": [],
   "source": [
    "internet['session_date'] = pd.to_datetime(internet['session_date'], format=\"%Y-%m-%d\")"
   ]
  },
  {
   "cell_type": "code",
   "execution_count": 13,
   "metadata": {},
   "outputs": [],
   "source": [
    "internet['id'] = internet['id'].astype('int')"
   ]
  },
  {
   "cell_type": "code",
   "execution_count": 14,
   "metadata": {},
   "outputs": [
    {
     "data": {
      "text/html": [
       "<div>\n",
       "<style scoped>\n",
       "    .dataframe tbody tr th:only-of-type {\n",
       "        vertical-align: middle;\n",
       "    }\n",
       "\n",
       "    .dataframe tbody tr th {\n",
       "        vertical-align: top;\n",
       "    }\n",
       "\n",
       "    .dataframe thead th {\n",
       "        text-align: right;\n",
       "    }\n",
       "</style>\n",
       "<table border=\"1\" class=\"dataframe\">\n",
       "  <thead>\n",
       "    <tr style=\"text-align: right;\">\n",
       "      <th></th>\n",
       "      <th>Unnamed: 0</th>\n",
       "      <th>id</th>\n",
       "      <th>mb_used</th>\n",
       "      <th>user_id</th>\n",
       "    </tr>\n",
       "  </thead>\n",
       "  <tbody>\n",
       "    <tr>\n",
       "      <th>count</th>\n",
       "      <td>149,396.00</td>\n",
       "      <td>149,396.00</td>\n",
       "      <td>149,396.00</td>\n",
       "      <td>149,396.00</td>\n",
       "    </tr>\n",
       "    <tr>\n",
       "      <th>mean</th>\n",
       "      <td>74,697.50</td>\n",
       "      <td>896,847.46</td>\n",
       "      <td>370.19</td>\n",
       "      <td>1,252.10</td>\n",
       "    </tr>\n",
       "    <tr>\n",
       "      <th>std</th>\n",
       "      <td>43,127.05</td>\n",
       "      <td>541,975.78</td>\n",
       "      <td>278.30</td>\n",
       "      <td>144.05</td>\n",
       "    </tr>\n",
       "    <tr>\n",
       "      <th>min</th>\n",
       "      <td>0.00</td>\n",
       "      <td>10,000.00</td>\n",
       "      <td>0.00</td>\n",
       "      <td>1,000.00</td>\n",
       "    </tr>\n",
       "    <tr>\n",
       "      <th>25%</th>\n",
       "      <td>37,348.75</td>\n",
       "      <td>138,987.75</td>\n",
       "      <td>138.19</td>\n",
       "      <td>1,130.00</td>\n",
       "    </tr>\n",
       "    <tr>\n",
       "      <th>50%</th>\n",
       "      <td>74,697.50</td>\n",
       "      <td>1,145,212.50</td>\n",
       "      <td>348.01</td>\n",
       "      <td>1,251.00</td>\n",
       "    </tr>\n",
       "    <tr>\n",
       "      <th>75%</th>\n",
       "      <td>112,046.25</td>\n",
       "      <td>1,321,559.25</td>\n",
       "      <td>559.55</td>\n",
       "      <td>1,380.00</td>\n",
       "    </tr>\n",
       "    <tr>\n",
       "      <th>max</th>\n",
       "      <td>149,395.00</td>\n",
       "      <td>1,499,156.00</td>\n",
       "      <td>1,724.83</td>\n",
       "      <td>1,499.00</td>\n",
       "    </tr>\n",
       "  </tbody>\n",
       "</table>\n",
       "</div>"
      ],
      "text/plain": [
       "       Unnamed: 0           id    mb_used    user_id\n",
       "count  149,396.00   149,396.00 149,396.00 149,396.00\n",
       "mean    74,697.50   896,847.46     370.19   1,252.10\n",
       "std     43,127.05   541,975.78     278.30     144.05\n",
       "min          0.00    10,000.00       0.00   1,000.00\n",
       "25%     37,348.75   138,987.75     138.19   1,130.00\n",
       "50%     74,697.50 1,145,212.50     348.01   1,251.00\n",
       "75%    112,046.25 1,321,559.25     559.55   1,380.00\n",
       "max    149,395.00 1,499,156.00   1,724.83   1,499.00"
      ]
     },
     "execution_count": 14,
     "metadata": {},
     "output_type": "execute_result"
    }
   ],
   "source": [
    "internet.describe()"
   ]
  },
  {
   "cell_type": "code",
   "execution_count": 15,
   "metadata": {},
   "outputs": [
    {
     "name": "stdout",
     "output_type": "stream",
     "text": [
      "<class 'pandas.core.frame.DataFrame'>\n",
      "RangeIndex: 149396 entries, 0 to 149395\n",
      "Data columns (total 5 columns):\n",
      " #   Column        Non-Null Count   Dtype         \n",
      "---  ------        --------------   -----         \n",
      " 0   Unnamed: 0    149396 non-null  int64         \n",
      " 1   id            149396 non-null  int64         \n",
      " 2   mb_used       149396 non-null  float64       \n",
      " 3   session_date  149396 non-null  datetime64[ns]\n",
      " 4   user_id       149396 non-null  int64         \n",
      "dtypes: datetime64[ns](1), float64(1), int64(3)\n",
      "memory usage: 5.7 MB\n"
     ]
    }
   ],
   "source": [
    "internet.info()"
   ]
  },
  {
   "cell_type": "code",
   "execution_count": 16,
   "metadata": {},
   "outputs": [
    {
     "data": {
      "text/html": [
       "<div>\n",
       "<style scoped>\n",
       "    .dataframe tbody tr th:only-of-type {\n",
       "        vertical-align: middle;\n",
       "    }\n",
       "\n",
       "    .dataframe tbody tr th {\n",
       "        vertical-align: top;\n",
       "    }\n",
       "\n",
       "    .dataframe thead th {\n",
       "        text-align: right;\n",
       "    }\n",
       "</style>\n",
       "<table border=\"1\" class=\"dataframe\">\n",
       "  <thead>\n",
       "    <tr style=\"text-align: right;\">\n",
       "      <th></th>\n",
       "      <th>id</th>\n",
       "      <th>message_date</th>\n",
       "      <th>user_id</th>\n",
       "    </tr>\n",
       "  </thead>\n",
       "  <tbody>\n",
       "    <tr>\n",
       "      <th>0</th>\n",
       "      <td>1000_0</td>\n",
       "      <td>2018-06-27</td>\n",
       "      <td>1000</td>\n",
       "    </tr>\n",
       "    <tr>\n",
       "      <th>1</th>\n",
       "      <td>1000_1</td>\n",
       "      <td>2018-10-08</td>\n",
       "      <td>1000</td>\n",
       "    </tr>\n",
       "    <tr>\n",
       "      <th>2</th>\n",
       "      <td>1000_2</td>\n",
       "      <td>2018-08-04</td>\n",
       "      <td>1000</td>\n",
       "    </tr>\n",
       "    <tr>\n",
       "      <th>3</th>\n",
       "      <td>1000_3</td>\n",
       "      <td>2018-06-16</td>\n",
       "      <td>1000</td>\n",
       "    </tr>\n",
       "    <tr>\n",
       "      <th>4</th>\n",
       "      <td>1000_4</td>\n",
       "      <td>2018-12-05</td>\n",
       "      <td>1000</td>\n",
       "    </tr>\n",
       "  </tbody>\n",
       "</table>\n",
       "</div>"
      ],
      "text/plain": [
       "       id message_date  user_id\n",
       "0  1000_0   2018-06-27     1000\n",
       "1  1000_1   2018-10-08     1000\n",
       "2  1000_2   2018-08-04     1000\n",
       "3  1000_3   2018-06-16     1000\n",
       "4  1000_4   2018-12-05     1000"
      ]
     },
     "execution_count": 16,
     "metadata": {},
     "output_type": "execute_result"
    }
   ],
   "source": [
    "messages.head()"
   ]
  },
  {
   "cell_type": "markdown",
   "metadata": {},
   "source": [
    "### Данные из Сообщения"
   ]
  },
  {
   "cell_type": "code",
   "execution_count": 17,
   "metadata": {},
   "outputs": [
    {
     "data": {
      "text/html": [
       "<div>\n",
       "<style scoped>\n",
       "    .dataframe tbody tr th:only-of-type {\n",
       "        vertical-align: middle;\n",
       "    }\n",
       "\n",
       "    .dataframe tbody tr th {\n",
       "        vertical-align: top;\n",
       "    }\n",
       "\n",
       "    .dataframe thead th {\n",
       "        text-align: right;\n",
       "    }\n",
       "</style>\n",
       "<table border=\"1\" class=\"dataframe\">\n",
       "  <thead>\n",
       "    <tr style=\"text-align: right;\">\n",
       "      <th></th>\n",
       "      <th>user_id</th>\n",
       "    </tr>\n",
       "  </thead>\n",
       "  <tbody>\n",
       "    <tr>\n",
       "      <th>count</th>\n",
       "      <td>123,036.00</td>\n",
       "    </tr>\n",
       "    <tr>\n",
       "      <th>mean</th>\n",
       "      <td>1,256.99</td>\n",
       "    </tr>\n",
       "    <tr>\n",
       "      <th>std</th>\n",
       "      <td>143.52</td>\n",
       "    </tr>\n",
       "    <tr>\n",
       "      <th>min</th>\n",
       "      <td>1,000.00</td>\n",
       "    </tr>\n",
       "    <tr>\n",
       "      <th>25%</th>\n",
       "      <td>1,134.00</td>\n",
       "    </tr>\n",
       "    <tr>\n",
       "      <th>50%</th>\n",
       "      <td>1,271.00</td>\n",
       "    </tr>\n",
       "    <tr>\n",
       "      <th>75%</th>\n",
       "      <td>1,381.00</td>\n",
       "    </tr>\n",
       "    <tr>\n",
       "      <th>max</th>\n",
       "      <td>1,499.00</td>\n",
       "    </tr>\n",
       "  </tbody>\n",
       "</table>\n",
       "</div>"
      ],
      "text/plain": [
       "         user_id\n",
       "count 123,036.00\n",
       "mean    1,256.99\n",
       "std       143.52\n",
       "min     1,000.00\n",
       "25%     1,134.00\n",
       "50%     1,271.00\n",
       "75%     1,381.00\n",
       "max     1,499.00"
      ]
     },
     "execution_count": 17,
     "metadata": {},
     "output_type": "execute_result"
    }
   ],
   "source": [
    "messages.describe()"
   ]
  },
  {
   "cell_type": "code",
   "execution_count": 18,
   "metadata": {},
   "outputs": [],
   "source": [
    "messages['message_date'] = pd.to_datetime(messages['message_date'], format=\"%Y-%m-%d\")"
   ]
  },
  {
   "cell_type": "code",
   "execution_count": 19,
   "metadata": {},
   "outputs": [],
   "source": [
    "messages['id'] = messages['id'].astype('int')"
   ]
  },
  {
   "cell_type": "code",
   "execution_count": 20,
   "metadata": {},
   "outputs": [
    {
     "name": "stdout",
     "output_type": "stream",
     "text": [
      "<class 'pandas.core.frame.DataFrame'>\n",
      "RangeIndex: 123036 entries, 0 to 123035\n",
      "Data columns (total 3 columns):\n",
      " #   Column        Non-Null Count   Dtype         \n",
      "---  ------        --------------   -----         \n",
      " 0   id            123036 non-null  int64         \n",
      " 1   message_date  123036 non-null  datetime64[ns]\n",
      " 2   user_id       123036 non-null  int64         \n",
      "dtypes: datetime64[ns](1), int64(2)\n",
      "memory usage: 2.8 MB\n"
     ]
    }
   ],
   "source": [
    "messages.info()"
   ]
  },
  {
   "cell_type": "markdown",
   "metadata": {},
   "source": [
    "### Данные из Тарифы"
   ]
  },
  {
   "cell_type": "code",
   "execution_count": 21,
   "metadata": {},
   "outputs": [
    {
     "data": {
      "text/html": [
       "<div>\n",
       "<style scoped>\n",
       "    .dataframe tbody tr th:only-of-type {\n",
       "        vertical-align: middle;\n",
       "    }\n",
       "\n",
       "    .dataframe tbody tr th {\n",
       "        vertical-align: top;\n",
       "    }\n",
       "\n",
       "    .dataframe thead th {\n",
       "        text-align: right;\n",
       "    }\n",
       "</style>\n",
       "<table border=\"1\" class=\"dataframe\">\n",
       "  <thead>\n",
       "    <tr style=\"text-align: right;\">\n",
       "      <th></th>\n",
       "      <th>messages_included</th>\n",
       "      <th>mb_per_month_included</th>\n",
       "      <th>minutes_included</th>\n",
       "      <th>rub_monthly_fee</th>\n",
       "      <th>rub_per_gb</th>\n",
       "      <th>rub_per_message</th>\n",
       "      <th>rub_per_minute</th>\n",
       "      <th>tariff_name</th>\n",
       "    </tr>\n",
       "  </thead>\n",
       "  <tbody>\n",
       "    <tr>\n",
       "      <th>0</th>\n",
       "      <td>50</td>\n",
       "      <td>15360</td>\n",
       "      <td>500</td>\n",
       "      <td>550</td>\n",
       "      <td>200</td>\n",
       "      <td>3</td>\n",
       "      <td>3</td>\n",
       "      <td>smart</td>\n",
       "    </tr>\n",
       "    <tr>\n",
       "      <th>1</th>\n",
       "      <td>1000</td>\n",
       "      <td>30720</td>\n",
       "      <td>3000</td>\n",
       "      <td>1950</td>\n",
       "      <td>150</td>\n",
       "      <td>1</td>\n",
       "      <td>1</td>\n",
       "      <td>ultra</td>\n",
       "    </tr>\n",
       "  </tbody>\n",
       "</table>\n",
       "</div>"
      ],
      "text/plain": [
       "   messages_included  mb_per_month_included  minutes_included  \\\n",
       "0                 50                  15360               500   \n",
       "1               1000                  30720              3000   \n",
       "\n",
       "   rub_monthly_fee  rub_per_gb  rub_per_message  rub_per_minute tariff_name  \n",
       "0              550         200                3               3       smart  \n",
       "1             1950         150                1               1       ultra  "
      ]
     },
     "execution_count": 21,
     "metadata": {},
     "output_type": "execute_result"
    }
   ],
   "source": [
    "tariffs.head()"
   ]
  },
  {
   "cell_type": "code",
   "execution_count": 22,
   "metadata": {},
   "outputs": [
    {
     "data": {
      "text/html": [
       "<div>\n",
       "<style scoped>\n",
       "    .dataframe tbody tr th:only-of-type {\n",
       "        vertical-align: middle;\n",
       "    }\n",
       "\n",
       "    .dataframe tbody tr th {\n",
       "        vertical-align: top;\n",
       "    }\n",
       "\n",
       "    .dataframe thead th {\n",
       "        text-align: right;\n",
       "    }\n",
       "</style>\n",
       "<table border=\"1\" class=\"dataframe\">\n",
       "  <thead>\n",
       "    <tr style=\"text-align: right;\">\n",
       "      <th></th>\n",
       "      <th>messages_included</th>\n",
       "      <th>mb_per_month_included</th>\n",
       "      <th>minutes_included</th>\n",
       "      <th>rub_monthly_fee</th>\n",
       "      <th>rub_per_gb</th>\n",
       "      <th>rub_per_message</th>\n",
       "      <th>rub_per_minute</th>\n",
       "    </tr>\n",
       "  </thead>\n",
       "  <tbody>\n",
       "    <tr>\n",
       "      <th>count</th>\n",
       "      <td>2.00</td>\n",
       "      <td>2.00</td>\n",
       "      <td>2.00</td>\n",
       "      <td>2.00</td>\n",
       "      <td>2.00</td>\n",
       "      <td>2.00</td>\n",
       "      <td>2.00</td>\n",
       "    </tr>\n",
       "    <tr>\n",
       "      <th>mean</th>\n",
       "      <td>525.00</td>\n",
       "      <td>23,040.00</td>\n",
       "      <td>1,750.00</td>\n",
       "      <td>1,250.00</td>\n",
       "      <td>175.00</td>\n",
       "      <td>2.00</td>\n",
       "      <td>2.00</td>\n",
       "    </tr>\n",
       "    <tr>\n",
       "      <th>std</th>\n",
       "      <td>671.75</td>\n",
       "      <td>10,861.16</td>\n",
       "      <td>1,767.77</td>\n",
       "      <td>989.95</td>\n",
       "      <td>35.36</td>\n",
       "      <td>1.41</td>\n",
       "      <td>1.41</td>\n",
       "    </tr>\n",
       "    <tr>\n",
       "      <th>min</th>\n",
       "      <td>50.00</td>\n",
       "      <td>15,360.00</td>\n",
       "      <td>500.00</td>\n",
       "      <td>550.00</td>\n",
       "      <td>150.00</td>\n",
       "      <td>1.00</td>\n",
       "      <td>1.00</td>\n",
       "    </tr>\n",
       "    <tr>\n",
       "      <th>25%</th>\n",
       "      <td>287.50</td>\n",
       "      <td>19,200.00</td>\n",
       "      <td>1,125.00</td>\n",
       "      <td>900.00</td>\n",
       "      <td>162.50</td>\n",
       "      <td>1.50</td>\n",
       "      <td>1.50</td>\n",
       "    </tr>\n",
       "    <tr>\n",
       "      <th>50%</th>\n",
       "      <td>525.00</td>\n",
       "      <td>23,040.00</td>\n",
       "      <td>1,750.00</td>\n",
       "      <td>1,250.00</td>\n",
       "      <td>175.00</td>\n",
       "      <td>2.00</td>\n",
       "      <td>2.00</td>\n",
       "    </tr>\n",
       "    <tr>\n",
       "      <th>75%</th>\n",
       "      <td>762.50</td>\n",
       "      <td>26,880.00</td>\n",
       "      <td>2,375.00</td>\n",
       "      <td>1,600.00</td>\n",
       "      <td>187.50</td>\n",
       "      <td>2.50</td>\n",
       "      <td>2.50</td>\n",
       "    </tr>\n",
       "    <tr>\n",
       "      <th>max</th>\n",
       "      <td>1,000.00</td>\n",
       "      <td>30,720.00</td>\n",
       "      <td>3,000.00</td>\n",
       "      <td>1,950.00</td>\n",
       "      <td>200.00</td>\n",
       "      <td>3.00</td>\n",
       "      <td>3.00</td>\n",
       "    </tr>\n",
       "  </tbody>\n",
       "</table>\n",
       "</div>"
      ],
      "text/plain": [
       "       messages_included  mb_per_month_included  minutes_included  \\\n",
       "count               2.00                   2.00              2.00   \n",
       "mean              525.00              23,040.00          1,750.00   \n",
       "std               671.75              10,861.16          1,767.77   \n",
       "min                50.00              15,360.00            500.00   \n",
       "25%               287.50              19,200.00          1,125.00   \n",
       "50%               525.00              23,040.00          1,750.00   \n",
       "75%               762.50              26,880.00          2,375.00   \n",
       "max             1,000.00              30,720.00          3,000.00   \n",
       "\n",
       "       rub_monthly_fee  rub_per_gb  rub_per_message  rub_per_minute  \n",
       "count             2.00        2.00             2.00            2.00  \n",
       "mean          1,250.00      175.00             2.00            2.00  \n",
       "std             989.95       35.36             1.41            1.41  \n",
       "min             550.00      150.00             1.00            1.00  \n",
       "25%             900.00      162.50             1.50            1.50  \n",
       "50%           1,250.00      175.00             2.00            2.00  \n",
       "75%           1,600.00      187.50             2.50            2.50  \n",
       "max           1,950.00      200.00             3.00            3.00  "
      ]
     },
     "execution_count": 22,
     "metadata": {},
     "output_type": "execute_result"
    }
   ],
   "source": [
    "tariffs.describe()"
   ]
  },
  {
   "cell_type": "code",
   "execution_count": 23,
   "metadata": {},
   "outputs": [
    {
     "name": "stdout",
     "output_type": "stream",
     "text": [
      "<class 'pandas.core.frame.DataFrame'>\n",
      "RangeIndex: 2 entries, 0 to 1\n",
      "Data columns (total 8 columns):\n",
      " #   Column                 Non-Null Count  Dtype \n",
      "---  ------                 --------------  ----- \n",
      " 0   messages_included      2 non-null      int64 \n",
      " 1   mb_per_month_included  2 non-null      int64 \n",
      " 2   minutes_included       2 non-null      int64 \n",
      " 3   rub_monthly_fee        2 non-null      int64 \n",
      " 4   rub_per_gb             2 non-null      int64 \n",
      " 5   rub_per_message        2 non-null      int64 \n",
      " 6   rub_per_minute         2 non-null      int64 \n",
      " 7   tariff_name            2 non-null      object\n",
      "dtypes: int64(7), object(1)\n",
      "memory usage: 256.0+ bytes\n"
     ]
    }
   ],
   "source": [
    "tariffs.info()"
   ]
  },
  {
   "cell_type": "markdown",
   "metadata": {},
   "source": [
    "### Данные из Пользователи"
   ]
  },
  {
   "cell_type": "code",
   "execution_count": 24,
   "metadata": {},
   "outputs": [
    {
     "data": {
      "text/html": [
       "<div>\n",
       "<style scoped>\n",
       "    .dataframe tbody tr th:only-of-type {\n",
       "        vertical-align: middle;\n",
       "    }\n",
       "\n",
       "    .dataframe tbody tr th {\n",
       "        vertical-align: top;\n",
       "    }\n",
       "\n",
       "    .dataframe thead th {\n",
       "        text-align: right;\n",
       "    }\n",
       "</style>\n",
       "<table border=\"1\" class=\"dataframe\">\n",
       "  <thead>\n",
       "    <tr style=\"text-align: right;\">\n",
       "      <th></th>\n",
       "      <th>user_id</th>\n",
       "      <th>age</th>\n",
       "      <th>churn_date</th>\n",
       "      <th>city</th>\n",
       "      <th>first_name</th>\n",
       "      <th>last_name</th>\n",
       "      <th>reg_date</th>\n",
       "      <th>tariff</th>\n",
       "    </tr>\n",
       "  </thead>\n",
       "  <tbody>\n",
       "    <tr>\n",
       "      <th>0</th>\n",
       "      <td>1000</td>\n",
       "      <td>52</td>\n",
       "      <td>NaN</td>\n",
       "      <td>Краснодар</td>\n",
       "      <td>Рафаил</td>\n",
       "      <td>Верещагин</td>\n",
       "      <td>2018-05-25</td>\n",
       "      <td>ultra</td>\n",
       "    </tr>\n",
       "    <tr>\n",
       "      <th>1</th>\n",
       "      <td>1001</td>\n",
       "      <td>41</td>\n",
       "      <td>NaN</td>\n",
       "      <td>Москва</td>\n",
       "      <td>Иван</td>\n",
       "      <td>Ежов</td>\n",
       "      <td>2018-11-01</td>\n",
       "      <td>smart</td>\n",
       "    </tr>\n",
       "    <tr>\n",
       "      <th>2</th>\n",
       "      <td>1002</td>\n",
       "      <td>59</td>\n",
       "      <td>NaN</td>\n",
       "      <td>Стерлитамак</td>\n",
       "      <td>Евгений</td>\n",
       "      <td>Абрамович</td>\n",
       "      <td>2018-06-17</td>\n",
       "      <td>smart</td>\n",
       "    </tr>\n",
       "    <tr>\n",
       "      <th>3</th>\n",
       "      <td>1003</td>\n",
       "      <td>23</td>\n",
       "      <td>NaN</td>\n",
       "      <td>Москва</td>\n",
       "      <td>Белла</td>\n",
       "      <td>Белякова</td>\n",
       "      <td>2018-08-17</td>\n",
       "      <td>ultra</td>\n",
       "    </tr>\n",
       "    <tr>\n",
       "      <th>4</th>\n",
       "      <td>1004</td>\n",
       "      <td>68</td>\n",
       "      <td>NaN</td>\n",
       "      <td>Новокузнецк</td>\n",
       "      <td>Татьяна</td>\n",
       "      <td>Авдеенко</td>\n",
       "      <td>2018-05-14</td>\n",
       "      <td>ultra</td>\n",
       "    </tr>\n",
       "  </tbody>\n",
       "</table>\n",
       "</div>"
      ],
      "text/plain": [
       "   user_id  age churn_date         city first_name  last_name    reg_date  \\\n",
       "0     1000   52        NaN    Краснодар     Рафаил  Верещагин  2018-05-25   \n",
       "1     1001   41        NaN       Москва       Иван       Ежов  2018-11-01   \n",
       "2     1002   59        NaN  Стерлитамак    Евгений  Абрамович  2018-06-17   \n",
       "3     1003   23        NaN       Москва      Белла   Белякова  2018-08-17   \n",
       "4     1004   68        NaN  Новокузнецк    Татьяна   Авдеенко  2018-05-14   \n",
       "\n",
       "  tariff  \n",
       "0  ultra  \n",
       "1  smart  \n",
       "2  smart  \n",
       "3  ultra  \n",
       "4  ultra  "
      ]
     },
     "execution_count": 24,
     "metadata": {},
     "output_type": "execute_result"
    }
   ],
   "source": [
    "users.head()"
   ]
  },
  {
   "cell_type": "code",
   "execution_count": 25,
   "metadata": {},
   "outputs": [
    {
     "data": {
      "text/html": [
       "<div>\n",
       "<style scoped>\n",
       "    .dataframe tbody tr th:only-of-type {\n",
       "        vertical-align: middle;\n",
       "    }\n",
       "\n",
       "    .dataframe tbody tr th {\n",
       "        vertical-align: top;\n",
       "    }\n",
       "\n",
       "    .dataframe thead th {\n",
       "        text-align: right;\n",
       "    }\n",
       "</style>\n",
       "<table border=\"1\" class=\"dataframe\">\n",
       "  <thead>\n",
       "    <tr style=\"text-align: right;\">\n",
       "      <th></th>\n",
       "      <th>user_id</th>\n",
       "      <th>age</th>\n",
       "    </tr>\n",
       "  </thead>\n",
       "  <tbody>\n",
       "    <tr>\n",
       "      <th>count</th>\n",
       "      <td>500.00</td>\n",
       "      <td>500.00</td>\n",
       "    </tr>\n",
       "    <tr>\n",
       "      <th>mean</th>\n",
       "      <td>1,249.50</td>\n",
       "      <td>46.59</td>\n",
       "    </tr>\n",
       "    <tr>\n",
       "      <th>std</th>\n",
       "      <td>144.48</td>\n",
       "      <td>16.67</td>\n",
       "    </tr>\n",
       "    <tr>\n",
       "      <th>min</th>\n",
       "      <td>1,000.00</td>\n",
       "      <td>18.00</td>\n",
       "    </tr>\n",
       "    <tr>\n",
       "      <th>25%</th>\n",
       "      <td>1,124.75</td>\n",
       "      <td>32.00</td>\n",
       "    </tr>\n",
       "    <tr>\n",
       "      <th>50%</th>\n",
       "      <td>1,249.50</td>\n",
       "      <td>46.00</td>\n",
       "    </tr>\n",
       "    <tr>\n",
       "      <th>75%</th>\n",
       "      <td>1,374.25</td>\n",
       "      <td>62.00</td>\n",
       "    </tr>\n",
       "    <tr>\n",
       "      <th>max</th>\n",
       "      <td>1,499.00</td>\n",
       "      <td>75.00</td>\n",
       "    </tr>\n",
       "  </tbody>\n",
       "</table>\n",
       "</div>"
      ],
      "text/plain": [
       "       user_id    age\n",
       "count   500.00 500.00\n",
       "mean  1,249.50  46.59\n",
       "std     144.48  16.67\n",
       "min   1,000.00  18.00\n",
       "25%   1,124.75  32.00\n",
       "50%   1,249.50  46.00\n",
       "75%   1,374.25  62.00\n",
       "max   1,499.00  75.00"
      ]
     },
     "execution_count": 25,
     "metadata": {},
     "output_type": "execute_result"
    }
   ],
   "source": [
    "users.describe()"
   ]
  },
  {
   "cell_type": "code",
   "execution_count": 26,
   "metadata": {},
   "outputs": [
    {
     "name": "stdout",
     "output_type": "stream",
     "text": [
      "<class 'pandas.core.frame.DataFrame'>\n",
      "RangeIndex: 500 entries, 0 to 499\n",
      "Data columns (total 8 columns):\n",
      " #   Column      Non-Null Count  Dtype \n",
      "---  ------      --------------  ----- \n",
      " 0   user_id     500 non-null    int64 \n",
      " 1   age         500 non-null    int64 \n",
      " 2   churn_date  38 non-null     object\n",
      " 3   city        500 non-null    object\n",
      " 4   first_name  500 non-null    object\n",
      " 5   last_name   500 non-null    object\n",
      " 6   reg_date    500 non-null    object\n",
      " 7   tariff      500 non-null    object\n",
      "dtypes: int64(2), object(6)\n",
      "memory usage: 31.4+ KB\n"
     ]
    }
   ],
   "source": [
    "users.info()"
   ]
  },
  {
   "cell_type": "code",
   "execution_count": 27,
   "metadata": {},
   "outputs": [],
   "source": [
    "users['churn_date'] = pd.to_datetime(users['churn_date'], format=\"%Y-%m-%d\")\n",
    "users['reg_date'] = pd.to_datetime(users['reg_date'], format=\"%Y-%m-%d\")"
   ]
  },
  {
   "cell_type": "code",
   "execution_count": 28,
   "metadata": {},
   "outputs": [
    {
     "name": "stdout",
     "output_type": "stream",
     "text": [
      "<class 'pandas.core.frame.DataFrame'>\n",
      "RangeIndex: 500 entries, 0 to 499\n",
      "Data columns (total 8 columns):\n",
      " #   Column      Non-Null Count  Dtype         \n",
      "---  ------      --------------  -----         \n",
      " 0   user_id     500 non-null    int64         \n",
      " 1   age         500 non-null    int64         \n",
      " 2   churn_date  38 non-null     datetime64[ns]\n",
      " 3   city        500 non-null    object        \n",
      " 4   first_name  500 non-null    object        \n",
      " 5   last_name   500 non-null    object        \n",
      " 6   reg_date    500 non-null    datetime64[ns]\n",
      " 7   tariff      500 non-null    object        \n",
      "dtypes: datetime64[ns](2), int64(2), object(4)\n",
      "memory usage: 31.4+ KB\n"
     ]
    }
   ],
   "source": [
    "users.info()"
   ]
  },
  {
   "cell_type": "code",
   "execution_count": 29,
   "metadata": {},
   "outputs": [
    {
     "data": {
      "text/plain": [
       "0"
      ]
     },
     "execution_count": 29,
     "metadata": {},
     "output_type": "execute_result"
    }
   ],
   "source": [
    "calls.duplicated().sum()"
   ]
  },
  {
   "cell_type": "code",
   "execution_count": 30,
   "metadata": {},
   "outputs": [
    {
     "data": {
      "text/plain": [
       "0"
      ]
     },
     "execution_count": 30,
     "metadata": {},
     "output_type": "execute_result"
    }
   ],
   "source": [
    "messages.duplicated().sum()"
   ]
  },
  {
   "cell_type": "code",
   "execution_count": 31,
   "metadata": {},
   "outputs": [
    {
     "data": {
      "text/plain": [
       "0"
      ]
     },
     "execution_count": 31,
     "metadata": {},
     "output_type": "execute_result"
    }
   ],
   "source": [
    "internet.duplicated().sum()"
   ]
  },
  {
   "cell_type": "code",
   "execution_count": 32,
   "metadata": {},
   "outputs": [
    {
     "data": {
      "text/plain": [
       "0"
      ]
     },
     "execution_count": 32,
     "metadata": {},
     "output_type": "execute_result"
    }
   ],
   "source": [
    "tariffs.duplicated().sum()"
   ]
  },
  {
   "cell_type": "code",
   "execution_count": 33,
   "metadata": {},
   "outputs": [
    {
     "data": {
      "text/plain": [
       "0"
      ]
     },
     "execution_count": 33,
     "metadata": {},
     "output_type": "execute_result"
    }
   ],
   "source": [
    "users.duplicated().sum()"
   ]
  },
  {
   "cell_type": "markdown",
   "metadata": {},
   "source": [
    "#### Вывод\n",
    "\n",
    "    - Формат дат приведен к нужному типу\n",
    "    - Явные дубликаты не обнаружены\n",
    "    - Пропуски не обнаружены"
   ]
  },
  {
   "cell_type": "markdown",
   "metadata": {},
   "source": [
    "## Исследовательский анализ данных"
   ]
  },
  {
   "cell_type": "markdown",
   "metadata": {},
   "source": [
    "<br> Произведем расчет:\n",
    "<br> - количество сделанных звонков и израсходованных минут разговора по месяцам;\n",
    "<br> - количество отправленных сообщений по месяцам;\n",
    "<br> - объем израсходованного интернет-трафика по месяцам;\n",
    "<br> - помесячную выручку с каждого пользователя (вычтите бесплатный лимит из суммарного количества звонков, сообщений и интернет-трафика; остаток умножьте на значение из тарифного плана; прибавьте абонентскую плату, соответствующую тарифному плану)"
   ]
  },
  {
   "cell_type": "markdown",
   "metadata": {},
   "source": [
    "### **Вычислим количество сделанных звонков и израсходованных минут разговора по месяцам**"
   ]
  },
  {
   "cell_type": "code",
   "execution_count": 34,
   "metadata": {},
   "outputs": [
    {
     "data": {
      "text/html": [
       "<div>\n",
       "<style scoped>\n",
       "    .dataframe tbody tr th:only-of-type {\n",
       "        vertical-align: middle;\n",
       "    }\n",
       "\n",
       "    .dataframe tbody tr th {\n",
       "        vertical-align: top;\n",
       "    }\n",
       "\n",
       "    .dataframe thead th {\n",
       "        text-align: right;\n",
       "    }\n",
       "</style>\n",
       "<table border=\"1\" class=\"dataframe\">\n",
       "  <thead>\n",
       "    <tr style=\"text-align: right;\">\n",
       "      <th></th>\n",
       "      <th>id</th>\n",
       "      <th>call_date</th>\n",
       "      <th>duration</th>\n",
       "      <th>user_id</th>\n",
       "      <th>month</th>\n",
       "    </tr>\n",
       "  </thead>\n",
       "  <tbody>\n",
       "    <tr>\n",
       "      <th>0</th>\n",
       "      <td>10000</td>\n",
       "      <td>2018-07-25</td>\n",
       "      <td>0</td>\n",
       "      <td>1000</td>\n",
       "      <td>July</td>\n",
       "    </tr>\n",
       "    <tr>\n",
       "      <th>1</th>\n",
       "      <td>10001</td>\n",
       "      <td>2018-08-17</td>\n",
       "      <td>0</td>\n",
       "      <td>1000</td>\n",
       "      <td>August</td>\n",
       "    </tr>\n",
       "    <tr>\n",
       "      <th>2</th>\n",
       "      <td>10002</td>\n",
       "      <td>2018-06-11</td>\n",
       "      <td>3</td>\n",
       "      <td>1000</td>\n",
       "      <td>June</td>\n",
       "    </tr>\n",
       "    <tr>\n",
       "      <th>3</th>\n",
       "      <td>10003</td>\n",
       "      <td>2018-09-21</td>\n",
       "      <td>14</td>\n",
       "      <td>1000</td>\n",
       "      <td>September</td>\n",
       "    </tr>\n",
       "    <tr>\n",
       "      <th>4</th>\n",
       "      <td>10004</td>\n",
       "      <td>2018-12-15</td>\n",
       "      <td>6</td>\n",
       "      <td>1000</td>\n",
       "      <td>December</td>\n",
       "    </tr>\n",
       "  </tbody>\n",
       "</table>\n",
       "</div>"
      ],
      "text/plain": [
       "      id  call_date  duration  user_id      month\n",
       "0  10000 2018-07-25         0     1000       July\n",
       "1  10001 2018-08-17         0     1000     August\n",
       "2  10002 2018-06-11         3     1000       June\n",
       "3  10003 2018-09-21        14     1000  September\n",
       "4  10004 2018-12-15         6     1000   December"
      ]
     },
     "execution_count": 34,
     "metadata": {},
     "output_type": "execute_result"
    }
   ],
   "source": [
    "calls['month'] = calls['call_date'].dt.month_name()\n",
    "calls.head(5)"
   ]
  },
  {
   "cell_type": "code",
   "execution_count": 35,
   "metadata": {},
   "outputs": [],
   "source": [
    "users_calls = calls.groupby(['user_id', 'month'])\\\n",
    "                  .agg({'duration':'sum', 'id':'count'})\\\n",
    "                  .reset_index()\\\n",
    "                  .rename(columns={'duration':'month_calls_duration','id':'month_calls_total'})\n"
   ]
  },
  {
   "cell_type": "code",
   "execution_count": 36,
   "metadata": {},
   "outputs": [
    {
     "data": {
      "text/html": [
       "<div>\n",
       "<style scoped>\n",
       "    .dataframe tbody tr th:only-of-type {\n",
       "        vertical-align: middle;\n",
       "    }\n",
       "\n",
       "    .dataframe tbody tr th {\n",
       "        vertical-align: top;\n",
       "    }\n",
       "\n",
       "    .dataframe thead th {\n",
       "        text-align: right;\n",
       "    }\n",
       "</style>\n",
       "<table border=\"1\" class=\"dataframe\">\n",
       "  <thead>\n",
       "    <tr style=\"text-align: right;\">\n",
       "      <th></th>\n",
       "      <th>user_id</th>\n",
       "      <th>month</th>\n",
       "      <th>month_calls_duration</th>\n",
       "      <th>month_calls_total</th>\n",
       "    </tr>\n",
       "  </thead>\n",
       "  <tbody>\n",
       "    <tr>\n",
       "      <th>0</th>\n",
       "      <td>1000</td>\n",
       "      <td>August</td>\n",
       "      <td>408</td>\n",
       "      <td>52</td>\n",
       "    </tr>\n",
       "    <tr>\n",
       "      <th>1</th>\n",
       "      <td>1000</td>\n",
       "      <td>December</td>\n",
       "      <td>333</td>\n",
       "      <td>46</td>\n",
       "    </tr>\n",
       "    <tr>\n",
       "      <th>2</th>\n",
       "      <td>1000</td>\n",
       "      <td>July</td>\n",
       "      <td>340</td>\n",
       "      <td>47</td>\n",
       "    </tr>\n",
       "    <tr>\n",
       "      <th>3</th>\n",
       "      <td>1000</td>\n",
       "      <td>June</td>\n",
       "      <td>172</td>\n",
       "      <td>43</td>\n",
       "    </tr>\n",
       "    <tr>\n",
       "      <th>4</th>\n",
       "      <td>1000</td>\n",
       "      <td>May</td>\n",
       "      <td>159</td>\n",
       "      <td>22</td>\n",
       "    </tr>\n",
       "    <tr>\n",
       "      <th>5</th>\n",
       "      <td>1000</td>\n",
       "      <td>November</td>\n",
       "      <td>338</td>\n",
       "      <td>43</td>\n",
       "    </tr>\n",
       "    <tr>\n",
       "      <th>6</th>\n",
       "      <td>1000</td>\n",
       "      <td>October</td>\n",
       "      <td>350</td>\n",
       "      <td>57</td>\n",
       "    </tr>\n",
       "    <tr>\n",
       "      <th>7</th>\n",
       "      <td>1000</td>\n",
       "      <td>September</td>\n",
       "      <td>466</td>\n",
       "      <td>58</td>\n",
       "    </tr>\n",
       "    <tr>\n",
       "      <th>8</th>\n",
       "      <td>1001</td>\n",
       "      <td>December</td>\n",
       "      <td>414</td>\n",
       "      <td>63</td>\n",
       "    </tr>\n",
       "    <tr>\n",
       "      <th>9</th>\n",
       "      <td>1001</td>\n",
       "      <td>November</td>\n",
       "      <td>430</td>\n",
       "      <td>59</td>\n",
       "    </tr>\n",
       "  </tbody>\n",
       "</table>\n",
       "</div>"
      ],
      "text/plain": [
       "   user_id      month  month_calls_duration  month_calls_total\n",
       "0     1000     August                   408                 52\n",
       "1     1000   December                   333                 46\n",
       "2     1000       July                   340                 47\n",
       "3     1000       June                   172                 43\n",
       "4     1000        May                   159                 22\n",
       "5     1000   November                   338                 43\n",
       "6     1000    October                   350                 57\n",
       "7     1000  September                   466                 58\n",
       "8     1001   December                   414                 63\n",
       "9     1001   November                   430                 59"
      ]
     },
     "execution_count": 36,
     "metadata": {},
     "output_type": "execute_result"
    }
   ],
   "source": [
    "users_calls.head(10)"
   ]
  },
  {
   "cell_type": "markdown",
   "metadata": {},
   "source": [
    "### **Вычислим количество отправленных сообщений по месяцам**"
   ]
  },
  {
   "cell_type": "code",
   "execution_count": 37,
   "metadata": {},
   "outputs": [
    {
     "data": {
      "text/html": [
       "<div>\n",
       "<style scoped>\n",
       "    .dataframe tbody tr th:only-of-type {\n",
       "        vertical-align: middle;\n",
       "    }\n",
       "\n",
       "    .dataframe tbody tr th {\n",
       "        vertical-align: top;\n",
       "    }\n",
       "\n",
       "    .dataframe thead th {\n",
       "        text-align: right;\n",
       "    }\n",
       "</style>\n",
       "<table border=\"1\" class=\"dataframe\">\n",
       "  <thead>\n",
       "    <tr style=\"text-align: right;\">\n",
       "      <th></th>\n",
       "      <th>id</th>\n",
       "      <th>message_date</th>\n",
       "      <th>user_id</th>\n",
       "      <th>month</th>\n",
       "    </tr>\n",
       "  </thead>\n",
       "  <tbody>\n",
       "    <tr>\n",
       "      <th>0</th>\n",
       "      <td>10000</td>\n",
       "      <td>2018-06-27</td>\n",
       "      <td>1000</td>\n",
       "      <td>June</td>\n",
       "    </tr>\n",
       "    <tr>\n",
       "      <th>1</th>\n",
       "      <td>10001</td>\n",
       "      <td>2018-10-08</td>\n",
       "      <td>1000</td>\n",
       "      <td>October</td>\n",
       "    </tr>\n",
       "    <tr>\n",
       "      <th>2</th>\n",
       "      <td>10002</td>\n",
       "      <td>2018-08-04</td>\n",
       "      <td>1000</td>\n",
       "      <td>August</td>\n",
       "    </tr>\n",
       "    <tr>\n",
       "      <th>3</th>\n",
       "      <td>10003</td>\n",
       "      <td>2018-06-16</td>\n",
       "      <td>1000</td>\n",
       "      <td>June</td>\n",
       "    </tr>\n",
       "    <tr>\n",
       "      <th>4</th>\n",
       "      <td>10004</td>\n",
       "      <td>2018-12-05</td>\n",
       "      <td>1000</td>\n",
       "      <td>December</td>\n",
       "    </tr>\n",
       "  </tbody>\n",
       "</table>\n",
       "</div>"
      ],
      "text/plain": [
       "      id message_date  user_id     month\n",
       "0  10000   2018-06-27     1000      June\n",
       "1  10001   2018-10-08     1000   October\n",
       "2  10002   2018-08-04     1000    August\n",
       "3  10003   2018-06-16     1000      June\n",
       "4  10004   2018-12-05     1000  December"
      ]
     },
     "execution_count": 37,
     "metadata": {},
     "output_type": "execute_result"
    }
   ],
   "source": [
    "messages['month'] = messages['message_date'].dt.month_name()\n",
    "messages.head()"
   ]
  },
  {
   "cell_type": "code",
   "execution_count": 38,
   "metadata": {},
   "outputs": [],
   "source": [
    "users_messages = messages.groupby(['user_id', 'month'])\\\n",
    "                  .agg({'id':'count'})\\\n",
    "                  .reset_index()\\\n",
    "                  .rename(columns={'id':'month_messages_total'})\n"
   ]
  },
  {
   "cell_type": "code",
   "execution_count": 39,
   "metadata": {},
   "outputs": [
    {
     "data": {
      "text/html": [
       "<div>\n",
       "<style scoped>\n",
       "    .dataframe tbody tr th:only-of-type {\n",
       "        vertical-align: middle;\n",
       "    }\n",
       "\n",
       "    .dataframe tbody tr th {\n",
       "        vertical-align: top;\n",
       "    }\n",
       "\n",
       "    .dataframe thead th {\n",
       "        text-align: right;\n",
       "    }\n",
       "</style>\n",
       "<table border=\"1\" class=\"dataframe\">\n",
       "  <thead>\n",
       "    <tr style=\"text-align: right;\">\n",
       "      <th></th>\n",
       "      <th>user_id</th>\n",
       "      <th>month</th>\n",
       "      <th>month_messages_total</th>\n",
       "    </tr>\n",
       "  </thead>\n",
       "  <tbody>\n",
       "    <tr>\n",
       "      <th>0</th>\n",
       "      <td>1000</td>\n",
       "      <td>August</td>\n",
       "      <td>81</td>\n",
       "    </tr>\n",
       "    <tr>\n",
       "      <th>1</th>\n",
       "      <td>1000</td>\n",
       "      <td>December</td>\n",
       "      <td>70</td>\n",
       "    </tr>\n",
       "    <tr>\n",
       "      <th>2</th>\n",
       "      <td>1000</td>\n",
       "      <td>July</td>\n",
       "      <td>75</td>\n",
       "    </tr>\n",
       "    <tr>\n",
       "      <th>3</th>\n",
       "      <td>1000</td>\n",
       "      <td>June</td>\n",
       "      <td>60</td>\n",
       "    </tr>\n",
       "    <tr>\n",
       "      <th>4</th>\n",
       "      <td>1000</td>\n",
       "      <td>May</td>\n",
       "      <td>22</td>\n",
       "    </tr>\n",
       "  </tbody>\n",
       "</table>\n",
       "</div>"
      ],
      "text/plain": [
       "   user_id     month  month_messages_total\n",
       "0     1000    August                    81\n",
       "1     1000  December                    70\n",
       "2     1000      July                    75\n",
       "3     1000      June                    60\n",
       "4     1000       May                    22"
      ]
     },
     "execution_count": 39,
     "metadata": {},
     "output_type": "execute_result"
    }
   ],
   "source": [
    "users_messages.head()"
   ]
  },
  {
   "cell_type": "markdown",
   "metadata": {},
   "source": [
    "### **Вычислим объем израсходованного интернет-трафика по месяцам**"
   ]
  },
  {
   "cell_type": "code",
   "execution_count": 40,
   "metadata": {},
   "outputs": [
    {
     "data": {
      "text/html": [
       "<div>\n",
       "<style scoped>\n",
       "    .dataframe tbody tr th:only-of-type {\n",
       "        vertical-align: middle;\n",
       "    }\n",
       "\n",
       "    .dataframe tbody tr th {\n",
       "        vertical-align: top;\n",
       "    }\n",
       "\n",
       "    .dataframe thead th {\n",
       "        text-align: right;\n",
       "    }\n",
       "</style>\n",
       "<table border=\"1\" class=\"dataframe\">\n",
       "  <thead>\n",
       "    <tr style=\"text-align: right;\">\n",
       "      <th></th>\n",
       "      <th>Unnamed: 0</th>\n",
       "      <th>id</th>\n",
       "      <th>mb_used</th>\n",
       "      <th>session_date</th>\n",
       "      <th>user_id</th>\n",
       "      <th>month</th>\n",
       "    </tr>\n",
       "  </thead>\n",
       "  <tbody>\n",
       "    <tr>\n",
       "      <th>0</th>\n",
       "      <td>0</td>\n",
       "      <td>10000</td>\n",
       "      <td>112.95</td>\n",
       "      <td>2018-11-25</td>\n",
       "      <td>1000</td>\n",
       "      <td>November</td>\n",
       "    </tr>\n",
       "    <tr>\n",
       "      <th>1</th>\n",
       "      <td>1</td>\n",
       "      <td>10001</td>\n",
       "      <td>1,052.81</td>\n",
       "      <td>2018-09-07</td>\n",
       "      <td>1000</td>\n",
       "      <td>September</td>\n",
       "    </tr>\n",
       "    <tr>\n",
       "      <th>2</th>\n",
       "      <td>2</td>\n",
       "      <td>10002</td>\n",
       "      <td>1,197.26</td>\n",
       "      <td>2018-06-25</td>\n",
       "      <td>1000</td>\n",
       "      <td>June</td>\n",
       "    </tr>\n",
       "    <tr>\n",
       "      <th>3</th>\n",
       "      <td>3</td>\n",
       "      <td>10003</td>\n",
       "      <td>550.27</td>\n",
       "      <td>2018-08-22</td>\n",
       "      <td>1000</td>\n",
       "      <td>August</td>\n",
       "    </tr>\n",
       "    <tr>\n",
       "      <th>4</th>\n",
       "      <td>4</td>\n",
       "      <td>10004</td>\n",
       "      <td>302.56</td>\n",
       "      <td>2018-09-24</td>\n",
       "      <td>1000</td>\n",
       "      <td>September</td>\n",
       "    </tr>\n",
       "  </tbody>\n",
       "</table>\n",
       "</div>"
      ],
      "text/plain": [
       "   Unnamed: 0     id  mb_used session_date  user_id      month\n",
       "0           0  10000   112.95   2018-11-25     1000   November\n",
       "1           1  10001 1,052.81   2018-09-07     1000  September\n",
       "2           2  10002 1,197.26   2018-06-25     1000       June\n",
       "3           3  10003   550.27   2018-08-22     1000     August\n",
       "4           4  10004   302.56   2018-09-24     1000  September"
      ]
     },
     "execution_count": 40,
     "metadata": {},
     "output_type": "execute_result"
    }
   ],
   "source": [
    "\n",
    "internet['month'] = internet['session_date'].dt.month_name()\n",
    "internet.head()"
   ]
  },
  {
   "cell_type": "code",
   "execution_count": 41,
   "metadata": {},
   "outputs": [],
   "source": [
    "\n",
    "users_internet = internet.groupby(['user_id', 'month'])\\\n",
    "                         .agg({'mb_used':'sum'})\\\n",
    "                         .reset_index()\\\n",
    "                         .rename(columns={'mb_used':'month_mb_total'})\n",
    "                      \n"
   ]
  },
  {
   "cell_type": "code",
   "execution_count": 42,
   "metadata": {},
   "outputs": [
    {
     "data": {
      "text/html": [
       "<div>\n",
       "<style scoped>\n",
       "    .dataframe tbody tr th:only-of-type {\n",
       "        vertical-align: middle;\n",
       "    }\n",
       "\n",
       "    .dataframe tbody tr th {\n",
       "        vertical-align: top;\n",
       "    }\n",
       "\n",
       "    .dataframe thead th {\n",
       "        text-align: right;\n",
       "    }\n",
       "</style>\n",
       "<table border=\"1\" class=\"dataframe\">\n",
       "  <thead>\n",
       "    <tr style=\"text-align: right;\">\n",
       "      <th></th>\n",
       "      <th>user_id</th>\n",
       "      <th>month</th>\n",
       "      <th>month_mb_total</th>\n",
       "    </tr>\n",
       "  </thead>\n",
       "  <tbody>\n",
       "    <tr>\n",
       "      <th>0</th>\n",
       "      <td>1000</td>\n",
       "      <td>August</td>\n",
       "      <td>14,055.93</td>\n",
       "    </tr>\n",
       "    <tr>\n",
       "      <th>1</th>\n",
       "      <td>1000</td>\n",
       "      <td>December</td>\n",
       "      <td>9,817.61</td>\n",
       "    </tr>\n",
       "    <tr>\n",
       "      <th>2</th>\n",
       "      <td>1000</td>\n",
       "      <td>July</td>\n",
       "      <td>14,003.64</td>\n",
       "    </tr>\n",
       "    <tr>\n",
       "      <th>3</th>\n",
       "      <td>1000</td>\n",
       "      <td>June</td>\n",
       "      <td>23,233.77</td>\n",
       "    </tr>\n",
       "    <tr>\n",
       "      <th>4</th>\n",
       "      <td>1000</td>\n",
       "      <td>May</td>\n",
       "      <td>2,253.49</td>\n",
       "    </tr>\n",
       "  </tbody>\n",
       "</table>\n",
       "</div>"
      ],
      "text/plain": [
       "   user_id     month  month_mb_total\n",
       "0     1000    August       14,055.93\n",
       "1     1000  December        9,817.61\n",
       "2     1000      July       14,003.64\n",
       "3     1000      June       23,233.77\n",
       "4     1000       May        2,253.49"
      ]
     },
     "execution_count": 42,
     "metadata": {},
     "output_type": "execute_result"
    }
   ],
   "source": [
    "users_internet.head()"
   ]
  },
  {
   "cell_type": "markdown",
   "metadata": {},
   "source": [
    "### **Вычислим помесячную выручку с каждого пользователя (вычтите бесплатный лимит из суммарного количества звонков, сообщений и интернет-трафика; остаток умножьте на значение из тарифного плана; прибавьте абонентскую плату, соответствующую тарифному плану)**"
   ]
  },
  {
   "cell_type": "code",
   "execution_count": 43,
   "metadata": {},
   "outputs": [
    {
     "data": {
      "text/html": [
       "<div>\n",
       "<style scoped>\n",
       "    .dataframe tbody tr th:only-of-type {\n",
       "        vertical-align: middle;\n",
       "    }\n",
       "\n",
       "    .dataframe tbody tr th {\n",
       "        vertical-align: top;\n",
       "    }\n",
       "\n",
       "    .dataframe thead th {\n",
       "        text-align: right;\n",
       "    }\n",
       "</style>\n",
       "<table border=\"1\" class=\"dataframe\">\n",
       "  <thead>\n",
       "    <tr style=\"text-align: right;\">\n",
       "      <th></th>\n",
       "      <th>user_id</th>\n",
       "      <th>month</th>\n",
       "      <th>month_calls_duration</th>\n",
       "      <th>month_calls_total</th>\n",
       "      <th>month_messages_total</th>\n",
       "      <th>month_mb_total</th>\n",
       "    </tr>\n",
       "  </thead>\n",
       "  <tbody>\n",
       "    <tr>\n",
       "      <th>0</th>\n",
       "      <td>1000</td>\n",
       "      <td>August</td>\n",
       "      <td>408.00</td>\n",
       "      <td>52.00</td>\n",
       "      <td>81.00</td>\n",
       "      <td>14,055.93</td>\n",
       "    </tr>\n",
       "    <tr>\n",
       "      <th>1</th>\n",
       "      <td>1000</td>\n",
       "      <td>December</td>\n",
       "      <td>333.00</td>\n",
       "      <td>46.00</td>\n",
       "      <td>70.00</td>\n",
       "      <td>9,817.61</td>\n",
       "    </tr>\n",
       "    <tr>\n",
       "      <th>2</th>\n",
       "      <td>1000</td>\n",
       "      <td>July</td>\n",
       "      <td>340.00</td>\n",
       "      <td>47.00</td>\n",
       "      <td>75.00</td>\n",
       "      <td>14,003.64</td>\n",
       "    </tr>\n",
       "    <tr>\n",
       "      <th>3</th>\n",
       "      <td>1000</td>\n",
       "      <td>June</td>\n",
       "      <td>172.00</td>\n",
       "      <td>43.00</td>\n",
       "      <td>60.00</td>\n",
       "      <td>23,233.77</td>\n",
       "    </tr>\n",
       "    <tr>\n",
       "      <th>4</th>\n",
       "      <td>1000</td>\n",
       "      <td>May</td>\n",
       "      <td>159.00</td>\n",
       "      <td>22.00</td>\n",
       "      <td>22.00</td>\n",
       "      <td>2,253.49</td>\n",
       "    </tr>\n",
       "  </tbody>\n",
       "</table>\n",
       "</div>"
      ],
      "text/plain": [
       "   user_id     month  month_calls_duration  month_calls_total  \\\n",
       "0     1000    August                408.00              52.00   \n",
       "1     1000  December                333.00              46.00   \n",
       "2     1000      July                340.00              47.00   \n",
       "3     1000      June                172.00              43.00   \n",
       "4     1000       May                159.00              22.00   \n",
       "\n",
       "   month_messages_total  month_mb_total  \n",
       "0                 81.00       14,055.93  \n",
       "1                 70.00        9,817.61  \n",
       "2                 75.00       14,003.64  \n",
       "3                 60.00       23,233.77  \n",
       "4                 22.00        2,253.49  "
      ]
     },
     "execution_count": 43,
     "metadata": {},
     "output_type": "execute_result"
    }
   ],
   "source": [
    "#мердж'им таблицы\n",
    "df = users_calls.merge(users_messages, on=['user_id','month'], how='outer').merge(users_internet, on=['user_id','month'], how='outer')\n",
    "df.head()"
   ]
  },
  {
   "cell_type": "code",
   "execution_count": 44,
   "metadata": {},
   "outputs": [
    {
     "name": "stdout",
     "output_type": "stream",
     "text": [
      "<class 'pandas.core.frame.DataFrame'>\n",
      "RangeIndex: 2 entries, 0 to 1\n",
      "Data columns (total 8 columns):\n",
      " #   Column                 Non-Null Count  Dtype \n",
      "---  ------                 --------------  ----- \n",
      " 0   messages_included      2 non-null      int64 \n",
      " 1   mb_per_month_included  2 non-null      int64 \n",
      " 2   minutes_included       2 non-null      int64 \n",
      " 3   rub_monthly_fee        2 non-null      int64 \n",
      " 4   rub_per_gb             2 non-null      int64 \n",
      " 5   rub_per_message        2 non-null      int64 \n",
      " 6   rub_per_minute         2 non-null      int64 \n",
      " 7   tariff                 2 non-null      object\n",
      "dtypes: int64(7), object(1)\n",
      "memory usage: 256.0+ bytes\n"
     ]
    }
   ],
   "source": [
    "tariffs=tariffs.rename(columns={'tariff_name':'tariff'})\n",
    "tariffs.info()"
   ]
  },
  {
   "cell_type": "code",
   "execution_count": 45,
   "metadata": {},
   "outputs": [
    {
     "data": {
      "text/html": [
       "<div>\n",
       "<style scoped>\n",
       "    .dataframe tbody tr th:only-of-type {\n",
       "        vertical-align: middle;\n",
       "    }\n",
       "\n",
       "    .dataframe tbody tr th {\n",
       "        vertical-align: top;\n",
       "    }\n",
       "\n",
       "    .dataframe thead th {\n",
       "        text-align: right;\n",
       "    }\n",
       "</style>\n",
       "<table border=\"1\" class=\"dataframe\">\n",
       "  <thead>\n",
       "    <tr style=\"text-align: right;\">\n",
       "      <th></th>\n",
       "      <th>user_id</th>\n",
       "      <th>month</th>\n",
       "      <th>month_calls_duration</th>\n",
       "      <th>month_calls_total</th>\n",
       "      <th>month_messages_total</th>\n",
       "      <th>month_mb_total</th>\n",
       "      <th>age</th>\n",
       "      <th>churn_date</th>\n",
       "      <th>city</th>\n",
       "      <th>first_name</th>\n",
       "      <th>last_name</th>\n",
       "      <th>reg_date</th>\n",
       "      <th>tariff</th>\n",
       "      <th>messages_included</th>\n",
       "      <th>mb_per_month_included</th>\n",
       "      <th>minutes_included</th>\n",
       "      <th>rub_monthly_fee</th>\n",
       "      <th>rub_per_gb</th>\n",
       "      <th>rub_per_message</th>\n",
       "      <th>rub_per_minute</th>\n",
       "    </tr>\n",
       "  </thead>\n",
       "  <tbody>\n",
       "    <tr>\n",
       "      <th>0</th>\n",
       "      <td>1000</td>\n",
       "      <td>August</td>\n",
       "      <td>408.00</td>\n",
       "      <td>52.00</td>\n",
       "      <td>81.00</td>\n",
       "      <td>14,055.93</td>\n",
       "      <td>52</td>\n",
       "      <td>NaT</td>\n",
       "      <td>Краснодар</td>\n",
       "      <td>Рафаил</td>\n",
       "      <td>Верещагин</td>\n",
       "      <td>2018-05-25</td>\n",
       "      <td>ultra</td>\n",
       "      <td>1000</td>\n",
       "      <td>30720</td>\n",
       "      <td>3000</td>\n",
       "      <td>1950</td>\n",
       "      <td>150</td>\n",
       "      <td>1</td>\n",
       "      <td>1</td>\n",
       "    </tr>\n",
       "    <tr>\n",
       "      <th>1</th>\n",
       "      <td>1000</td>\n",
       "      <td>December</td>\n",
       "      <td>333.00</td>\n",
       "      <td>46.00</td>\n",
       "      <td>70.00</td>\n",
       "      <td>9,817.61</td>\n",
       "      <td>52</td>\n",
       "      <td>NaT</td>\n",
       "      <td>Краснодар</td>\n",
       "      <td>Рафаил</td>\n",
       "      <td>Верещагин</td>\n",
       "      <td>2018-05-25</td>\n",
       "      <td>ultra</td>\n",
       "      <td>1000</td>\n",
       "      <td>30720</td>\n",
       "      <td>3000</td>\n",
       "      <td>1950</td>\n",
       "      <td>150</td>\n",
       "      <td>1</td>\n",
       "      <td>1</td>\n",
       "    </tr>\n",
       "    <tr>\n",
       "      <th>2</th>\n",
       "      <td>1000</td>\n",
       "      <td>July</td>\n",
       "      <td>340.00</td>\n",
       "      <td>47.00</td>\n",
       "      <td>75.00</td>\n",
       "      <td>14,003.64</td>\n",
       "      <td>52</td>\n",
       "      <td>NaT</td>\n",
       "      <td>Краснодар</td>\n",
       "      <td>Рафаил</td>\n",
       "      <td>Верещагин</td>\n",
       "      <td>2018-05-25</td>\n",
       "      <td>ultra</td>\n",
       "      <td>1000</td>\n",
       "      <td>30720</td>\n",
       "      <td>3000</td>\n",
       "      <td>1950</td>\n",
       "      <td>150</td>\n",
       "      <td>1</td>\n",
       "      <td>1</td>\n",
       "    </tr>\n",
       "    <tr>\n",
       "      <th>3</th>\n",
       "      <td>1000</td>\n",
       "      <td>June</td>\n",
       "      <td>172.00</td>\n",
       "      <td>43.00</td>\n",
       "      <td>60.00</td>\n",
       "      <td>23,233.77</td>\n",
       "      <td>52</td>\n",
       "      <td>NaT</td>\n",
       "      <td>Краснодар</td>\n",
       "      <td>Рафаил</td>\n",
       "      <td>Верещагин</td>\n",
       "      <td>2018-05-25</td>\n",
       "      <td>ultra</td>\n",
       "      <td>1000</td>\n",
       "      <td>30720</td>\n",
       "      <td>3000</td>\n",
       "      <td>1950</td>\n",
       "      <td>150</td>\n",
       "      <td>1</td>\n",
       "      <td>1</td>\n",
       "    </tr>\n",
       "    <tr>\n",
       "      <th>4</th>\n",
       "      <td>1000</td>\n",
       "      <td>May</td>\n",
       "      <td>159.00</td>\n",
       "      <td>22.00</td>\n",
       "      <td>22.00</td>\n",
       "      <td>2,253.49</td>\n",
       "      <td>52</td>\n",
       "      <td>NaT</td>\n",
       "      <td>Краснодар</td>\n",
       "      <td>Рафаил</td>\n",
       "      <td>Верещагин</td>\n",
       "      <td>2018-05-25</td>\n",
       "      <td>ultra</td>\n",
       "      <td>1000</td>\n",
       "      <td>30720</td>\n",
       "      <td>3000</td>\n",
       "      <td>1950</td>\n",
       "      <td>150</td>\n",
       "      <td>1</td>\n",
       "      <td>1</td>\n",
       "    </tr>\n",
       "  </tbody>\n",
       "</table>\n",
       "</div>"
      ],
      "text/plain": [
       "   user_id     month  month_calls_duration  month_calls_total  \\\n",
       "0     1000    August                408.00              52.00   \n",
       "1     1000  December                333.00              46.00   \n",
       "2     1000      July                340.00              47.00   \n",
       "3     1000      June                172.00              43.00   \n",
       "4     1000       May                159.00              22.00   \n",
       "\n",
       "   month_messages_total  month_mb_total  age churn_date       city first_name  \\\n",
       "0                 81.00       14,055.93   52        NaT  Краснодар     Рафаил   \n",
       "1                 70.00        9,817.61   52        NaT  Краснодар     Рафаил   \n",
       "2                 75.00       14,003.64   52        NaT  Краснодар     Рафаил   \n",
       "3                 60.00       23,233.77   52        NaT  Краснодар     Рафаил   \n",
       "4                 22.00        2,253.49   52        NaT  Краснодар     Рафаил   \n",
       "\n",
       "   last_name   reg_date tariff  messages_included  mb_per_month_included  \\\n",
       "0  Верещагин 2018-05-25  ultra               1000                  30720   \n",
       "1  Верещагин 2018-05-25  ultra               1000                  30720   \n",
       "2  Верещагин 2018-05-25  ultra               1000                  30720   \n",
       "3  Верещагин 2018-05-25  ultra               1000                  30720   \n",
       "4  Верещагин 2018-05-25  ultra               1000                  30720   \n",
       "\n",
       "   minutes_included  rub_monthly_fee  rub_per_gb  rub_per_message  \\\n",
       "0              3000             1950         150                1   \n",
       "1              3000             1950         150                1   \n",
       "2              3000             1950         150                1   \n",
       "3              3000             1950         150                1   \n",
       "4              3000             1950         150                1   \n",
       "\n",
       "   rub_per_minute  \n",
       "0               1  \n",
       "1               1  \n",
       "2               1  \n",
       "3               1  \n",
       "4               1  "
      ]
     },
     "execution_count": 45,
     "metadata": {},
     "output_type": "execute_result"
    }
   ],
   "source": [
    "df = df.merge(users, on='user_id', how='left').merge(tariffs, on='tariff',how='left')\n",
    "df.head()"
   ]
  },
  {
   "cell_type": "code",
   "execution_count": 46,
   "metadata": {
    "scrolled": true
   },
   "outputs": [
    {
     "data": {
      "text/plain": [
       "user_id                     0\n",
       "month                       0\n",
       "month_calls_duration       40\n",
       "month_calls_total          40\n",
       "month_messages_total      497\n",
       "month_mb_total             11\n",
       "age                         0\n",
       "churn_date               3027\n",
       "city                        0\n",
       "first_name                  0\n",
       "last_name                   0\n",
       "reg_date                    0\n",
       "tariff                      0\n",
       "messages_included           0\n",
       "mb_per_month_included       0\n",
       "minutes_included            0\n",
       "rub_monthly_fee             0\n",
       "rub_per_gb                  0\n",
       "rub_per_message             0\n",
       "rub_per_minute              0\n",
       "dtype: int64"
      ]
     },
     "execution_count": 46,
     "metadata": {},
     "output_type": "execute_result"
    }
   ],
   "source": [
    "df.isna().sum()"
   ]
  },
  {
   "cell_type": "code",
   "execution_count": 47,
   "metadata": {},
   "outputs": [
    {
     "data": {
      "text/plain": [
       "user_id                     0\n",
       "month                       0\n",
       "month_calls_duration        0\n",
       "month_calls_total           0\n",
       "month_messages_total        0\n",
       "month_mb_total              0\n",
       "age                         0\n",
       "churn_date               3027\n",
       "city                        0\n",
       "first_name                  0\n",
       "last_name                   0\n",
       "reg_date                    0\n",
       "tariff                      0\n",
       "messages_included           0\n",
       "mb_per_month_included       0\n",
       "minutes_included            0\n",
       "rub_monthly_fee             0\n",
       "rub_per_gb                  0\n",
       "rub_per_message             0\n",
       "rub_per_minute              0\n",
       "dtype: int64"
      ]
     },
     "execution_count": 47,
     "metadata": {},
     "output_type": "execute_result"
    }
   ],
   "source": [
    "df['month_calls_duration'] = df['month_calls_duration'].fillna(0)\n",
    "df['month_calls_total'] = df['month_calls_total'].fillna(0)\n",
    "df['month_messages_total'] = df['month_messages_total'].fillna(0)\n",
    "df['month_mb_total'] = df['month_mb_total'].fillna(0)\n",
    "df.isna().sum()\n"
   ]
  },
  {
   "cell_type": "code",
   "execution_count": 48,
   "metadata": {},
   "outputs": [],
   "source": [
    "def total_tariff(row):\n",
    "    sms = (row['month_messages_total'] - row['messages_included']) * row['rub_per_message']\n",
    "    mins = (row['month_calls_duration'] - row['minutes_included']) * row['rub_per_minute']\n",
    "    mbs = np.floor((row['month_mb_total'] - row['mb_per_month_included']) * row['rub_per_gb'] / 1024)\n",
    "   \n",
    "    total = 0\n",
    "    for i in [sms, mins, mbs]:\n",
    "        if i > 0:\n",
    "            total += i\n",
    "    return total"
   ]
  },
  {
   "cell_type": "code",
   "execution_count": 49,
   "metadata": {},
   "outputs": [
    {
     "data": {
      "text/html": [
       "<div>\n",
       "<style scoped>\n",
       "    .dataframe tbody tr th:only-of-type {\n",
       "        vertical-align: middle;\n",
       "    }\n",
       "\n",
       "    .dataframe tbody tr th {\n",
       "        vertical-align: top;\n",
       "    }\n",
       "\n",
       "    .dataframe thead th {\n",
       "        text-align: right;\n",
       "    }\n",
       "</style>\n",
       "<table border=\"1\" class=\"dataframe\">\n",
       "  <thead>\n",
       "    <tr style=\"text-align: right;\">\n",
       "      <th></th>\n",
       "      <th>user_id</th>\n",
       "      <th>month</th>\n",
       "      <th>month_calls_duration</th>\n",
       "      <th>month_calls_total</th>\n",
       "      <th>month_messages_total</th>\n",
       "      <th>month_mb_total</th>\n",
       "      <th>age</th>\n",
       "      <th>churn_date</th>\n",
       "      <th>city</th>\n",
       "      <th>first_name</th>\n",
       "      <th>last_name</th>\n",
       "      <th>reg_date</th>\n",
       "      <th>tariff</th>\n",
       "      <th>messages_included</th>\n",
       "      <th>mb_per_month_included</th>\n",
       "      <th>minutes_included</th>\n",
       "      <th>rub_monthly_fee</th>\n",
       "      <th>rub_per_gb</th>\n",
       "      <th>rub_per_message</th>\n",
       "      <th>rub_per_minute</th>\n",
       "      <th>total_tariff</th>\n",
       "      <th>full_payment</th>\n",
       "    </tr>\n",
       "  </thead>\n",
       "  <tbody>\n",
       "    <tr>\n",
       "      <th>1494</th>\n",
       "      <td>1240</td>\n",
       "      <td>August</td>\n",
       "      <td>457.00</td>\n",
       "      <td>54.00</td>\n",
       "      <td>0.00</td>\n",
       "      <td>48,351.59</td>\n",
       "      <td>30</td>\n",
       "      <td>NaT</td>\n",
       "      <td>Воронеж</td>\n",
       "      <td>Зинаида</td>\n",
       "      <td>Шарова</td>\n",
       "      <td>2018-02-27</td>\n",
       "      <td>ultra</td>\n",
       "      <td>1000</td>\n",
       "      <td>30720</td>\n",
       "      <td>3000</td>\n",
       "      <td>1950</td>\n",
       "      <td>150</td>\n",
       "      <td>1</td>\n",
       "      <td>1</td>\n",
       "      <td>2,582.00</td>\n",
       "      <td>4,532.00</td>\n",
       "    </tr>\n",
       "    <tr>\n",
       "      <th>1621</th>\n",
       "      <td>1261</td>\n",
       "      <td>November</td>\n",
       "      <td>738.00</td>\n",
       "      <td>117.00</td>\n",
       "      <td>25.00</td>\n",
       "      <td>32,503.56</td>\n",
       "      <td>46</td>\n",
       "      <td>NaT</td>\n",
       "      <td>Казань</td>\n",
       "      <td>Мадина</td>\n",
       "      <td>Пантелеева</td>\n",
       "      <td>2018-10-30</td>\n",
       "      <td>smart</td>\n",
       "      <td>50</td>\n",
       "      <td>15360</td>\n",
       "      <td>500</td>\n",
       "      <td>550</td>\n",
       "      <td>200</td>\n",
       "      <td>3</td>\n",
       "      <td>3</td>\n",
       "      <td>4,062.00</td>\n",
       "      <td>4,612.00</td>\n",
       "    </tr>\n",
       "    <tr>\n",
       "      <th>783</th>\n",
       "      <td>1124</td>\n",
       "      <td>October</td>\n",
       "      <td>1,225.00</td>\n",
       "      <td>152.00</td>\n",
       "      <td>121.00</td>\n",
       "      <td>49,745.69</td>\n",
       "      <td>54</td>\n",
       "      <td>NaT</td>\n",
       "      <td>Махачкала</td>\n",
       "      <td>Альбин</td>\n",
       "      <td>Андрианов</td>\n",
       "      <td>2018-09-24</td>\n",
       "      <td>ultra</td>\n",
       "      <td>1000</td>\n",
       "      <td>30720</td>\n",
       "      <td>3000</td>\n",
       "      <td>1950</td>\n",
       "      <td>150</td>\n",
       "      <td>1</td>\n",
       "      <td>1</td>\n",
       "      <td>2,786.00</td>\n",
       "      <td>4,736.00</td>\n",
       "    </tr>\n",
       "    <tr>\n",
       "      <th>610</th>\n",
       "      <td>1098</td>\n",
       "      <td>December</td>\n",
       "      <td>588.00</td>\n",
       "      <td>80.00</td>\n",
       "      <td>14.00</td>\n",
       "      <td>36,523.90</td>\n",
       "      <td>39</td>\n",
       "      <td>NaT</td>\n",
       "      <td>Челябинск</td>\n",
       "      <td>Элеонора</td>\n",
       "      <td>Озерова</td>\n",
       "      <td>2018-06-23</td>\n",
       "      <td>smart</td>\n",
       "      <td>50</td>\n",
       "      <td>15360</td>\n",
       "      <td>500</td>\n",
       "      <td>550</td>\n",
       "      <td>200</td>\n",
       "      <td>3</td>\n",
       "      <td>3</td>\n",
       "      <td>4,397.00</td>\n",
       "      <td>4,947.00</td>\n",
       "    </tr>\n",
       "    <tr>\n",
       "      <th>999</th>\n",
       "      <td>1159</td>\n",
       "      <td>December</td>\n",
       "      <td>734.00</td>\n",
       "      <td>110.00</td>\n",
       "      <td>2.00</td>\n",
       "      <td>35,135.89</td>\n",
       "      <td>64</td>\n",
       "      <td>NaT</td>\n",
       "      <td>Красноярск</td>\n",
       "      <td>Эльга</td>\n",
       "      <td>Аничкина</td>\n",
       "      <td>2018-11-28</td>\n",
       "      <td>smart</td>\n",
       "      <td>50</td>\n",
       "      <td>15360</td>\n",
       "      <td>500</td>\n",
       "      <td>550</td>\n",
       "      <td>200</td>\n",
       "      <td>3</td>\n",
       "      <td>3</td>\n",
       "      <td>4,564.00</td>\n",
       "      <td>5,114.00</td>\n",
       "    </tr>\n",
       "    <tr>\n",
       "      <th>1792</th>\n",
       "      <td>1286</td>\n",
       "      <td>December</td>\n",
       "      <td>739.00</td>\n",
       "      <td>95.00</td>\n",
       "      <td>68.00</td>\n",
       "      <td>35,108.07</td>\n",
       "      <td>19</td>\n",
       "      <td>NaT</td>\n",
       "      <td>Москва</td>\n",
       "      <td>Рашид</td>\n",
       "      <td>Троицкий</td>\n",
       "      <td>2018-11-27</td>\n",
       "      <td>smart</td>\n",
       "      <td>50</td>\n",
       "      <td>15360</td>\n",
       "      <td>500</td>\n",
       "      <td>550</td>\n",
       "      <td>200</td>\n",
       "      <td>3</td>\n",
       "      <td>3</td>\n",
       "      <td>4,628.00</td>\n",
       "      <td>5,178.00</td>\n",
       "    </tr>\n",
       "    <tr>\n",
       "      <th>3105</th>\n",
       "      <td>1486</td>\n",
       "      <td>November</td>\n",
       "      <td>764.00</td>\n",
       "      <td>108.00</td>\n",
       "      <td>96.00</td>\n",
       "      <td>36,266.11</td>\n",
       "      <td>35</td>\n",
       "      <td>NaT</td>\n",
       "      <td>Нижний Новгород</td>\n",
       "      <td>Матвей</td>\n",
       "      <td>Моргунов</td>\n",
       "      <td>2018-10-31</td>\n",
       "      <td>smart</td>\n",
       "      <td>50</td>\n",
       "      <td>15360</td>\n",
       "      <td>500</td>\n",
       "      <td>550</td>\n",
       "      <td>200</td>\n",
       "      <td>3</td>\n",
       "      <td>3</td>\n",
       "      <td>5,013.00</td>\n",
       "      <td>5,563.00</td>\n",
       "    </tr>\n",
       "    <tr>\n",
       "      <th>259</th>\n",
       "      <td>1042</td>\n",
       "      <td>December</td>\n",
       "      <td>728.00</td>\n",
       "      <td>121.00</td>\n",
       "      <td>75.00</td>\n",
       "      <td>37,165.69</td>\n",
       "      <td>42</td>\n",
       "      <td>NaT</td>\n",
       "      <td>Хабаровск</td>\n",
       "      <td>Константин</td>\n",
       "      <td>Добрынин</td>\n",
       "      <td>2018-11-25</td>\n",
       "      <td>smart</td>\n",
       "      <td>50</td>\n",
       "      <td>15360</td>\n",
       "      <td>500</td>\n",
       "      <td>550</td>\n",
       "      <td>200</td>\n",
       "      <td>3</td>\n",
       "      <td>3</td>\n",
       "      <td>5,017.00</td>\n",
       "      <td>5,567.00</td>\n",
       "    </tr>\n",
       "    <tr>\n",
       "      <th>1620</th>\n",
       "      <td>1261</td>\n",
       "      <td>December</td>\n",
       "      <td>1,074.00</td>\n",
       "      <td>141.00</td>\n",
       "      <td>22.00</td>\n",
       "      <td>32,650.91</td>\n",
       "      <td>46</td>\n",
       "      <td>NaT</td>\n",
       "      <td>Казань</td>\n",
       "      <td>Мадина</td>\n",
       "      <td>Пантелеева</td>\n",
       "      <td>2018-10-30</td>\n",
       "      <td>smart</td>\n",
       "      <td>50</td>\n",
       "      <td>15360</td>\n",
       "      <td>500</td>\n",
       "      <td>550</td>\n",
       "      <td>200</td>\n",
       "      <td>3</td>\n",
       "      <td>3</td>\n",
       "      <td>5,099.00</td>\n",
       "      <td>5,649.00</td>\n",
       "    </tr>\n",
       "    <tr>\n",
       "      <th>3104</th>\n",
       "      <td>1486</td>\n",
       "      <td>December</td>\n",
       "      <td>1,007.00</td>\n",
       "      <td>133.00</td>\n",
       "      <td>83.00</td>\n",
       "      <td>38,552.45</td>\n",
       "      <td>35</td>\n",
       "      <td>NaT</td>\n",
       "      <td>Нижний Новгород</td>\n",
       "      <td>Матвей</td>\n",
       "      <td>Моргунов</td>\n",
       "      <td>2018-10-31</td>\n",
       "      <td>smart</td>\n",
       "      <td>50</td>\n",
       "      <td>15360</td>\n",
       "      <td>500</td>\n",
       "      <td>550</td>\n",
       "      <td>200</td>\n",
       "      <td>3</td>\n",
       "      <td>3</td>\n",
       "      <td>6,149.00</td>\n",
       "      <td>6,699.00</td>\n",
       "    </tr>\n",
       "  </tbody>\n",
       "</table>\n",
       "</div>"
      ],
      "text/plain": [
       "      user_id     month  month_calls_duration  month_calls_total  \\\n",
       "1494     1240    August                457.00              54.00   \n",
       "1621     1261  November                738.00             117.00   \n",
       "783      1124   October              1,225.00             152.00   \n",
       "610      1098  December                588.00              80.00   \n",
       "999      1159  December                734.00             110.00   \n",
       "1792     1286  December                739.00              95.00   \n",
       "3105     1486  November                764.00             108.00   \n",
       "259      1042  December                728.00             121.00   \n",
       "1620     1261  December              1,074.00             141.00   \n",
       "3104     1486  December              1,007.00             133.00   \n",
       "\n",
       "      month_messages_total  month_mb_total  age churn_date             city  \\\n",
       "1494                  0.00       48,351.59   30        NaT          Воронеж   \n",
       "1621                 25.00       32,503.56   46        NaT           Казань   \n",
       "783                 121.00       49,745.69   54        NaT        Махачкала   \n",
       "610                  14.00       36,523.90   39        NaT        Челябинск   \n",
       "999                   2.00       35,135.89   64        NaT       Красноярск   \n",
       "1792                 68.00       35,108.07   19        NaT           Москва   \n",
       "3105                 96.00       36,266.11   35        NaT  Нижний Новгород   \n",
       "259                  75.00       37,165.69   42        NaT        Хабаровск   \n",
       "1620                 22.00       32,650.91   46        NaT           Казань   \n",
       "3104                 83.00       38,552.45   35        NaT  Нижний Новгород   \n",
       "\n",
       "      first_name   last_name   reg_date tariff  messages_included  \\\n",
       "1494     Зинаида      Шарова 2018-02-27  ultra               1000   \n",
       "1621      Мадина  Пантелеева 2018-10-30  smart                 50   \n",
       "783       Альбин   Андрианов 2018-09-24  ultra               1000   \n",
       "610     Элеонора     Озерова 2018-06-23  smart                 50   \n",
       "999        Эльга    Аничкина 2018-11-28  smart                 50   \n",
       "1792       Рашид    Троицкий 2018-11-27  smart                 50   \n",
       "3105      Матвей    Моргунов 2018-10-31  smart                 50   \n",
       "259   Константин    Добрынин 2018-11-25  smart                 50   \n",
       "1620      Мадина  Пантелеева 2018-10-30  smart                 50   \n",
       "3104      Матвей    Моргунов 2018-10-31  smart                 50   \n",
       "\n",
       "      mb_per_month_included  minutes_included  rub_monthly_fee  rub_per_gb  \\\n",
       "1494                  30720              3000             1950         150   \n",
       "1621                  15360               500              550         200   \n",
       "783                   30720              3000             1950         150   \n",
       "610                   15360               500              550         200   \n",
       "999                   15360               500              550         200   \n",
       "1792                  15360               500              550         200   \n",
       "3105                  15360               500              550         200   \n",
       "259                   15360               500              550         200   \n",
       "1620                  15360               500              550         200   \n",
       "3104                  15360               500              550         200   \n",
       "\n",
       "      rub_per_message  rub_per_minute  total_tariff  full_payment  \n",
       "1494                1               1      2,582.00      4,532.00  \n",
       "1621                3               3      4,062.00      4,612.00  \n",
       "783                 1               1      2,786.00      4,736.00  \n",
       "610                 3               3      4,397.00      4,947.00  \n",
       "999                 3               3      4,564.00      5,114.00  \n",
       "1792                3               3      4,628.00      5,178.00  \n",
       "3105                3               3      5,013.00      5,563.00  \n",
       "259                 3               3      5,017.00      5,567.00  \n",
       "1620                3               3      5,099.00      5,649.00  \n",
       "3104                3               3      6,149.00      6,699.00  "
      ]
     },
     "execution_count": 49,
     "metadata": {},
     "output_type": "execute_result"
    }
   ],
   "source": [
    "df['total_tariff'] = df.apply(lambda x: total_tariff(x), axis=1)\n",
    "df['full_payment'] = df['rub_monthly_fee'] + df['total_tariff']\n",
    "df.sort_values(by='full_payment').tail(10)"
   ]
  },
  {
   "cell_type": "code",
   "execution_count": 50,
   "metadata": {},
   "outputs": [],
   "source": [
    "#df['full_payment'].sum()"
   ]
  },
  {
   "cell_type": "markdown",
   "metadata": {},
   "source": [
    "#### Вывод \n",
    "<br> Произведен расчет сделанных звонков и израсходованных минут разговора по месяцам, количество отправленных сообщений по месяцам, объем израсходованного интернет-трафика по месяцам, помесячную выручку с каждого пользователя. Интересно было наблюдать как часто люди пользуются интернетом, смс, сколько проводят времени разговаривая по телефону, сколько тратят средств на связь, и стало интересно сколько зарабатывает оператор сотовой связи."
   ]
  },
  {
   "cell_type": "markdown",
   "metadata": {},
   "source": [
    "# 2 Анализ данных"
   ]
  },
  {
   "cell_type": "markdown",
   "metadata": {},
   "source": [
    "**Описание поведение клиентов оператора, исходя из выборки: \n",
    "<br> - Сколько минут разговора, сколько сообщений и какой объём интернет-трафика требуется пользователям каждого тарифа в месяц? <br> - Посчитайте среднее количество, дисперсию и стандартное отклонение. \n",
    "<br> - Постройте гистограммы. \n",
    "<br> - Опишите распределения.**"
   ]
  },
  {
   "cell_type": "code",
   "execution_count": 51,
   "metadata": {},
   "outputs": [
    {
     "data": {
      "text/plain": [
       "smart    2229\n",
       "ultra     985\n",
       "Name: tariff, dtype: int64"
      ]
     },
     "metadata": {},
     "output_type": "display_data"
    },
    {
     "data": {
      "text/html": [
       "<div>\n",
       "<style scoped>\n",
       "    .dataframe tbody tr th:only-of-type {\n",
       "        vertical-align: middle;\n",
       "    }\n",
       "\n",
       "    .dataframe tbody tr th {\n",
       "        vertical-align: top;\n",
       "    }\n",
       "\n",
       "    .dataframe thead th {\n",
       "        text-align: right;\n",
       "    }\n",
       "</style>\n",
       "<table border=\"1\" class=\"dataframe\">\n",
       "  <thead>\n",
       "    <tr style=\"text-align: right;\">\n",
       "      <th></th>\n",
       "      <th>total_tariff</th>\n",
       "      <th>full_payment</th>\n",
       "    </tr>\n",
       "  </thead>\n",
       "  <tbody>\n",
       "    <tr>\n",
       "      <th>count</th>\n",
       "      <td>3,214.00</td>\n",
       "      <td>3,214.00</td>\n",
       "    </tr>\n",
       "    <tr>\n",
       "      <th>mean</th>\n",
       "      <td>505.36</td>\n",
       "      <td>1,484.42</td>\n",
       "    </tr>\n",
       "    <tr>\n",
       "      <th>std</th>\n",
       "      <td>731.87</td>\n",
       "      <td>782.82</td>\n",
       "    </tr>\n",
       "    <tr>\n",
       "      <th>min</th>\n",
       "      <td>0.00</td>\n",
       "      <td>550.00</td>\n",
       "    </tr>\n",
       "    <tr>\n",
       "      <th>25%</th>\n",
       "      <td>0.00</td>\n",
       "      <td>691.25</td>\n",
       "    </tr>\n",
       "    <tr>\n",
       "      <th>50%</th>\n",
       "      <td>104.00</td>\n",
       "      <td>1,557.50</td>\n",
       "    </tr>\n",
       "    <tr>\n",
       "      <th>75%</th>\n",
       "      <td>835.00</td>\n",
       "      <td>1,950.00</td>\n",
       "    </tr>\n",
       "    <tr>\n",
       "      <th>max</th>\n",
       "      <td>6,149.00</td>\n",
       "      <td>6,699.00</td>\n",
       "    </tr>\n",
       "  </tbody>\n",
       "</table>\n",
       "</div>"
      ],
      "text/plain": [
       "       total_tariff  full_payment\n",
       "count      3,214.00      3,214.00\n",
       "mean         505.36      1,484.42\n",
       "std          731.87        782.82\n",
       "min            0.00        550.00\n",
       "25%            0.00        691.25\n",
       "50%          104.00      1,557.50\n",
       "75%          835.00      1,950.00\n",
       "max        6,149.00      6,699.00"
      ]
     },
     "execution_count": 51,
     "metadata": {},
     "output_type": "execute_result"
    }
   ],
   "source": [
    "display(df['tariff'].value_counts())\n",
    "df[['total_tariff', 'full_payment']].describe()"
   ]
  },
  {
   "cell_type": "code",
   "execution_count": 52,
   "metadata": {},
   "outputs": [
    {
     "data": {
      "text/plain": [
       "Text(0.5, 1.0, 'tariff - Smart')"
      ]
     },
     "execution_count": 52,
     "metadata": {},
     "output_type": "execute_result"
    },
    {
     "data": {
      "image/png": "[encoded data removed]",
      "text/plain": [
       "<Figure size 432x288 with 1 Axes>"
      ]
     },
     "metadata": {
      "needs_background": "light"
     },
     "output_type": "display_data"
    }
   ],
   "source": [
    "df[df['tariff'] == 'smart']['full_payment'].plot(kind='hist', bins=10)\n",
    "plt.xlabel(\"Payment\")\n",
    "plt.ylabel(\"Mins\")\n",
    "plt.title('tariff - Smart')\n"
   ]
  },
  {
   "cell_type": "code",
   "execution_count": 53,
   "metadata": {},
   "outputs": [
    {
     "data": {
      "text/plain": [
       "Text(0.5, 1.0, 'tariff - Ultra')"
      ]
     },
     "execution_count": 53,
     "metadata": {},
     "output_type": "execute_result"
    },
    {
     "data": {
      "image/png": "[encoded data removed]",
      "text/plain": [
       "<Figure size 432x288 with 1 Axes>"
      ]
     },
     "metadata": {
      "needs_background": "light"
     },
     "output_type": "display_data"
    }
   ],
   "source": [
    "df[df['tariff'] == 'ultra']['full_payment'].plot(kind='hist', bins=10)\n",
    "plt.xlabel(\"Payment\")\n",
    "plt.ylabel(\"Mins\")\n",
    "plt.title('tariff - Ultra')\n"
   ]
  },
  {
   "cell_type": "code",
   "execution_count": 54,
   "metadata": {},
   "outputs": [
    {
     "data": {
      "text/html": [
       "<div>\n",
       "<style scoped>\n",
       "    .dataframe tbody tr th:only-of-type {\n",
       "        vertical-align: middle;\n",
       "    }\n",
       "\n",
       "    .dataframe tbody tr th {\n",
       "        vertical-align: top;\n",
       "    }\n",
       "\n",
       "    .dataframe thead tr th {\n",
       "        text-align: left;\n",
       "    }\n",
       "\n",
       "    .dataframe thead tr:last-of-type th {\n",
       "        text-align: right;\n",
       "    }\n",
       "</style>\n",
       "<table border=\"1\" class=\"dataframe\">\n",
       "  <thead>\n",
       "    <tr>\n",
       "      <th></th>\n",
       "      <th colspan=\"4\" halign=\"left\">full_payment</th>\n",
       "    </tr>\n",
       "    <tr>\n",
       "      <th></th>\n",
       "      <th>median</th>\n",
       "      <th>mean</th>\n",
       "      <th>var</th>\n",
       "      <th>std</th>\n",
       "    </tr>\n",
       "    <tr>\n",
       "      <th>tariff</th>\n",
       "      <th></th>\n",
       "      <th></th>\n",
       "      <th></th>\n",
       "      <th></th>\n",
       "    </tr>\n",
       "  </thead>\n",
       "  <tbody>\n",
       "    <tr>\n",
       "      <th>smart</th>\n",
       "      <td>957.00</td>\n",
       "      <td>1,230.16</td>\n",
       "      <td>617,119.36</td>\n",
       "      <td>785.57</td>\n",
       "    </tr>\n",
       "    <tr>\n",
       "      <th>ultra</th>\n",
       "      <td>1,950.00</td>\n",
       "      <td>2,059.80</td>\n",
       "      <td>125,843.21</td>\n",
       "      <td>354.74</td>\n",
       "    </tr>\n",
       "  </tbody>\n",
       "</table>\n",
       "</div>"
      ],
      "text/plain": [
       "       full_payment                           \n",
       "             median     mean        var    std\n",
       "tariff                                        \n",
       "smart        957.00 1,230.16 617,119.36 785.57\n",
       "ultra      1,950.00 2,059.80 125,843.21 354.74"
      ]
     },
     "execution_count": 54,
     "metadata": {},
     "output_type": "execute_result"
    }
   ],
   "source": [
    "df.groupby('tariff').agg({'full_payment':['median','mean','var','std']})"
   ]
  },
  {
   "cell_type": "markdown",
   "metadata": {},
   "source": [
    "#### **Вывод** \n",
    "На тарифе Смарт среднее и медиана не так далеко друг от друга, но перепличивает много пользователей, в среднем в 2 раза, можно сделать вывод, что кому-то мало интернета, звонков, чтобы не потерять клиентом, оператору можно придумать тариф, который будет между смарт и ультра, тогда много пользователей будут довольны. На тарифе Ультра средняя и медиана близки к друг другу, переплата у пользователей за тариф не такая большая, как на Смарт."
   ]
  },
  {
   "cell_type": "code",
   "execution_count": 55,
   "metadata": {},
   "outputs": [
    {
     "data": {
      "text/plain": [
       "Text(0.5, 1.0, 'Звонки в минутах в месяц по тарифу Smart')"
      ]
     },
     "execution_count": 55,
     "metadata": {},
     "output_type": "execute_result"
    },
    {
     "data": {
      "image/png": "[encoded data removed]",
      "text/plain": [
       "<Figure size 432x288 with 1 Axes>"
      ]
     },
     "metadata": {
      "needs_background": "light"
     },
     "output_type": "display_data"
    }
   ],
   "source": [
    "df[df['tariff'] == 'smart']['month_calls_duration'].plot(kind='hist', bins=10)\n",
    "plt.xlabel(\"Mins\")\n",
    "plt.ylabel(\"Calls\")\n",
    "plt.title('Звонки в минутах в месяц по тарифу Smart')"
   ]
  },
  {
   "cell_type": "code",
   "execution_count": 56,
   "metadata": {},
   "outputs": [
    {
     "data": {
      "text/plain": [
       "Text(0.5, 1.0, 'Звонки в минутах в месяц по тарифу Ultra')"
      ]
     },
     "execution_count": 56,
     "metadata": {},
     "output_type": "execute_result"
    },
    {
     "data": {
      "image/png": "[encoded data removed]",
      "text/plain": [
       "<Figure size 432x288 with 1 Axes>"
      ]
     },
     "metadata": {
      "needs_background": "light"
     },
     "output_type": "display_data"
    }
   ],
   "source": [
    "df[df['tariff'] == 'ultra']['month_calls_duration'].plot(kind='hist', bins=10)\n",
    "plt.xlabel(\"Mins\")\n",
    "plt.ylabel(\"Calls\")\n",
    "plt.title('Звонки в минутах в месяц по тарифу Ultra')"
   ]
  },
  {
   "cell_type": "code",
   "execution_count": 57,
   "metadata": {},
   "outputs": [
    {
     "data": {
      "text/html": [
       "<div>\n",
       "<style scoped>\n",
       "    .dataframe tbody tr th:only-of-type {\n",
       "        vertical-align: middle;\n",
       "    }\n",
       "\n",
       "    .dataframe tbody tr th {\n",
       "        vertical-align: top;\n",
       "    }\n",
       "\n",
       "    .dataframe thead tr th {\n",
       "        text-align: left;\n",
       "    }\n",
       "\n",
       "    .dataframe thead tr:last-of-type th {\n",
       "        text-align: right;\n",
       "    }\n",
       "</style>\n",
       "<table border=\"1\" class=\"dataframe\">\n",
       "  <thead>\n",
       "    <tr>\n",
       "      <th></th>\n",
       "      <th colspan=\"4\" halign=\"left\">month_calls_duration</th>\n",
       "    </tr>\n",
       "    <tr>\n",
       "      <th></th>\n",
       "      <th>median</th>\n",
       "      <th>mean</th>\n",
       "      <th>var</th>\n",
       "      <th>std</th>\n",
       "    </tr>\n",
       "    <tr>\n",
       "      <th>tariff</th>\n",
       "      <th></th>\n",
       "      <th></th>\n",
       "      <th></th>\n",
       "      <th></th>\n",
       "    </tr>\n",
       "  </thead>\n",
       "  <tbody>\n",
       "    <tr>\n",
       "      <th>smart</th>\n",
       "      <td>422.00</td>\n",
       "      <td>417.93</td>\n",
       "      <td>36,219.32</td>\n",
       "      <td>190.31</td>\n",
       "    </tr>\n",
       "    <tr>\n",
       "      <th>ultra</th>\n",
       "      <td>518.00</td>\n",
       "      <td>526.62</td>\n",
       "      <td>100,873.63</td>\n",
       "      <td>317.61</td>\n",
       "    </tr>\n",
       "  </tbody>\n",
       "</table>\n",
       "</div>"
      ],
      "text/plain": [
       "       month_calls_duration                         \n",
       "                     median   mean        var    std\n",
       "tariff                                              \n",
       "smart                422.00 417.93  36,219.32 190.31\n",
       "ultra                518.00 526.62 100,873.63 317.61"
      ]
     },
     "execution_count": 57,
     "metadata": {},
     "output_type": "execute_result"
    }
   ],
   "source": [
    "df.groupby('tariff').agg({'month_calls_duration':['median','mean','var','std']})"
   ]
  },
  {
   "cell_type": "markdown",
   "metadata": {},
   "source": [
    "**Вывод** На тарифе Смарт в среднем расходуют 400 минут, большая часть укладывается, но есть те, кто любит поговорить чуть больше; На тарифе Ультра в среднем расходуют 500 минут, что намного меньше, чем входит в тариф. Средняя и медиана близки, нереальных значений не наблюдается, все в пределах нормы."
   ]
  },
  {
   "cell_type": "code",
   "execution_count": 58,
   "metadata": {},
   "outputs": [
    {
     "data": {
      "text/plain": [
       "Text(0.5, 1.0, 'Пользование интернетом в МБ в месяц по тарифу Smart')"
      ]
     },
     "execution_count": 58,
     "metadata": {},
     "output_type": "execute_result"
    },
    {
     "data": {
      "image/png": "[encoded data removed]",
      "text/plain": [
       "<Figure size 432x288 with 1 Axes>"
      ]
     },
     "metadata": {
      "needs_background": "light"
     },
     "output_type": "display_data"
    }
   ],
   "source": [
    "df[df['tariff'] == 'smart']['month_mb_total'].plot(kind='hist', bins=10)\n",
    "plt.xlabel(\"Mbs\")\n",
    "plt.ylabel(\"Quantity\")\n",
    "plt.title('Пользование интернетом в МБ в месяц по тарифу Smart')"
   ]
  },
  {
   "cell_type": "code",
   "execution_count": 59,
   "metadata": {},
   "outputs": [
    {
     "data": {
      "text/plain": [
       "Text(0.5, 1.0, 'Пользование интернетом в МБ в месяц по тарифу Ultra')"
      ]
     },
     "execution_count": 59,
     "metadata": {},
     "output_type": "execute_result"
    },
    {
     "data": {
      "image/png": "[encoded data removed]",
      "text/plain": [
       "<Figure size 432x288 with 1 Axes>"
      ]
     },
     "metadata": {
      "needs_background": "light"
     },
     "output_type": "display_data"
    }
   ],
   "source": [
    "df[df['tariff'] == 'ultra']['month_mb_total'].plot(kind='hist', bins=10)\n",
    "plt.xlabel(\"Mbs\")\n",
    "plt.ylabel(\"Quantity\")\n",
    "plt.title('Пользование интернетом в МБ в месяц по тарифу Ultra')"
   ]
  },
  {
   "cell_type": "code",
   "execution_count": 60,
   "metadata": {},
   "outputs": [
    {
     "data": {
      "text/html": [
       "<div>\n",
       "<style scoped>\n",
       "    .dataframe tbody tr th:only-of-type {\n",
       "        vertical-align: middle;\n",
       "    }\n",
       "\n",
       "    .dataframe tbody tr th {\n",
       "        vertical-align: top;\n",
       "    }\n",
       "\n",
       "    .dataframe thead tr th {\n",
       "        text-align: left;\n",
       "    }\n",
       "\n",
       "    .dataframe thead tr:last-of-type th {\n",
       "        text-align: right;\n",
       "    }\n",
       "</style>\n",
       "<table border=\"1\" class=\"dataframe\">\n",
       "  <thead>\n",
       "    <tr>\n",
       "      <th></th>\n",
       "      <th colspan=\"4\" halign=\"left\">month_mb_total</th>\n",
       "    </tr>\n",
       "    <tr>\n",
       "      <th></th>\n",
       "      <th>median</th>\n",
       "      <th>mean</th>\n",
       "      <th>var</th>\n",
       "      <th>std</th>\n",
       "    </tr>\n",
       "    <tr>\n",
       "      <th>tariff</th>\n",
       "      <th></th>\n",
       "      <th></th>\n",
       "      <th></th>\n",
       "      <th></th>\n",
       "    </tr>\n",
       "  </thead>\n",
       "  <tbody>\n",
       "    <tr>\n",
       "      <th>smart</th>\n",
       "      <td>16,506.84</td>\n",
       "      <td>16,208.39</td>\n",
       "      <td>34,462,496.46</td>\n",
       "      <td>5,870.48</td>\n",
       "    </tr>\n",
       "    <tr>\n",
       "      <th>ultra</th>\n",
       "      <td>19,308.01</td>\n",
       "      <td>19,468.81</td>\n",
       "      <td>101,751,013.78</td>\n",
       "      <td>10,087.17</td>\n",
       "    </tr>\n",
       "  </tbody>\n",
       "</table>\n",
       "</div>"
      ],
      "text/plain": [
       "       month_mb_total                                   \n",
       "               median      mean            var       std\n",
       "tariff                                                  \n",
       "smart       16,506.84 16,208.39  34,462,496.46  5,870.48\n",
       "ultra       19,308.01 19,468.81 101,751,013.78 10,087.17"
      ]
     },
     "execution_count": 60,
     "metadata": {},
     "output_type": "execute_result"
    }
   ],
   "source": [
    "df.groupby('tariff').agg({'month_mb_total':['median','mean','var','std']})"
   ]
  },
  {
   "cell_type": "markdown",
   "metadata": {},
   "source": [
    "**Вывод** На тарифе Смарт в среднем в месяц расходуют 16 гб, медиана и среднее близки к друг другу, но есть те, кто очень любит просматривать соцсети, смотреть видео, фильмы, и выбиваются из предоставленного лимита на ГБ; На тарифе Ультра в среднем в месяц расходуют 19 гб, медианы близки к друг другу процент тех, кто выходит за пределы предоставленного лимит, намного меньше чем на Смарте. В целом нереальных значений нет, все в пределах нормы."
   ]
  },
  {
   "cell_type": "code",
   "execution_count": 61,
   "metadata": {},
   "outputs": [
    {
     "data": {
      "text/plain": [
       "Text(0.5, 1.0, 'Отправлено СМС в месяц по тарифу Smart')"
      ]
     },
     "execution_count": 61,
     "metadata": {},
     "output_type": "execute_result"
    },
    {
     "data": {
      "image/png": "[encoded data removed]",
      "text/plain": [
       "<Figure size 432x288 with 1 Axes>"
      ]
     },
     "metadata": {
      "needs_background": "light"
     },
     "output_type": "display_data"
    }
   ],
   "source": [
    "df[df['tariff'] == 'smart']['month_messages_total'].plot(kind='hist', bins=10)\n",
    "plt.xlabel(\"Messages\")\n",
    "plt.ylabel(\"Quantity\")\n",
    "plt.title('Отправлено СМС в месяц по тарифу Smart')"
   ]
  },
  {
   "cell_type": "code",
   "execution_count": 62,
   "metadata": {},
   "outputs": [
    {
     "data": {
      "text/plain": [
       "Text(0.5, 1.0, 'Отправлено СМС в месяц по тарифу Ultra')"
      ]
     },
     "execution_count": 62,
     "metadata": {},
     "output_type": "execute_result"
    },
    {
     "data": {
      "image/png": "[encoded data removed]",
      "text/plain": [
       "<Figure size 432x288 with 1 Axes>"
      ]
     },
     "metadata": {
      "needs_background": "light"
     },
     "output_type": "display_data"
    }
   ],
   "source": [
    "df[df['tariff'] == 'ultra']['month_messages_total'].plot(kind='hist', bins=10)\n",
    "plt.xlabel(\"Messages\")\n",
    "plt.ylabel(\"Quantity\")\n",
    "plt.title('Отправлено СМС в месяц по тарифу Ultra')"
   ]
  },
  {
   "cell_type": "code",
   "execution_count": 63,
   "metadata": {},
   "outputs": [
    {
     "data": {
      "text/html": [
       "<div>\n",
       "<style scoped>\n",
       "    .dataframe tbody tr th:only-of-type {\n",
       "        vertical-align: middle;\n",
       "    }\n",
       "\n",
       "    .dataframe tbody tr th {\n",
       "        vertical-align: top;\n",
       "    }\n",
       "\n",
       "    .dataframe thead tr th {\n",
       "        text-align: left;\n",
       "    }\n",
       "\n",
       "    .dataframe thead tr:last-of-type th {\n",
       "        text-align: right;\n",
       "    }\n",
       "</style>\n",
       "<table border=\"1\" class=\"dataframe\">\n",
       "  <thead>\n",
       "    <tr>\n",
       "      <th></th>\n",
       "      <th colspan=\"4\" halign=\"left\">month_messages_total</th>\n",
       "    </tr>\n",
       "    <tr>\n",
       "      <th></th>\n",
       "      <th>median</th>\n",
       "      <th>mean</th>\n",
       "      <th>var</th>\n",
       "      <th>std</th>\n",
       "    </tr>\n",
       "    <tr>\n",
       "      <th>tariff</th>\n",
       "      <th></th>\n",
       "      <th></th>\n",
       "      <th></th>\n",
       "      <th></th>\n",
       "    </tr>\n",
       "  </thead>\n",
       "  <tbody>\n",
       "    <tr>\n",
       "      <th>smart</th>\n",
       "      <td>28.00</td>\n",
       "      <td>33.38</td>\n",
       "      <td>796.81</td>\n",
       "      <td>28.23</td>\n",
       "    </tr>\n",
       "    <tr>\n",
       "      <th>ultra</th>\n",
       "      <td>38.00</td>\n",
       "      <td>49.36</td>\n",
       "      <td>2,285.27</td>\n",
       "      <td>47.80</td>\n",
       "    </tr>\n",
       "  </tbody>\n",
       "</table>\n",
       "</div>"
      ],
      "text/plain": [
       "       month_messages_total                     \n",
       "                     median  mean      var   std\n",
       "tariff                                          \n",
       "smart                 28.00 33.38   796.81 28.23\n",
       "ultra                 38.00 49.36 2,285.27 47.80"
      ]
     },
     "execution_count": 63,
     "metadata": {},
     "output_type": "execute_result"
    }
   ],
   "source": [
    "df.groupby('tariff').agg({'month_messages_total':['median','mean','var','std']})"
   ]
  },
  {
   "cell_type": "markdown",
   "metadata": {},
   "source": [
    "**Вывод** Смсками на обоих тарифах мало кто пользуется, а в правду, зачем, когда есть соц.сети. Но все же в среднем 30-50 смсок в месяц пользователи направляют. Есть пользователи кто в лимиты на тарифе Смарт не укладывается, но их немного!"
   ]
  },
  {
   "cell_type": "markdown",
   "metadata": {},
   "source": [
    "## Проверка гипотез"
   ]
  },
  {
   "cell_type": "markdown",
   "metadata": {},
   "source": [
    "**<br> - средняя выручка пользователей тарифов «Ультра» и «Смарт» различаются;\n",
    "<br> - средняя выручка пользователей из Москвы отличается от выручки пользователей из других регионов.**"
   ]
  },
  {
   "cell_type": "code",
   "execution_count": 64,
   "metadata": {},
   "outputs": [],
   "source": [
    "def delete_emissions(df, column, graphic=0, x = 10, y = 10): #функция для удаления выбросов.\n",
    "    q1 = df[column].quantile(0.25)                 \n",
    "    q3 = df[column].quantile(0.75)\n",
    "    iqr = q3 - q1\n",
    "    iqr_test = (df[column] >= (q1 - 1.5 * iqr)) & (df[column] <= (q3 + 1.5 * iqr))\n",
    "    if graphic == 1:\n",
    "        return df.loc[iqr_test].boxplot([column], figsize=(x,y))\n",
    "    else:\n",
    "        return df.loc[iqr_test]"
   ]
  },
  {
   "cell_type": "markdown",
   "metadata": {},
   "source": [
    "**№ 1 Гипотеза о равенстве средних двух генеральных совокупностей \n",
    "Формулировка гипотезы:**\n",
    "\n",
    "\n",
    "<br>H0: выручка пользователей тарифов «Ультра» и «Смарт» не различается\n",
    "<br>H1: выручка пользователей тарифов «Ультра» и «Смарт» различается"
   ]
  },
  {
   "cell_type": "markdown",
   "metadata": {},
   "source": [
    "<br> Для оценки гипотезы будем применять тест Стюдента. Соотвественно, мы можем получить два ответа \"Отвергаем нулевую гипотезу\" и \"Не получилось отвергнуть нулевую гипотезу\".\n",
    "\n",
    "<br> При получении ответа \"Отвергаем нулевую гипотезу\" это будет говорить о том, что гипотеза противоречит эмпирическим данным и скорей всего наше предположение неверно. Значит данные различаются.\n",
    "\n",
    "<br> При получении ответа \"Не получилось отвергнуть нулевую гипотезу\", это значит что предположение о равенстве средней выручки верно."
   ]
  },
  {
   "cell_type": "code",
   "execution_count": 65,
   "metadata": {},
   "outputs": [
    {
     "name": "stderr",
     "output_type": "stream",
     "text": [
      "/tmp/ipykernel_31/4236270601.py:8: RuntimeWarning: Precision loss occurred in moment calculation due to catastrophic cancellation. This occurs when the data are nearly identical. Results may be unreliable.\n",
      "  results = st.ttest_ind(ultra, smart)\n"
     ]
    },
    {
     "data": {
      "text/plain": [
       "'p-значение:'"
      ]
     },
     "metadata": {},
     "output_type": "display_data"
    },
    {
     "data": {
      "text/plain": [
       "2.955636807646232e-203"
      ]
     },
     "metadata": {},
     "output_type": "display_data"
    },
    {
     "data": {
      "text/plain": [
       "'Отвергаем нулевую гипотезу'"
      ]
     },
     "metadata": {},
     "output_type": "display_data"
    }
   ],
   "source": [
    "ultra = df[df['tariff'] == 'ultra']\n",
    "smart = df[df['tariff'] == 'smart']\n",
    "smart = delete_emissions(smart, 'full_payment', 0)\n",
    "smart = smart['full_payment']\n",
    "ultra = delete_emissions(ultra, 'full_payment', 0)\n",
    "ultra = ultra['full_payment']\n",
    "alpha = 0.05 #критический уровень статистической значимости\n",
    "results = st.ttest_ind(ultra, smart)\n",
    "display('p-значение:', results.pvalue)\n",
    "\n",
    "if (results.pvalue < alpha):\n",
    "    display(\"Отвергаем нулевую гипотезу\")\n",
    "else:\n",
    "    display(\"Не получилось отвергнуть нулевую гипотезу\")"
   ]
  },
  {
   "cell_type": "markdown",
   "metadata": {},
   "source": [
    "**Вывод** <br> Выборки по тарифам отличатся от генеральной. Это значит, тарифы вносят ощутимый вклад в среднюю оплату за месяц."
   ]
  },
  {
   "cell_type": "markdown",
   "metadata": {},
   "source": [
    "**№2 Гипотеза о равенстве средних двух генеральных совокупностей  \n",
    "Формулировка гипотезы:**\n",
    "    \n",
    "<br>H0: средняя выручка пользователей из Москвы не отличается от выручки пользователей из других регионов\n",
    "<br>H1: средняя выручка пользователей из Москвы отличается от выручки пользователей из других регионов"
   ]
  },
  {
   "cell_type": "markdown",
   "metadata": {},
   "source": [
    "<br> Для оценки гипотезы будем применять тест Стюдента. Соотвественно, мы можем получить два ответа \"Отвергаем нулевую гипотезу\" и \"Не получилось отвергнуть нулевую гипотезу\".\n",
    "\n",
    "<br> При получении ответа \"Отвергаем нулевую гипотезу\" это будет говорить о том, что гипотеза противоречит эмпирическим данным и скорей всего наше предположение неверно. Значит данные различаются.\n",
    "\n",
    "<br> При получении ответа \"Не получилось отвергнуть нулевую гипотезу\", это значит что предположение о равенстве средней выручки верно."
   ]
  },
  {
   "cell_type": "code",
   "execution_count": 66,
   "metadata": {},
   "outputs": [
    {
     "data": {
      "text/plain": [
       "array(['Краснодар', 'Москва', 'Стерлитамак', 'Новокузнецк',\n",
       "       'Набережные Челны', 'Ульяновск', 'Челябинск', 'Пермь', 'Тюмень',\n",
       "       'Самара', 'Санкт-Петербург', 'Иваново', 'Чебоксары', 'Омск', 'Уфа',\n",
       "       'Томск', 'Чита', 'Мурманск', 'Петрозаводск', 'Тверь',\n",
       "       'Екатеринбург', 'Махачкала', 'Вологда', 'Череповец', 'Ярославль',\n",
       "       'Сочи', 'Хабаровск', 'Ставрополь', 'Рязань', 'Улан-Удэ', 'Тула',\n",
       "       'Саратов', 'Ростов-на-Дону', 'Казань', 'Иркутск', 'Курск',\n",
       "       'Калуга', 'Якутск', 'Астрахань', 'Химки', 'Владикавказ',\n",
       "       'Волгоград', 'Саранск', 'Ижевск', 'Новосибирск', 'Брянск',\n",
       "       'Тольятти', 'Нижний Тагил', 'Орёл', 'Белгород', 'Воронеж',\n",
       "       'Курган', 'Барнаул', 'Красноярск', 'Архангельск', 'Липецк',\n",
       "       'Кемерово', 'Киров', 'Сургут', 'Пенза', 'Волжский', 'Магнитогорск',\n",
       "       'Нижний Новгород', 'Кострома', 'Владивосток', 'Тамбов', 'Балашиха',\n",
       "       'Севастополь', 'Калининград', 'Оренбург', 'Смоленск',\n",
       "       'Нижневартовск', 'Владимир', 'Новороссийск', 'Грозный', 'Подольск'],\n",
       "      dtype=object)"
      ]
     },
     "execution_count": 66,
     "metadata": {},
     "output_type": "execute_result"
    }
   ],
   "source": [
    "df['city'].unique() # Создадим выборку для города Москва и всех остальных регионов"
   ]
  },
  {
   "cell_type": "code",
   "execution_count": 67,
   "metadata": {},
   "outputs": [
    {
     "ename": "KeyError",
     "evalue": "'total_paid'",
     "output_type": "error",
     "traceback": [
      "\u001b[0;31m---------------------------------------------------------------------------\u001b[0m",
      "\u001b[0;31mKeyError\u001b[0m                                  Traceback (most recent call last)",
      "\u001b[0;32m/opt/conda/lib/python3.9/site-packages/pandas/core/indexes/base.py\u001b[0m in \u001b[0;36mget_loc\u001b[0;34m(self, key, method, tolerance)\u001b[0m\n\u001b[1;32m   3079\u001b[0m             \u001b[0;32mtry\u001b[0m\u001b[0;34m:\u001b[0m\u001b[0;34m\u001b[0m\u001b[0;34m\u001b[0m\u001b[0m\n\u001b[0;32m-> 3080\u001b[0;31m                 \u001b[0;32mreturn\u001b[0m \u001b[0mself\u001b[0m\u001b[0;34m.\u001b[0m\u001b[0m_engine\u001b[0m\u001b[0;34m.\u001b[0m\u001b[0mget_loc\u001b[0m\u001b[0;34m(\u001b[0m\u001b[0mcasted_key\u001b[0m\u001b[0;34m)\u001b[0m\u001b[0;34m\u001b[0m\u001b[0;34m\u001b[0m\u001b[0m\n\u001b[0m\u001b[1;32m   3081\u001b[0m             \u001b[0;32mexcept\u001b[0m \u001b[0mKeyError\u001b[0m \u001b[0;32mas\u001b[0m \u001b[0merr\u001b[0m\u001b[0;34m:\u001b[0m\u001b[0;34m\u001b[0m\u001b[0;34m\u001b[0m\u001b[0m\n",
      "\u001b[0;32mpandas/_libs/index.pyx\u001b[0m in \u001b[0;36mpandas._libs.index.IndexEngine.get_loc\u001b[0;34m()\u001b[0m\n",
      "\u001b[0;32mpandas/_libs/index.pyx\u001b[0m in \u001b[0;36mpandas._libs.index.IndexEngine.get_loc\u001b[0;34m()\u001b[0m\n",
      "\u001b[0;32mpandas/_libs/hashtable_class_helper.pxi\u001b[0m in \u001b[0;36mpandas._libs.hashtable.PyObjectHashTable.get_item\u001b[0;34m()\u001b[0m\n",
      "\u001b[0;32mpandas/_libs/hashtable_class_helper.pxi\u001b[0m in \u001b[0;36mpandas._libs.hashtable.PyObjectHashTable.get_item\u001b[0;34m()\u001b[0m\n",
      "\u001b[0;31mKeyError\u001b[0m: 'total_paid'",
      "\nThe above exception was the direct cause of the following exception:\n",
      "\u001b[0;31mKeyError\u001b[0m                                  Traceback (most recent call last)",
      "\u001b[0;32m/tmp/ipykernel_31/3476074048.py\u001b[0m in \u001b[0;36m<module>\u001b[0;34m\u001b[0m\n\u001b[1;32m      2\u001b[0m \u001b[0mmoscow\u001b[0m \u001b[0;34m=\u001b[0m \u001b[0mdf\u001b[0m\u001b[0;34m[\u001b[0m\u001b[0mdf\u001b[0m\u001b[0;34m[\u001b[0m\u001b[0;34m'region'\u001b[0m\u001b[0;34m]\u001b[0m \u001b[0;34m==\u001b[0m \u001b[0;34m'Москва'\u001b[0m\u001b[0;34m]\u001b[0m\u001b[0;34m\u001b[0m\u001b[0;34m\u001b[0m\u001b[0m\n\u001b[1;32m      3\u001b[0m \u001b[0mprovince\u001b[0m \u001b[0;34m=\u001b[0m \u001b[0mdf\u001b[0m\u001b[0;34m[\u001b[0m\u001b[0mdf\u001b[0m\u001b[0;34m[\u001b[0m\u001b[0;34m'region'\u001b[0m\u001b[0;34m]\u001b[0m \u001b[0;34m==\u001b[0m \u001b[0;34m'Провинция'\u001b[0m\u001b[0;34m]\u001b[0m\u001b[0;34m\u001b[0m\u001b[0;34m\u001b[0m\u001b[0m\n\u001b[0;32m----> 4\u001b[0;31m \u001b[0mmoscow\u001b[0m \u001b[0;34m=\u001b[0m \u001b[0mdelete_emissions\u001b[0m\u001b[0;34m(\u001b[0m\u001b[0mmoscow\u001b[0m\u001b[0;34m,\u001b[0m \u001b[0;34m'total_paid'\u001b[0m\u001b[0;34m,\u001b[0m \u001b[0;36m0\u001b[0m\u001b[0;34m)\u001b[0m\u001b[0;34m\u001b[0m\u001b[0;34m\u001b[0m\u001b[0m\n\u001b[0m\u001b[1;32m      5\u001b[0m \u001b[0mmoscow\u001b[0m \u001b[0;34m=\u001b[0m \u001b[0mmoscow\u001b[0m\u001b[0;34m[\u001b[0m\u001b[0;34m'total_paid'\u001b[0m\u001b[0;34m]\u001b[0m\u001b[0;34m\u001b[0m\u001b[0;34m\u001b[0m\u001b[0m\n\u001b[1;32m      6\u001b[0m \u001b[0mprovince\u001b[0m \u001b[0;34m=\u001b[0m \u001b[0mdelete_emissions\u001b[0m\u001b[0;34m(\u001b[0m\u001b[0mprovince\u001b[0m\u001b[0;34m,\u001b[0m \u001b[0;34m'total_paid'\u001b[0m\u001b[0;34m,\u001b[0m \u001b[0;36m0\u001b[0m\u001b[0;34m)\u001b[0m\u001b[0;34m\u001b[0m\u001b[0;34m\u001b[0m\u001b[0m\n",
      "\u001b[0;32m/tmp/ipykernel_31/1265277404.py\u001b[0m in \u001b[0;36mdelete_emissions\u001b[0;34m(df, column, graphic, x, y)\u001b[0m\n\u001b[1;32m      1\u001b[0m \u001b[0;32mdef\u001b[0m \u001b[0mdelete_emissions\u001b[0m\u001b[0;34m(\u001b[0m\u001b[0mdf\u001b[0m\u001b[0;34m,\u001b[0m \u001b[0mcolumn\u001b[0m\u001b[0;34m,\u001b[0m \u001b[0mgraphic\u001b[0m\u001b[0;34m=\u001b[0m\u001b[0;36m0\u001b[0m\u001b[0;34m,\u001b[0m \u001b[0mx\u001b[0m \u001b[0;34m=\u001b[0m \u001b[0;36m10\u001b[0m\u001b[0;34m,\u001b[0m \u001b[0my\u001b[0m \u001b[0;34m=\u001b[0m \u001b[0;36m10\u001b[0m\u001b[0;34m)\u001b[0m\u001b[0;34m:\u001b[0m \u001b[0;31m#функция для удаления выбросов.\u001b[0m\u001b[0;34m\u001b[0m\u001b[0;34m\u001b[0m\u001b[0m\n\u001b[0;32m----> 2\u001b[0;31m     \u001b[0mq1\u001b[0m \u001b[0;34m=\u001b[0m \u001b[0mdf\u001b[0m\u001b[0;34m[\u001b[0m\u001b[0mcolumn\u001b[0m\u001b[0;34m]\u001b[0m\u001b[0;34m.\u001b[0m\u001b[0mquantile\u001b[0m\u001b[0;34m(\u001b[0m\u001b[0;36m0.25\u001b[0m\u001b[0;34m)\u001b[0m\u001b[0;34m\u001b[0m\u001b[0;34m\u001b[0m\u001b[0m\n\u001b[0m\u001b[1;32m      3\u001b[0m     \u001b[0mq3\u001b[0m \u001b[0;34m=\u001b[0m \u001b[0mdf\u001b[0m\u001b[0;34m[\u001b[0m\u001b[0mcolumn\u001b[0m\u001b[0;34m]\u001b[0m\u001b[0;34m.\u001b[0m\u001b[0mquantile\u001b[0m\u001b[0;34m(\u001b[0m\u001b[0;36m0.75\u001b[0m\u001b[0;34m)\u001b[0m\u001b[0;34m\u001b[0m\u001b[0;34m\u001b[0m\u001b[0m\n\u001b[1;32m      4\u001b[0m     \u001b[0miqr\u001b[0m \u001b[0;34m=\u001b[0m \u001b[0mq3\u001b[0m \u001b[0;34m-\u001b[0m \u001b[0mq1\u001b[0m\u001b[0;34m\u001b[0m\u001b[0;34m\u001b[0m\u001b[0m\n\u001b[1;32m      5\u001b[0m     \u001b[0miqr_test\u001b[0m \u001b[0;34m=\u001b[0m \u001b[0;34m(\u001b[0m\u001b[0mdf\u001b[0m\u001b[0;34m[\u001b[0m\u001b[0mcolumn\u001b[0m\u001b[0;34m]\u001b[0m \u001b[0;34m>=\u001b[0m \u001b[0;34m(\u001b[0m\u001b[0mq1\u001b[0m \u001b[0;34m-\u001b[0m \u001b[0;36m1.5\u001b[0m \u001b[0;34m*\u001b[0m \u001b[0miqr\u001b[0m\u001b[0;34m)\u001b[0m\u001b[0;34m)\u001b[0m \u001b[0;34m&\u001b[0m \u001b[0;34m(\u001b[0m\u001b[0mdf\u001b[0m\u001b[0;34m[\u001b[0m\u001b[0mcolumn\u001b[0m\u001b[0;34m]\u001b[0m \u001b[0;34m<=\u001b[0m \u001b[0;34m(\u001b[0m\u001b[0mq3\u001b[0m \u001b[0;34m+\u001b[0m \u001b[0;36m1.5\u001b[0m \u001b[0;34m*\u001b[0m \u001b[0miqr\u001b[0m\u001b[0;34m)\u001b[0m\u001b[0;34m)\u001b[0m\u001b[0;34m\u001b[0m\u001b[0;34m\u001b[0m\u001b[0m\n",
      "\u001b[0;32m/opt/conda/lib/python3.9/site-packages/pandas/core/frame.py\u001b[0m in \u001b[0;36m__getitem__\u001b[0;34m(self, key)\u001b[0m\n\u001b[1;32m   3022\u001b[0m             \u001b[0;32mif\u001b[0m \u001b[0mself\u001b[0m\u001b[0;34m.\u001b[0m\u001b[0mcolumns\u001b[0m\u001b[0;34m.\u001b[0m\u001b[0mnlevels\u001b[0m \u001b[0;34m>\u001b[0m \u001b[0;36m1\u001b[0m\u001b[0;34m:\u001b[0m\u001b[0;34m\u001b[0m\u001b[0;34m\u001b[0m\u001b[0m\n\u001b[1;32m   3023\u001b[0m                 \u001b[0;32mreturn\u001b[0m \u001b[0mself\u001b[0m\u001b[0;34m.\u001b[0m\u001b[0m_getitem_multilevel\u001b[0m\u001b[0;34m(\u001b[0m\u001b[0mkey\u001b[0m\u001b[0;34m)\u001b[0m\u001b[0;34m\u001b[0m\u001b[0;34m\u001b[0m\u001b[0m\n\u001b[0;32m-> 3024\u001b[0;31m             \u001b[0mindexer\u001b[0m \u001b[0;34m=\u001b[0m \u001b[0mself\u001b[0m\u001b[0;34m.\u001b[0m\u001b[0mcolumns\u001b[0m\u001b[0;34m.\u001b[0m\u001b[0mget_loc\u001b[0m\u001b[0;34m(\u001b[0m\u001b[0mkey\u001b[0m\u001b[0;34m)\u001b[0m\u001b[0;34m\u001b[0m\u001b[0;34m\u001b[0m\u001b[0m\n\u001b[0m\u001b[1;32m   3025\u001b[0m             \u001b[0;32mif\u001b[0m \u001b[0mis_integer\u001b[0m\u001b[0;34m(\u001b[0m\u001b[0mindexer\u001b[0m\u001b[0;34m)\u001b[0m\u001b[0;34m:\u001b[0m\u001b[0;34m\u001b[0m\u001b[0;34m\u001b[0m\u001b[0m\n\u001b[1;32m   3026\u001b[0m                 \u001b[0mindexer\u001b[0m \u001b[0;34m=\u001b[0m \u001b[0;34m[\u001b[0m\u001b[0mindexer\u001b[0m\u001b[0;34m]\u001b[0m\u001b[0;34m\u001b[0m\u001b[0;34m\u001b[0m\u001b[0m\n",
      "\u001b[0;32m/opt/conda/lib/python3.9/site-packages/pandas/core/indexes/base.py\u001b[0m in \u001b[0;36mget_loc\u001b[0;34m(self, key, method, tolerance)\u001b[0m\n\u001b[1;32m   3080\u001b[0m                 \u001b[0;32mreturn\u001b[0m \u001b[0mself\u001b[0m\u001b[0;34m.\u001b[0m\u001b[0m_engine\u001b[0m\u001b[0;34m.\u001b[0m\u001b[0mget_loc\u001b[0m\u001b[0;34m(\u001b[0m\u001b[0mcasted_key\u001b[0m\u001b[0;34m)\u001b[0m\u001b[0;34m\u001b[0m\u001b[0;34m\u001b[0m\u001b[0m\n\u001b[1;32m   3081\u001b[0m             \u001b[0;32mexcept\u001b[0m \u001b[0mKeyError\u001b[0m \u001b[0;32mas\u001b[0m \u001b[0merr\u001b[0m\u001b[0;34m:\u001b[0m\u001b[0;34m\u001b[0m\u001b[0;34m\u001b[0m\u001b[0m\n\u001b[0;32m-> 3082\u001b[0;31m                 \u001b[0;32mraise\u001b[0m \u001b[0mKeyError\u001b[0m\u001b[0;34m(\u001b[0m\u001b[0mkey\u001b[0m\u001b[0;34m)\u001b[0m \u001b[0;32mfrom\u001b[0m \u001b[0merr\u001b[0m\u001b[0;34m\u001b[0m\u001b[0;34m\u001b[0m\u001b[0m\n\u001b[0m\u001b[1;32m   3083\u001b[0m \u001b[0;34m\u001b[0m\u001b[0m\n\u001b[1;32m   3084\u001b[0m         \u001b[0;32mif\u001b[0m \u001b[0mtolerance\u001b[0m \u001b[0;32mis\u001b[0m \u001b[0;32mnot\u001b[0m \u001b[0;32mNone\u001b[0m\u001b[0;34m:\u001b[0m\u001b[0;34m\u001b[0m\u001b[0;34m\u001b[0m\u001b[0m\n",
      "\u001b[0;31mKeyError\u001b[0m: 'total_paid'"
     ]
    }
   ],
   "source": [
    "df['region'] = np.where(df['city'] == 'Москва', 'Москва', 'Провинция')\n",
    "moscow = df[df['region'] == 'Москва']\n",
    "province = df[df['region'] == 'Провинция']\n",
    "moscow = delete_emissions(moscow, 'total_paid', 0)\n",
    "moscow = moscow['total_paid']\n",
    "province = delete_emissions(province, 'total_paid', 0)\n",
    "province = province['total_paid']\n",
    "results = st.ttest_ind(moscow, province)\n",
    "display('p-значение:', results.pvalue)\n",
    "\n",
    "if (results.pvalue < alpha):\n",
    "    display(\"Отвергаем нулевую гипотезу\")\n",
    "else:\n",
    "    display(\"Не получилось отвергнуть нулевую гипотезу\")\n",
    "\n"
   ]
  },
  {
   "cell_type": "markdown",
   "metadata": {},
   "source": [
    "**Вывод** <br> Данный ответ означает, разницы между средней выручки Москвы и остальных городов нет.\n",
    "\n",
    "<br> При сравнении статистических данных по выборкам с генеральной выборкой можно увидить, что данные соотвествуют нормальному распределению в независимсости от выбранного города.\n",
    "\n"
   ]
  },
  {
   "cell_type": "markdown",
   "metadata": {},
   "source": [
    "# 4 Общий вывод"
   ]
  },
  {
   "cell_type": "markdown",
   "metadata": {},
   "source": [
    "<br> Проанализирована каждая таблица, выявлены аномалии и связи между ними.\n",
    "<br> Составлена общая таблица данных о пользователях сети\n",
    "<br> Заполнены пропуски \n",
    "<br> Проведен сравнительный анализ пользователей тарифов\n",
    "<br> Проверены гипотезы на возможное соотвествие\n",
    "<br> Предложенные тарифы сильно отличаются друг от друга, соответственно их выручка разная. Пользователи тарифа Смарт чаще пользователей тарифа Ultra перерасходывют лимиты тарифов. Из этого следует, что выручка по тарифу Смарт больше.\n",
    "\n",
    "<br> При сравнении расходов пользователей, можно сделать вывод, что первый тариф не соответвует большинству пользователей практически по всем пунктам (более половины случаев переплат только за интернет). По тарифу Смарт заявленный лимит по минутам и смс практически не расходуется в полном объеме, перерасход может быть только за интернету.\n",
    "\n",
    "<br> На основании статистического анализа: распределения данных находяться на разных значениях выручки и не может быть похожими друг на друга.\n",
    "\n",
    "<br> Разницы по местоположению пользователя нет как в общем, так и отдельно по тарифам. Средняя выручка за тариф не отличается.\n",
    "\n",
    "\n",
    "<br> Были выдвинуты две гипотезы:\n",
    "\n",
    "<br> Средняя выручка пользователей тарифов «Ультра» и «Смарт» различается.\n",
    "<br> Средняя выручка пользователей из Москвы отличается от выручки пользователей из других регионов.\n",
    "<br> Гипотеза 1 подтвердилась и говорит нам о том, что выручка по тарифамм отличается, но можно предположить, что на тарифе Ультра выручки больше, чем на тарифе Смарт.\n",
    "\n",
    "<br> Гипотеза 2 была опровергнута. Это значит, что нормальное распределение по выручке за месяц между городом Москва и остальной страной не отличается."
   ]
  },
  {
   "cell_type": "markdown",
   "metadata": {},
   "source": [
    "**Рекомендации оператору:**\n",
    "<br>Предложенные тарифы сильно отличаются друг от друга, соответственно их выручка разная. Пользователи тарифа Смарт чаще пользователей тарифа Ultra перерасходывют лимиты тарифов. Из этого следует, что выручка по тарифу Смарт больше. \n",
    "<br>Оператору я бы рекомендовал оптимизировать тариф, например назвать тариф Medium, в котором будут средние тарифы взятые от Ультра и Смарт. А если оставить выборку между двумя, то рекламировать конечно же тариф Смарт. "
   ]
  },
  {
   "cell_type": "code",
   "execution_count": null,
   "metadata": {},
   "outputs": [],
   "source": []
  }
 ],
 "metadata": {
  "ExecuteTimeLog": [
   {
    "duration": 660,
    "start_time": "2022-03-15T14:17:05.018Z"
   },
   {
    "duration": 368,
    "start_time": "2022-03-15T14:18:25.966Z"
   },
   {
    "duration": 3,
    "start_time": "2022-03-15T14:18:46.403Z"
   },
   {
    "duration": 384,
    "start_time": "2022-03-15T14:19:03.335Z"
   },
   {
    "duration": 13,
    "start_time": "2022-03-15T14:19:18.523Z"
   },
   {
    "duration": 16,
    "start_time": "2022-03-15T14:19:41.584Z"
   },
   {
    "duration": 7,
    "start_time": "2022-03-15T14:20:25.295Z"
   },
   {
    "duration": 7,
    "start_time": "2022-03-15T14:21:10.187Z"
   },
   {
    "duration": 6,
    "start_time": "2022-03-15T14:21:20.298Z"
   },
   {
    "duration": 7,
    "start_time": "2022-03-15T14:21:40.899Z"
   },
   {
    "duration": 8,
    "start_time": "2022-03-15T14:23:14.216Z"
   },
   {
    "duration": 28,
    "start_time": "2022-03-15T14:23:28.464Z"
   },
   {
    "duration": 21,
    "start_time": "2022-03-15T14:23:40.194Z"
   },
   {
    "duration": 33,
    "start_time": "2022-03-15T14:24:09.823Z"
   },
   {
    "duration": 22,
    "start_time": "2022-03-15T14:24:30.210Z"
   },
   {
    "duration": 8,
    "start_time": "2022-03-15T14:25:50.152Z"
   },
   {
    "duration": 8,
    "start_time": "2022-03-15T14:26:58.503Z"
   },
   {
    "duration": 18,
    "start_time": "2022-03-15T14:27:40.034Z"
   },
   {
    "duration": 13,
    "start_time": "2022-03-15T14:27:56.609Z"
   },
   {
    "duration": 11,
    "start_time": "2022-03-15T14:28:30.945Z"
   },
   {
    "duration": 14,
    "start_time": "2022-03-15T14:28:55.330Z"
   },
   {
    "duration": 8,
    "start_time": "2022-03-15T14:28:58.299Z"
   },
   {
    "duration": 8,
    "start_time": "2022-03-15T14:29:54.817Z"
   },
   {
    "duration": 24,
    "start_time": "2022-03-15T14:30:35.051Z"
   },
   {
    "duration": 31,
    "start_time": "2022-03-15T14:31:10.568Z"
   },
   {
    "duration": 14,
    "start_time": "2022-03-15T14:32:55.008Z"
   },
   {
    "duration": 17,
    "start_time": "2022-03-15T14:51:47.448Z"
   },
   {
    "duration": 261,
    "start_time": "2022-03-15T14:52:36.822Z"
   },
   {
    "duration": 12,
    "start_time": "2022-03-15T14:52:44.249Z"
   },
   {
    "duration": 25,
    "start_time": "2022-03-15T14:53:27.456Z"
   },
   {
    "duration": 6,
    "start_time": "2022-03-15T14:54:02.327Z"
   },
   {
    "duration": 65,
    "start_time": "2022-03-15T15:04:03.530Z"
   },
   {
    "duration": 37,
    "start_time": "2022-03-15T15:04:27.318Z"
   },
   {
    "duration": 175,
    "start_time": "2022-03-15T15:05:00.797Z"
   },
   {
    "duration": 33,
    "start_time": "2022-03-15T15:05:06.926Z"
   },
   {
    "duration": 8,
    "start_time": "2022-03-15T15:05:08.754Z"
   },
   {
    "duration": 9,
    "start_time": "2022-03-15T15:07:04.168Z"
   },
   {
    "duration": 8,
    "start_time": "2022-03-15T15:07:30.939Z"
   },
   {
    "duration": 7,
    "start_time": "2022-03-15T15:07:33.347Z"
   },
   {
    "duration": 44,
    "start_time": "2022-03-15T15:08:31.526Z"
   },
   {
    "duration": 61,
    "start_time": "2022-03-15T15:10:38.571Z"
   },
   {
    "duration": 38,
    "start_time": "2022-03-15T15:12:06.366Z"
   },
   {
    "duration": 55,
    "start_time": "2022-03-15T15:12:14.755Z"
   },
   {
    "duration": 55,
    "start_time": "2022-03-15T15:12:22.627Z"
   },
   {
    "duration": 41,
    "start_time": "2022-03-15T15:12:26.707Z"
   },
   {
    "duration": 8,
    "start_time": "2022-03-15T15:12:30.685Z"
   },
   {
    "duration": 4281,
    "start_time": "2022-03-15T15:13:27.633Z"
   },
   {
    "duration": 23,
    "start_time": "2022-03-15T15:14:21.322Z"
   },
   {
    "duration": 7,
    "start_time": "2022-03-15T15:14:28.593Z"
   },
   {
    "duration": 9,
    "start_time": "2022-03-15T15:16:11.463Z"
   },
   {
    "duration": 48,
    "start_time": "2022-03-15T15:17:24.963Z"
   },
   {
    "duration": 57,
    "start_time": "2022-03-15T15:17:31.769Z"
   },
   {
    "duration": 171,
    "start_time": "2022-03-15T15:21:16.006Z"
   },
   {
    "duration": 55,
    "start_time": "2022-03-15T15:21:22.214Z"
   },
   {
    "duration": 182,
    "start_time": "2022-03-15T15:21:23.346Z"
   },
   {
    "duration": 95,
    "start_time": "2022-03-15T15:21:31.562Z"
   },
   {
    "duration": 200,
    "start_time": "2022-03-15T15:22:15.319Z"
   },
   {
    "duration": 32,
    "start_time": "2022-03-15T15:22:25.715Z"
   },
   {
    "duration": 7,
    "start_time": "2022-03-15T15:22:28.063Z"
   },
   {
    "duration": 188,
    "start_time": "2022-03-15T15:23:10.403Z"
   },
   {
    "duration": 180,
    "start_time": "2022-03-15T15:23:20.434Z"
   },
   {
    "duration": 187,
    "start_time": "2022-03-15T15:23:51.747Z"
   },
   {
    "duration": 170,
    "start_time": "2022-03-15T15:25:26.391Z"
   },
   {
    "duration": 168,
    "start_time": "2022-03-15T15:25:36.779Z"
   },
   {
    "duration": 5,
    "start_time": "2022-03-15T15:27:59.560Z"
   },
   {
    "duration": 8,
    "start_time": "2022-03-15T15:28:03.466Z"
   },
   {
    "duration": 37,
    "start_time": "2022-03-15T15:28:59.880Z"
   },
   {
    "duration": 8,
    "start_time": "2022-03-15T15:29:02.817Z"
   },
   {
    "duration": 216,
    "start_time": "2022-03-15T15:29:29.950Z"
   },
   {
    "duration": 77,
    "start_time": "2022-03-15T15:29:42.665Z"
   },
   {
    "duration": 45,
    "start_time": "2022-03-15T15:29:56.050Z"
   },
   {
    "duration": 8,
    "start_time": "2022-03-15T15:29:58.480Z"
   },
   {
    "duration": 46,
    "start_time": "2022-03-15T15:30:23.856Z"
   },
   {
    "duration": 22,
    "start_time": "2022-03-15T15:30:24.856Z"
   },
   {
    "duration": 7,
    "start_time": "2022-03-15T15:30:25.402Z"
   },
   {
    "duration": 57,
    "start_time": "2022-03-15T15:30:26.465Z"
   },
   {
    "duration": 30,
    "start_time": "2022-03-15T15:30:27.065Z"
   },
   {
    "duration": 11,
    "start_time": "2022-03-15T15:30:27.637Z"
   },
   {
    "duration": 3,
    "start_time": "2022-03-15T15:31:37.833Z"
   },
   {
    "duration": 21,
    "start_time": "2022-03-15T15:32:11.040Z"
   },
   {
    "duration": 21,
    "start_time": "2022-03-15T15:36:25.377Z"
   },
   {
    "duration": 230,
    "start_time": "2022-03-15T15:39:36.517Z"
   },
   {
    "duration": 207,
    "start_time": "2022-03-15T15:39:52.005Z"
   },
   {
    "duration": 195,
    "start_time": "2022-03-15T15:40:48.959Z"
   },
   {
    "duration": 268,
    "start_time": "2022-03-15T15:40:56.050Z"
   },
   {
    "duration": 18,
    "start_time": "2022-03-15T15:41:15.388Z"
   },
   {
    "duration": 186,
    "start_time": "2022-03-15T15:41:38.958Z"
   },
   {
    "duration": 243,
    "start_time": "2022-03-15T15:41:52.260Z"
   },
   {
    "duration": 206,
    "start_time": "2022-03-15T15:42:17.849Z"
   },
   {
    "duration": 274,
    "start_time": "2022-03-15T15:43:13.725Z"
   },
   {
    "duration": 28,
    "start_time": "2022-03-15T15:43:48.119Z"
   },
   {
    "duration": 208,
    "start_time": "2022-03-15T15:43:58.649Z"
   },
   {
    "duration": 9,
    "start_time": "2022-03-15T15:45:40.292Z"
   },
   {
    "duration": 31,
    "start_time": "2022-03-15T15:45:53.829Z"
   },
   {
    "duration": 29,
    "start_time": "2022-03-15T15:46:14.764Z"
   },
   {
    "duration": 7,
    "start_time": "2022-03-15T15:46:16.357Z"
   },
   {
    "duration": 3,
    "start_time": "2022-03-15T15:46:33.109Z"
   },
   {
    "duration": 5,
    "start_time": "2022-03-15T15:46:33.636Z"
   },
   {
    "duration": 434,
    "start_time": "2022-03-15T15:46:34.230Z"
   },
   {
    "duration": 8,
    "start_time": "2022-03-15T15:46:35.653Z"
   },
   {
    "duration": 33,
    "start_time": "2022-03-15T15:46:36.221Z"
   },
   {
    "duration": 24,
    "start_time": "2022-03-15T15:46:36.820Z"
   },
   {
    "duration": 30,
    "start_time": "2022-03-15T15:46:37.450Z"
   },
   {
    "duration": 32,
    "start_time": "2022-03-15T15:46:38.029Z"
   },
   {
    "duration": 9,
    "start_time": "2022-03-15T15:46:38.588Z"
   },
   {
    "duration": 8,
    "start_time": "2022-03-15T15:46:39.820Z"
   },
   {
    "duration": 29,
    "start_time": "2022-03-15T15:46:40.431Z"
   },
   {
    "duration": 29,
    "start_time": "2022-03-15T15:46:40.935Z"
   },
   {
    "duration": 39,
    "start_time": "2022-03-15T15:46:41.398Z"
   },
   {
    "duration": 8,
    "start_time": "2022-03-15T15:46:41.806Z"
   },
   {
    "duration": 8,
    "start_time": "2022-03-15T15:46:42.318Z"
   },
   {
    "duration": 14,
    "start_time": "2022-03-15T15:46:43.310Z"
   },
   {
    "duration": 18,
    "start_time": "2022-03-15T15:46:43.789Z"
   },
   {
    "duration": 16,
    "start_time": "2022-03-15T15:46:44.249Z"
   },
   {
    "duration": 9,
    "start_time": "2022-03-15T15:46:44.652Z"
   },
   {
    "duration": 9,
    "start_time": "2022-03-15T15:46:45.609Z"
   },
   {
    "duration": 10,
    "start_time": "2022-03-15T15:46:46.772Z"
   },
   {
    "duration": 34,
    "start_time": "2022-03-15T15:46:52.029Z"
   },
   {
    "duration": 7,
    "start_time": "2022-03-15T15:46:53.725Z"
   },
   {
    "duration": 10,
    "start_time": "2022-03-15T15:47:03.208Z"
   },
   {
    "duration": 15,
    "start_time": "2022-03-15T15:47:03.751Z"
   },
   {
    "duration": 7,
    "start_time": "2022-03-15T15:47:04.220Z"
   },
   {
    "duration": 7,
    "start_time": "2022-03-15T15:47:04.653Z"
   },
   {
    "duration": 6,
    "start_time": "2022-03-15T15:47:05.108Z"
   },
   {
    "duration": 76,
    "start_time": "2022-03-15T15:47:06.980Z"
   },
   {
    "duration": 38,
    "start_time": "2022-03-15T15:47:07.572Z"
   },
   {
    "duration": 9,
    "start_time": "2022-03-15T15:47:08.094Z"
   },
   {
    "duration": 51,
    "start_time": "2022-03-15T15:47:08.829Z"
   },
   {
    "duration": 23,
    "start_time": "2022-03-15T15:47:09.021Z"
   },
   {
    "duration": 7,
    "start_time": "2022-03-15T15:47:09.221Z"
   },
   {
    "duration": 60,
    "start_time": "2022-03-15T15:47:09.637Z"
   },
   {
    "duration": 31,
    "start_time": "2022-03-15T15:47:09.829Z"
   },
   {
    "duration": 7,
    "start_time": "2022-03-15T15:47:10.029Z"
   },
   {
    "duration": 22,
    "start_time": "2022-03-15T15:47:10.450Z"
   },
   {
    "duration": 20,
    "start_time": "2022-03-15T15:47:10.676Z"
   },
   {
    "duration": 204,
    "start_time": "2022-03-15T15:47:13.773Z"
   },
   {
    "duration": 208,
    "start_time": "2022-03-15T15:47:19.789Z"
   },
   {
    "duration": 7,
    "start_time": "2022-03-15T15:48:26.172Z"
   },
   {
    "duration": 4677,
    "start_time": "2022-03-15T15:49:10.610Z"
   },
   {
    "duration": 6,
    "start_time": "2022-03-15T15:50:23.694Z"
   },
   {
    "duration": 2,
    "start_time": "2022-03-15T15:50:45.366Z"
   },
   {
    "duration": 9,
    "start_time": "2022-03-15T15:51:06.900Z"
   },
   {
    "duration": 13,
    "start_time": "2022-03-15T15:51:23.563Z"
   },
   {
    "duration": 11,
    "start_time": "2022-03-15T15:51:36.750Z"
   },
   {
    "duration": 8,
    "start_time": "2022-03-15T15:53:24.651Z"
   },
   {
    "duration": 27,
    "start_time": "2022-03-15T15:53:25.572Z"
   },
   {
    "duration": 6,
    "start_time": "2022-03-15T15:53:29.062Z"
   },
   {
    "duration": 11,
    "start_time": "2022-03-15T15:53:34.150Z"
   },
   {
    "duration": 185,
    "start_time": "2022-03-15T15:53:46.172Z"
   },
   {
    "duration": 2,
    "start_time": "2022-03-15T15:54:37.996Z"
   },
   {
    "duration": 7,
    "start_time": "2022-03-15T15:54:40.212Z"
   },
   {
    "duration": 10,
    "start_time": "2022-03-15T15:54:42.379Z"
   },
   {
    "duration": 7,
    "start_time": "2022-03-15T15:54:45.684Z"
   },
   {
    "duration": 9,
    "start_time": "2022-03-15T15:54:47.698Z"
   },
   {
    "duration": 4,
    "start_time": "2022-03-15T15:58:15.885Z"
   },
   {
    "duration": 13,
    "start_time": "2022-03-15T15:58:26.481Z"
   },
   {
    "duration": 1419,
    "start_time": "2022-03-16T14:52:51.824Z"
   },
   {
    "duration": 4,
    "start_time": "2022-03-16T14:52:53.874Z"
   },
   {
    "duration": 2353,
    "start_time": "2022-03-16T14:52:55.535Z"
   },
   {
    "duration": 15,
    "start_time": "2022-03-16T14:53:01.989Z"
   },
   {
    "duration": 38,
    "start_time": "2022-03-16T14:53:02.693Z"
   },
   {
    "duration": 32,
    "start_time": "2022-03-16T14:53:03.249Z"
   },
   {
    "duration": 43,
    "start_time": "2022-03-16T14:53:03.763Z"
   },
   {
    "duration": 32,
    "start_time": "2022-03-16T14:53:04.233Z"
   },
   {
    "duration": 11,
    "start_time": "2022-03-16T14:53:04.746Z"
   },
   {
    "duration": 16,
    "start_time": "2022-03-16T14:53:05.771Z"
   },
   {
    "duration": 34,
    "start_time": "2022-03-16T14:53:06.281Z"
   },
   {
    "duration": 26,
    "start_time": "2022-03-16T14:53:06.658Z"
   },
   {
    "duration": 50,
    "start_time": "2022-03-16T14:53:07.079Z"
   },
   {
    "duration": 11,
    "start_time": "2022-03-16T14:53:07.549Z"
   },
   {
    "duration": 11,
    "start_time": "2022-03-16T14:53:07.973Z"
   },
   {
    "duration": 18,
    "start_time": "2022-03-16T14:53:08.971Z"
   },
   {
    "duration": 27,
    "start_time": "2022-03-16T14:53:09.498Z"
   },
   {
    "duration": 22,
    "start_time": "2022-03-16T14:53:09.946Z"
   },
   {
    "duration": 11,
    "start_time": "2022-03-16T14:53:10.503Z"
   },
   {
    "duration": 12,
    "start_time": "2022-03-16T14:53:11.474Z"
   },
   {
    "duration": 42,
    "start_time": "2022-03-16T14:53:15.916Z"
   },
   {
    "duration": 9,
    "start_time": "2022-03-16T14:53:16.565Z"
   },
   {
    "duration": 17,
    "start_time": "2022-03-16T14:53:18.234Z"
   },
   {
    "duration": 21,
    "start_time": "2022-03-16T14:53:18.771Z"
   },
   {
    "duration": 10,
    "start_time": "2022-03-16T14:53:19.275Z"
   },
   {
    "duration": 11,
    "start_time": "2022-03-16T14:53:19.730Z"
   },
   {
    "duration": 10,
    "start_time": "2022-03-16T14:53:20.219Z"
   },
   {
    "duration": 121,
    "start_time": "2022-03-16T14:53:22.402Z"
   },
   {
    "duration": 49,
    "start_time": "2022-03-16T14:53:22.946Z"
   },
   {
    "duration": 12,
    "start_time": "2022-03-16T14:53:23.508Z"
   },
   {
    "duration": 70,
    "start_time": "2022-03-16T14:53:25.281Z"
   },
   {
    "duration": 34,
    "start_time": "2022-03-16T14:53:25.795Z"
   },
   {
    "duration": 13,
    "start_time": "2022-03-16T14:53:26.657Z"
   },
   {
    "duration": 118,
    "start_time": "2022-03-16T14:53:27.875Z"
   },
   {
    "duration": 41,
    "start_time": "2022-03-16T14:53:28.371Z"
   },
   {
    "duration": 12,
    "start_time": "2022-03-16T14:53:40.389Z"
   },
   {
    "duration": 39,
    "start_time": "2022-03-16T14:53:46.048Z"
   },
   {
    "duration": 29,
    "start_time": "2022-03-16T14:54:03.122Z"
   },
   {
    "duration": 501,
    "start_time": "2022-03-16T14:54:04.392Z"
   },
   {
    "duration": 3,
    "start_time": "2022-03-16T14:54:17.697Z"
   },
   {
    "duration": 12,
    "start_time": "2022-03-16T14:54:18.679Z"
   },
   {
    "duration": 14,
    "start_time": "2022-03-16T14:54:20.153Z"
   },
   {
    "duration": 5,
    "start_time": "2022-03-16T14:54:27.307Z"
   },
   {
    "duration": 21,
    "start_time": "2022-03-16T14:54:30.249Z"
   },
   {
    "duration": 6,
    "start_time": "2022-03-16T14:55:52.016Z"
   },
   {
    "duration": 19,
    "start_time": "2022-03-16T14:55:54.163Z"
   },
   {
    "duration": 5,
    "start_time": "2022-03-16T14:56:42.057Z"
   },
   {
    "duration": 341,
    "start_time": "2022-03-16T14:59:10.007Z"
   },
   {
    "duration": 635,
    "start_time": "2022-03-16T15:00:25.512Z"
   },
   {
    "duration": 6,
    "start_time": "2022-03-16T15:00:37.398Z"
   },
   {
    "duration": 10185,
    "start_time": "2022-03-16T15:00:41.122Z"
   },
   {
    "duration": 7,
    "start_time": "2022-03-16T15:02:05.620Z"
   },
   {
    "duration": 9407,
    "start_time": "2022-03-16T15:02:08.595Z"
   },
   {
    "duration": 7,
    "start_time": "2022-03-16T15:03:44.081Z"
   },
   {
    "duration": 9700,
    "start_time": "2022-03-16T15:03:48.620Z"
   },
   {
    "duration": 13,
    "start_time": "2022-03-16T15:04:47.184Z"
   },
   {
    "duration": 8,
    "start_time": "2022-03-16T15:05:08.967Z"
   },
   {
    "duration": 9988,
    "start_time": "2022-03-16T15:05:16.243Z"
   },
   {
    "duration": 6,
    "start_time": "2022-03-16T15:08:34.827Z"
   },
   {
    "duration": 5,
    "start_time": "2022-03-16T15:10:34.261Z"
   },
   {
    "duration": 10053,
    "start_time": "2022-03-16T15:10:41.283Z"
   },
   {
    "duration": 9411,
    "start_time": "2022-03-16T15:11:30.981Z"
   },
   {
    "duration": 327,
    "start_time": "2022-03-16T15:12:07.082Z"
   },
   {
    "duration": 330,
    "start_time": "2022-03-16T15:12:31.991Z"
   },
   {
    "duration": 328,
    "start_time": "2022-03-16T15:12:58.538Z"
   },
   {
    "duration": 315,
    "start_time": "2022-03-16T15:14:35.135Z"
   },
   {
    "duration": 446,
    "start_time": "2022-03-16T15:14:42.494Z"
   },
   {
    "duration": 327,
    "start_time": "2022-03-16T15:15:27.576Z"
   },
   {
    "duration": 19,
    "start_time": "2022-03-16T15:16:13.325Z"
   },
   {
    "duration": 13,
    "start_time": "2022-03-16T15:16:29.250Z"
   },
   {
    "duration": 30,
    "start_time": "2022-03-16T15:16:59.437Z"
   },
   {
    "duration": 321,
    "start_time": "2022-03-16T15:17:13.867Z"
   },
   {
    "duration": 309,
    "start_time": "2022-03-16T15:17:24.781Z"
   },
   {
    "duration": 339,
    "start_time": "2022-03-16T15:19:09.571Z"
   },
   {
    "duration": 5,
    "start_time": "2022-03-16T15:24:13.761Z"
   },
   {
    "duration": 3,
    "start_time": "2022-03-16T15:24:15.900Z"
   },
   {
    "duration": 162,
    "start_time": "2022-03-16T15:46:04.400Z"
   },
   {
    "duration": 10,
    "start_time": "2022-03-16T15:47:20.315Z"
   },
   {
    "duration": 39,
    "start_time": "2022-03-16T15:47:36.017Z"
   },
   {
    "duration": 10,
    "start_time": "2022-03-16T15:48:01.549Z"
   },
   {
    "duration": 14,
    "start_time": "2022-03-16T15:48:06.884Z"
   },
   {
    "duration": 6,
    "start_time": "2022-03-16T15:48:16.256Z"
   },
   {
    "duration": 9388,
    "start_time": "2022-03-16T15:48:23.092Z"
   },
   {
    "duration": 5,
    "start_time": "2022-03-16T15:51:05.650Z"
   },
   {
    "duration": 588,
    "start_time": "2022-03-16T15:51:08.714Z"
   },
   {
    "duration": 403,
    "start_time": "2022-03-16T15:51:46.384Z"
   },
   {
    "duration": 293,
    "start_time": "2022-03-16T15:59:53.592Z"
   },
   {
    "duration": 321,
    "start_time": "2022-03-16T16:00:19.936Z"
   },
   {
    "duration": 10,
    "start_time": "2022-03-16T16:00:37.273Z"
   },
   {
    "duration": 31,
    "start_time": "2022-03-16T16:01:27.114Z"
   },
   {
    "duration": 29,
    "start_time": "2022-03-16T16:01:37.681Z"
   },
   {
    "duration": 38,
    "start_time": "2022-03-16T16:01:48.513Z"
   },
   {
    "duration": 291,
    "start_time": "2022-03-16T16:03:13.754Z"
   },
   {
    "duration": 392,
    "start_time": "2022-03-16T16:03:17.098Z"
   },
   {
    "duration": 850,
    "start_time": "2022-03-16T16:05:30.592Z"
   },
   {
    "duration": 610,
    "start_time": "2022-03-16T16:05:58.503Z"
   },
   {
    "duration": 363,
    "start_time": "2022-03-16T16:06:32.859Z"
   },
   {
    "duration": 387,
    "start_time": "2022-03-16T16:06:51.977Z"
   },
   {
    "duration": 301,
    "start_time": "2022-03-16T16:07:01.775Z"
   },
   {
    "duration": 321,
    "start_time": "2022-03-16T16:09:18.277Z"
   },
   {
    "duration": 352,
    "start_time": "2022-03-16T16:09:43.775Z"
   },
   {
    "duration": 468,
    "start_time": "2022-03-16T16:11:35.713Z"
   },
   {
    "duration": 336,
    "start_time": "2022-03-16T16:11:57.134Z"
   },
   {
    "duration": 328,
    "start_time": "2022-03-16T16:12:37.242Z"
   },
   {
    "duration": 534,
    "start_time": "2022-03-16T16:14:54.857Z"
   },
   {
    "duration": 309,
    "start_time": "2022-03-16T16:15:08.282Z"
   },
   {
    "duration": 310,
    "start_time": "2022-03-16T16:17:04.840Z"
   },
   {
    "duration": 20,
    "start_time": "2022-03-16T16:17:40.472Z"
   },
   {
    "duration": 24,
    "start_time": "2022-03-16T16:18:15.462Z"
   },
   {
    "duration": 20,
    "start_time": "2022-03-16T16:19:48.654Z"
   },
   {
    "duration": 25,
    "start_time": "2022-03-16T16:20:15.775Z"
   },
   {
    "duration": 8,
    "start_time": "2022-03-16T16:24:17.151Z"
   },
   {
    "duration": 9003,
    "start_time": "2022-03-16T16:26:36.228Z"
   },
   {
    "duration": 402,
    "start_time": "2022-03-16T16:27:22.462Z"
   },
   {
    "duration": 30,
    "start_time": "2022-03-16T16:27:27.856Z"
   },
   {
    "duration": 296,
    "start_time": "2022-03-16T16:27:35.787Z"
   },
   {
    "duration": 346,
    "start_time": "2022-03-16T16:27:40.259Z"
   },
   {
    "duration": 24,
    "start_time": "2022-03-16T16:27:47.051Z"
   },
   {
    "duration": 16,
    "start_time": "2022-03-16T16:28:14.221Z"
   },
   {
    "duration": 308,
    "start_time": "2022-03-16T16:28:42.396Z"
   },
   {
    "duration": 19,
    "start_time": "2022-03-16T16:28:52.459Z"
   },
   {
    "duration": 26,
    "start_time": "2022-03-16T16:29:37.997Z"
   },
   {
    "duration": 98,
    "start_time": "2022-03-16T16:32:16.476Z"
   },
   {
    "duration": 7,
    "start_time": "2022-03-16T16:33:51.883Z"
   },
   {
    "duration": 31,
    "start_time": "2022-03-16T16:35:27.028Z"
   },
   {
    "duration": 1011,
    "start_time": "2022-03-17T03:52:47.186Z"
   },
   {
    "duration": 3,
    "start_time": "2022-03-17T03:52:48.837Z"
   },
   {
    "duration": 400,
    "start_time": "2022-03-17T03:52:49.625Z"
   },
   {
    "duration": 11,
    "start_time": "2022-03-17T03:52:51.337Z"
   },
   {
    "duration": 28,
    "start_time": "2022-03-17T03:52:51.875Z"
   },
   {
    "duration": 21,
    "start_time": "2022-03-17T03:52:52.431Z"
   },
   {
    "duration": 31,
    "start_time": "2022-03-17T03:52:52.967Z"
   },
   {
    "duration": 25,
    "start_time": "2022-03-17T03:52:53.487Z"
   },
   {
    "duration": 8,
    "start_time": "2022-03-17T03:52:54.079Z"
   },
   {
    "duration": 8,
    "start_time": "2022-03-17T03:52:55.069Z"
   },
   {
    "duration": 25,
    "start_time": "2022-03-17T03:52:55.603Z"
   },
   {
    "duration": 18,
    "start_time": "2022-03-17T03:52:56.080Z"
   },
   {
    "duration": 39,
    "start_time": "2022-03-17T03:52:56.528Z"
   },
   {
    "duration": 8,
    "start_time": "2022-03-17T03:52:57.054Z"
   },
   {
    "duration": 8,
    "start_time": "2022-03-17T03:52:57.582Z"
   },
   {
    "duration": 14,
    "start_time": "2022-03-17T03:52:59.000Z"
   },
   {
    "duration": 18,
    "start_time": "2022-03-17T03:52:59.688Z"
   },
   {
    "duration": 15,
    "start_time": "2022-03-17T03:53:00.134Z"
   },
   {
    "duration": 9,
    "start_time": "2022-03-17T03:53:00.581Z"
   },
   {
    "duration": 8,
    "start_time": "2022-03-17T03:53:01.344Z"
   },
   {
    "duration": 29,
    "start_time": "2022-03-17T03:53:01.640Z"
   },
   {
    "duration": 7,
    "start_time": "2022-03-17T03:53:02.150Z"
   },
   {
    "duration": 10,
    "start_time": "2022-03-17T03:53:02.922Z"
   },
   {
    "duration": 15,
    "start_time": "2022-03-17T03:53:03.398Z"
   },
   {
    "duration": 8,
    "start_time": "2022-03-17T03:53:03.884Z"
   },
   {
    "duration": 8,
    "start_time": "2022-03-17T03:53:04.328Z"
   },
   {
    "duration": 10,
    "start_time": "2022-03-17T03:53:04.732Z"
   },
   {
    "duration": 71,
    "start_time": "2022-03-17T03:55:28.465Z"
   },
   {
    "duration": 38,
    "start_time": "2022-03-17T03:55:29.257Z"
   },
   {
    "duration": 8,
    "start_time": "2022-03-17T03:55:29.925Z"
   },
   {
    "duration": 46,
    "start_time": "2022-03-17T03:55:31.111Z"
   },
   {
    "duration": 20,
    "start_time": "2022-03-17T03:55:31.623Z"
   },
   {
    "duration": 8,
    "start_time": "2022-03-17T03:55:31.983Z"
   },
   {
    "duration": 52,
    "start_time": "2022-03-17T03:55:32.559Z"
   },
   {
    "duration": 23,
    "start_time": "2022-03-17T03:55:32.764Z"
   },
   {
    "duration": 7,
    "start_time": "2022-03-17T03:55:33.033Z"
   },
   {
    "duration": 22,
    "start_time": "2022-03-17T03:55:35.255Z"
   },
   {
    "duration": 20,
    "start_time": "2022-03-17T03:55:56.443Z"
   },
   {
    "duration": 11,
    "start_time": "2022-03-17T03:56:01.288Z"
   },
   {
    "duration": 26,
    "start_time": "2022-03-17T03:56:02.184Z"
   },
   {
    "duration": 7,
    "start_time": "2022-03-17T03:56:03.936Z"
   },
   {
    "duration": 9,
    "start_time": "2022-03-17T03:56:05.848Z"
   },
   {
    "duration": 4,
    "start_time": "2022-03-17T03:56:07.207Z"
   },
   {
    "duration": 225,
    "start_time": "2022-03-17T03:56:08.713Z"
   },
   {
    "duration": 235,
    "start_time": "2022-03-17T03:56:28.395Z"
   },
   {
    "duration": 10,
    "start_time": "2022-03-17T03:57:42.306Z"
   },
   {
    "duration": 4,
    "start_time": "2022-03-17T03:57:43.190Z"
   },
   {
    "duration": 222,
    "start_time": "2022-03-17T03:57:44.104Z"
   },
   {
    "duration": 4,
    "start_time": "2022-03-17T03:58:35.951Z"
   },
   {
    "duration": 233,
    "start_time": "2022-03-17T03:58:36.837Z"
   },
   {
    "duration": 6,
    "start_time": "2022-03-17T04:00:07.263Z"
   },
   {
    "duration": 5,
    "start_time": "2022-03-17T04:12:39.902Z"
   },
   {
    "duration": 237,
    "start_time": "2022-03-17T04:12:54.378Z"
   },
   {
    "duration": 237,
    "start_time": "2022-03-17T04:13:16.336Z"
   },
   {
    "duration": 2982,
    "start_time": "2022-03-17T04:14:30.738Z"
   },
   {
    "duration": 154,
    "start_time": "2022-03-17T04:14:54.430Z"
   },
   {
    "duration": 4,
    "start_time": "2022-03-17T04:15:35.715Z"
   },
   {
    "duration": 5,
    "start_time": "2022-03-17T04:15:52.659Z"
   },
   {
    "duration": 3,
    "start_time": "2022-03-17T04:17:54.422Z"
   },
   {
    "duration": 240,
    "start_time": "2022-03-17T04:24:30.812Z"
   },
   {
    "duration": 5,
    "start_time": "2022-03-17T05:10:17.379Z"
   },
   {
    "duration": 6,
    "start_time": "2022-03-17T05:22:37.468Z"
   },
   {
    "duration": 3,
    "start_time": "2022-03-17T05:39:15.134Z"
   },
   {
    "duration": 3,
    "start_time": "2022-03-17T05:39:15.847Z"
   },
   {
    "duration": 382,
    "start_time": "2022-03-17T05:39:16.439Z"
   },
   {
    "duration": 8,
    "start_time": "2022-03-17T05:39:18.375Z"
   },
   {
    "duration": 27,
    "start_time": "2022-03-17T05:39:18.915Z"
   },
   {
    "duration": 21,
    "start_time": "2022-03-17T05:39:19.520Z"
   },
   {
    "duration": 29,
    "start_time": "2022-03-17T05:39:20.080Z"
   },
   {
    "duration": 22,
    "start_time": "2022-03-17T05:39:20.577Z"
   },
   {
    "duration": 9,
    "start_time": "2022-03-17T05:39:21.183Z"
   },
   {
    "duration": 8,
    "start_time": "2022-03-17T05:39:22.264Z"
   },
   {
    "duration": 21,
    "start_time": "2022-03-17T05:39:22.862Z"
   },
   {
    "duration": 18,
    "start_time": "2022-03-17T05:39:23.350Z"
   },
   {
    "duration": 37,
    "start_time": "2022-03-17T05:39:23.912Z"
   },
   {
    "duration": 8,
    "start_time": "2022-03-17T05:39:24.484Z"
   },
   {
    "duration": 7,
    "start_time": "2022-03-17T05:39:24.968Z"
   },
   {
    "duration": 15,
    "start_time": "2022-03-17T05:39:25.893Z"
   },
   {
    "duration": 18,
    "start_time": "2022-03-17T05:39:26.379Z"
   },
   {
    "duration": 16,
    "start_time": "2022-03-17T05:39:26.862Z"
   },
   {
    "duration": 10,
    "start_time": "2022-03-17T05:39:27.398Z"
   },
   {
    "duration": 9,
    "start_time": "2022-03-17T05:39:28.340Z"
   },
   {
    "duration": 29,
    "start_time": "2022-03-17T05:39:28.926Z"
   },
   {
    "duration": 6,
    "start_time": "2022-03-17T05:39:29.422Z"
   },
   {
    "duration": 10,
    "start_time": "2022-03-17T05:39:30.503Z"
   },
   {
    "duration": 17,
    "start_time": "2022-03-17T05:39:30.957Z"
   },
   {
    "duration": 9,
    "start_time": "2022-03-17T05:39:31.473Z"
   },
   {
    "duration": 7,
    "start_time": "2022-03-17T05:39:32.022Z"
   },
   {
    "duration": 8,
    "start_time": "2022-03-17T05:39:32.526Z"
   },
   {
    "duration": 69,
    "start_time": "2022-03-17T05:39:34.680Z"
   },
   {
    "duration": 37,
    "start_time": "2022-03-17T05:39:35.246Z"
   },
   {
    "duration": 8,
    "start_time": "2022-03-17T05:39:35.750Z"
   },
   {
    "duration": 44,
    "start_time": "2022-03-17T05:39:36.790Z"
   },
   {
    "duration": 19,
    "start_time": "2022-03-17T05:39:37.266Z"
   },
   {
    "duration": 7,
    "start_time": "2022-03-17T05:39:37.822Z"
   },
   {
    "duration": 62,
    "start_time": "2022-03-17T05:39:38.761Z"
   },
   {
    "duration": 25,
    "start_time": "2022-03-17T05:39:39.295Z"
   },
   {
    "duration": 8,
    "start_time": "2022-03-17T05:39:39.734Z"
   },
   {
    "duration": 20,
    "start_time": "2022-03-17T05:39:40.591Z"
   },
   {
    "duration": 7,
    "start_time": "2022-03-17T05:39:41.061Z"
   },
   {
    "duration": 26,
    "start_time": "2022-03-17T05:39:41.528Z"
   },
   {
    "duration": 7,
    "start_time": "2022-03-17T05:39:42.088Z"
   },
   {
    "duration": 10,
    "start_time": "2022-03-17T05:39:42.575Z"
   },
   {
    "duration": 4,
    "start_time": "2022-03-17T05:39:43.165Z"
   },
   {
    "duration": 232,
    "start_time": "2022-03-17T05:39:44.224Z"
   },
   {
    "duration": 2,
    "start_time": "2022-03-17T05:39:45.286Z"
   },
   {
    "duration": 19,
    "start_time": "2022-03-17T05:39:48.462Z"
   },
   {
    "duration": 191,
    "start_time": "2022-03-17T05:39:49.082Z"
   },
   {
    "duration": 189,
    "start_time": "2022-03-17T05:39:49.630Z"
   },
   {
    "duration": 13,
    "start_time": "2022-03-17T05:39:50.207Z"
   },
   {
    "duration": 217,
    "start_time": "2022-03-17T05:39:51.311Z"
   },
   {
    "duration": 220,
    "start_time": "2022-03-17T05:39:52.406Z"
   },
   {
    "duration": 13,
    "start_time": "2022-03-17T05:39:53.034Z"
   },
   {
    "duration": 223,
    "start_time": "2022-03-17T05:39:54.119Z"
   },
   {
    "duration": 269,
    "start_time": "2022-03-17T05:39:54.662Z"
   },
   {
    "duration": 14,
    "start_time": "2022-03-17T05:39:55.287Z"
   },
   {
    "duration": 208,
    "start_time": "2022-03-17T05:39:56.413Z"
   },
   {
    "duration": 200,
    "start_time": "2022-03-17T05:39:56.901Z"
   },
   {
    "duration": 13,
    "start_time": "2022-03-17T05:39:57.412Z"
   },
   {
    "duration": 4,
    "start_time": "2022-03-17T05:39:59.902Z"
   },
   {
    "duration": 18,
    "start_time": "2022-03-17T05:40:04.752Z"
   },
   {
    "duration": 6,
    "start_time": "2022-03-17T05:40:30.636Z"
   },
   {
    "duration": 2617,
    "start_time": "2022-03-17T05:40:31.099Z"
   },
   {
    "duration": 1385,
    "start_time": "2022-03-28T14:49:59.118Z"
   },
   {
    "duration": 3,
    "start_time": "2022-03-28T14:50:06.501Z"
   },
   {
    "duration": 487,
    "start_time": "2022-03-28T14:50:08.287Z"
   },
   {
    "duration": 12,
    "start_time": "2022-03-28T14:50:12.757Z"
   },
   {
    "duration": 29,
    "start_time": "2022-03-28T14:50:16.317Z"
   },
   {
    "duration": 21,
    "start_time": "2022-03-28T14:50:19.137Z"
   },
   {
    "duration": 32,
    "start_time": "2022-03-28T14:50:23.255Z"
   },
   {
    "duration": 3048,
    "start_time": "2022-03-28T14:50:24.185Z"
   },
   {
    "duration": 9,
    "start_time": "2022-03-28T14:50:34.396Z"
   },
   {
    "duration": 406,
    "start_time": "2022-03-28T14:51:12.896Z"
   },
   {
    "duration": 9,
    "start_time": "2022-03-28T14:51:16.892Z"
   },
   {
    "duration": 27,
    "start_time": "2022-03-28T14:51:18.736Z"
   },
   {
    "duration": 29,
    "start_time": "2022-03-28T14:51:20.553Z"
   },
   {
    "duration": 32,
    "start_time": "2022-03-28T14:51:23.765Z"
   },
   {
    "duration": 18,
    "start_time": "2022-03-28T14:51:27.218Z"
   },
   {
    "duration": 23,
    "start_time": "2022-03-28T14:51:29.086Z"
   },
   {
    "duration": 9,
    "start_time": "2022-03-28T14:51:32.073Z"
   },
   {
    "duration": 37,
    "start_time": "2022-03-28T14:52:55.330Z"
   },
   {
    "duration": 612,
    "start_time": "2022-03-28T14:52:59.799Z"
   },
   {
    "duration": 9,
    "start_time": "2022-03-28T14:53:00.828Z"
   },
   {
    "duration": 3,
    "start_time": "2022-03-28T14:53:06.199Z"
   },
   {
    "duration": 3,
    "start_time": "2022-03-28T14:53:08.142Z"
   },
   {
    "duration": 423,
    "start_time": "2022-03-28T14:53:08.993Z"
   },
   {
    "duration": 8,
    "start_time": "2022-03-28T14:53:11.319Z"
   },
   {
    "duration": 26,
    "start_time": "2022-03-28T14:53:12.147Z"
   },
   {
    "duration": 26,
    "start_time": "2022-03-28T14:53:12.914Z"
   },
   {
    "duration": 30,
    "start_time": "2022-03-28T14:53:13.639Z"
   },
   {
    "duration": 23,
    "start_time": "2022-03-28T14:53:14.557Z"
   },
   {
    "duration": 8,
    "start_time": "2022-03-28T14:53:15.332Z"
   },
   {
    "duration": 9,
    "start_time": "2022-03-28T14:53:16.973Z"
   },
   {
    "duration": 25,
    "start_time": "2022-03-28T14:53:17.742Z"
   },
   {
    "duration": 26,
    "start_time": "2022-03-28T14:53:18.396Z"
   },
   {
    "duration": 36,
    "start_time": "2022-03-28T14:53:19.063Z"
   },
   {
    "duration": 14,
    "start_time": "2022-03-28T14:53:20.700Z"
   },
   {
    "duration": 8,
    "start_time": "2022-03-28T14:53:22.140Z"
   },
   {
    "duration": 15,
    "start_time": "2022-03-28T14:53:24.273Z"
   },
   {
    "duration": 22,
    "start_time": "2022-03-28T14:53:25.223Z"
   },
   {
    "duration": 17,
    "start_time": "2022-03-28T14:53:25.982Z"
   },
   {
    "duration": 12,
    "start_time": "2022-03-28T14:53:26.550Z"
   },
   {
    "duration": 9,
    "start_time": "2022-03-28T14:53:27.653Z"
   },
   {
    "duration": 24,
    "start_time": "2022-03-28T14:53:28.277Z"
   },
   {
    "duration": 12,
    "start_time": "2022-03-28T14:53:28.968Z"
   },
   {
    "duration": 12,
    "start_time": "2022-03-28T14:53:30.768Z"
   },
   {
    "duration": 13,
    "start_time": "2022-03-28T14:53:31.618Z"
   },
   {
    "duration": 11,
    "start_time": "2022-03-28T14:53:32.346Z"
   },
   {
    "duration": 6,
    "start_time": "2022-03-28T14:53:33.923Z"
   },
   {
    "duration": 12,
    "start_time": "2022-03-28T14:53:35.318Z"
   },
   {
    "duration": 12,
    "start_time": "2022-03-28T14:53:46.582Z"
   },
   {
    "duration": 78,
    "start_time": "2022-03-28T14:53:50.017Z"
   },
   {
    "duration": 224,
    "start_time": "2022-03-28T14:53:50.885Z"
   },
   {
    "duration": 28,
    "start_time": "2022-03-28T14:54:27.563Z"
   },
   {
    "duration": 164,
    "start_time": "2022-03-28T14:54:28.415Z"
   },
   {
    "duration": 10,
    "start_time": "2022-03-28T15:01:41.317Z"
   },
   {
    "duration": 62,
    "start_time": "2022-03-28T15:02:40.601Z"
   },
   {
    "duration": 24,
    "start_time": "2022-03-28T15:02:44.514Z"
   },
   {
    "duration": 145,
    "start_time": "2022-03-28T15:02:47.059Z"
   },
   {
    "duration": 60,
    "start_time": "2022-03-28T15:02:50.114Z"
   },
   {
    "duration": 151,
    "start_time": "2022-03-28T15:02:52.642Z"
   },
   {
    "duration": 6,
    "start_time": "2022-03-28T15:02:54.682Z"
   },
   {
    "duration": 80,
    "start_time": "2022-03-28T15:04:37.402Z"
   },
   {
    "duration": 147,
    "start_time": "2022-03-28T15:04:40.922Z"
   },
   {
    "duration": 174,
    "start_time": "2022-03-28T15:06:12.715Z"
   },
   {
    "duration": 139,
    "start_time": "2022-03-28T15:07:20.626Z"
   },
   {
    "duration": 9,
    "start_time": "2022-03-28T15:08:18.641Z"
   },
   {
    "duration": 57,
    "start_time": "2022-03-28T15:08:31.852Z"
   },
   {
    "duration": 141,
    "start_time": "2022-03-28T15:08:36.946Z"
   },
   {
    "duration": 59,
    "start_time": "2022-03-28T15:09:13.067Z"
   },
   {
    "duration": 139,
    "start_time": "2022-03-28T15:09:15.254Z"
   },
   {
    "duration": 83,
    "start_time": "2022-03-28T15:09:49.997Z"
   },
   {
    "duration": 163,
    "start_time": "2022-03-28T15:09:51.858Z"
   },
   {
    "duration": 33,
    "start_time": "2022-03-28T15:14:30.996Z"
   },
   {
    "duration": 15,
    "start_time": "2022-03-28T15:14:48.916Z"
   },
   {
    "duration": 11,
    "start_time": "2022-03-28T15:15:09.330Z"
   },
   {
    "duration": 20,
    "start_time": "2022-03-28T15:15:39.060Z"
   },
   {
    "duration": 16,
    "start_time": "2022-03-28T15:15:50.159Z"
   },
   {
    "duration": 9,
    "start_time": "2022-03-28T15:15:56.783Z"
   },
   {
    "duration": 63,
    "start_time": "2022-03-28T15:16:03.404Z"
   },
   {
    "duration": 23,
    "start_time": "2022-03-28T15:16:08.107Z"
   },
   {
    "duration": 12,
    "start_time": "2022-03-28T15:16:23.018Z"
   },
   {
    "duration": 8,
    "start_time": "2022-03-28T15:16:26.593Z"
   },
   {
    "duration": 21,
    "start_time": "2022-03-28T15:16:37.186Z"
   },
   {
    "duration": 24,
    "start_time": "2022-03-28T15:21:15.497Z"
   },
   {
    "duration": 2,
    "start_time": "2022-03-28T15:21:21.805Z"
   },
   {
    "duration": 8,
    "start_time": "2022-03-28T15:21:23.362Z"
   },
   {
    "duration": 22,
    "start_time": "2022-03-28T15:21:36.069Z"
   },
   {
    "duration": 24,
    "start_time": "2022-03-28T15:21:42.729Z"
   },
   {
    "duration": 3,
    "start_time": "2022-03-28T15:21:44.647Z"
   },
   {
    "duration": 53,
    "start_time": "2022-03-28T15:21:53.271Z"
   },
   {
    "duration": 30,
    "start_time": "2022-03-28T15:22:16.871Z"
   },
   {
    "duration": 9,
    "start_time": "2022-03-28T15:22:17.523Z"
   },
   {
    "duration": 11,
    "start_time": "2022-03-28T15:34:57.493Z"
   },
   {
    "duration": 4,
    "start_time": "2022-03-28T15:44:14.981Z"
   },
   {
    "duration": 2287,
    "start_time": "2022-03-28T15:44:26.416Z"
   },
   {
    "duration": 4,
    "start_time": "2022-03-28T15:44:50.533Z"
   },
   {
    "duration": 2395,
    "start_time": "2022-03-28T15:44:53.766Z"
   },
   {
    "duration": 376,
    "start_time": "2022-03-28T15:45:13.222Z"
   },
   {
    "duration": 9,
    "start_time": "2022-03-28T15:45:14.878Z"
   },
   {
    "duration": 29,
    "start_time": "2022-03-28T15:45:15.599Z"
   },
   {
    "duration": 29,
    "start_time": "2022-03-28T15:45:16.214Z"
   },
   {
    "duration": 31,
    "start_time": "2022-03-28T15:45:16.784Z"
   },
   {
    "duration": 24,
    "start_time": "2022-03-28T15:45:17.346Z"
   },
   {
    "duration": 8,
    "start_time": "2022-03-28T15:45:17.890Z"
   },
   {
    "duration": 9,
    "start_time": "2022-03-28T15:45:18.966Z"
   },
   {
    "duration": 26,
    "start_time": "2022-03-28T15:45:19.599Z"
   },
   {
    "duration": 19,
    "start_time": "2022-03-28T15:45:20.102Z"
   },
   {
    "duration": 33,
    "start_time": "2022-03-28T15:45:20.636Z"
   },
   {
    "duration": 12,
    "start_time": "2022-03-28T15:45:21.613Z"
   },
   {
    "duration": 8,
    "start_time": "2022-03-28T15:45:22.169Z"
   },
   {
    "duration": 15,
    "start_time": "2022-03-28T15:45:23.166Z"
   },
   {
    "duration": 21,
    "start_time": "2022-03-28T15:45:23.750Z"
   },
   {
    "duration": 17,
    "start_time": "2022-03-28T15:45:24.235Z"
   },
   {
    "duration": 12,
    "start_time": "2022-03-28T15:45:24.863Z"
   },
   {
    "duration": 9,
    "start_time": "2022-03-28T15:45:25.894Z"
   },
   {
    "duration": 24,
    "start_time": "2022-03-28T15:45:26.333Z"
   },
   {
    "duration": 10,
    "start_time": "2022-03-28T15:45:26.807Z"
   },
   {
    "duration": 11,
    "start_time": "2022-03-28T15:45:27.791Z"
   },
   {
    "duration": 15,
    "start_time": "2022-03-28T15:45:28.295Z"
   },
   {
    "duration": 12,
    "start_time": "2022-03-28T15:45:28.777Z"
   },
   {
    "duration": 7,
    "start_time": "2022-03-28T15:45:29.276Z"
   },
   {
    "duration": 12,
    "start_time": "2022-03-28T15:45:29.845Z"
   },
   {
    "duration": 51,
    "start_time": "2022-03-28T15:45:30.894Z"
   },
   {
    "duration": 23,
    "start_time": "2022-03-28T15:45:31.430Z"
   },
   {
    "duration": 40,
    "start_time": "2022-03-28T15:45:31.921Z"
   },
   {
    "duration": 6,
    "start_time": "2022-03-28T15:45:32.334Z"
   },
   {
    "duration": 7,
    "start_time": "2022-03-28T15:45:32.799Z"
   },
   {
    "duration": 72,
    "start_time": "2022-03-28T15:45:35.230Z"
   },
   {
    "duration": 31,
    "start_time": "2022-03-28T15:45:35.769Z"
   },
   {
    "duration": 11,
    "start_time": "2022-03-28T15:45:36.214Z"
   },
   {
    "duration": 47,
    "start_time": "2022-03-28T15:45:37.223Z"
   },
   {
    "duration": 22,
    "start_time": "2022-03-28T15:45:38.885Z"
   },
   {
    "duration": 2,
    "start_time": "2022-03-28T15:45:39.345Z"
   },
   {
    "duration": 8,
    "start_time": "2022-03-28T15:45:39.877Z"
   },
   {
    "duration": 8,
    "start_time": "2022-03-28T15:45:48.237Z"
   },
   {
    "duration": 59,
    "start_time": "2022-03-28T15:45:49.613Z"
   },
   {
    "duration": 24,
    "start_time": "2022-03-28T15:45:50.358Z"
   },
   {
    "duration": 9,
    "start_time": "2022-03-28T15:45:53.253Z"
   },
   {
    "duration": 22,
    "start_time": "2022-03-28T15:45:54.670Z"
   },
   {
    "duration": 11,
    "start_time": "2022-03-28T15:45:56.022Z"
   },
   {
    "duration": 26,
    "start_time": "2022-03-28T15:45:56.967Z"
   },
   {
    "duration": 10,
    "start_time": "2022-03-28T15:45:57.321Z"
   },
   {
    "duration": 12,
    "start_time": "2022-03-28T15:45:58.484Z"
   },
   {
    "duration": 5,
    "start_time": "2022-03-28T15:46:00.068Z"
   },
   {
    "duration": 134,
    "start_time": "2022-03-28T15:46:01.430Z"
   },
   {
    "duration": 5,
    "start_time": "2022-03-28T15:48:34.118Z"
   },
   {
    "duration": 140,
    "start_time": "2022-03-28T15:48:35.730Z"
   },
   {
    "duration": 9,
    "start_time": "2022-03-28T15:49:36.211Z"
   },
   {
    "duration": 11,
    "start_time": "2022-03-28T15:49:49.618Z"
   },
   {
    "duration": 4,
    "start_time": "2022-03-28T15:50:08.906Z"
   },
   {
    "duration": 157,
    "start_time": "2022-03-28T15:50:10.903Z"
   },
   {
    "duration": 5,
    "start_time": "2022-03-28T15:56:15.355Z"
   },
   {
    "duration": 139,
    "start_time": "2022-03-28T15:56:22.047Z"
   },
   {
    "duration": 5,
    "start_time": "2022-03-28T15:57:39.246Z"
   },
   {
    "duration": 5,
    "start_time": "2022-03-28T15:57:56.188Z"
   },
   {
    "duration": 9,
    "start_time": "2022-03-28T15:58:01.596Z"
   },
   {
    "duration": 5,
    "start_time": "2022-03-28T15:58:13.622Z"
   },
   {
    "duration": 9,
    "start_time": "2022-03-28T15:58:13.996Z"
   },
   {
    "duration": 9,
    "start_time": "2022-03-28T15:58:14.606Z"
   },
   {
    "duration": 15,
    "start_time": "2022-03-28T15:58:14.812Z"
   },
   {
    "duration": 5,
    "start_time": "2022-03-28T15:58:14.998Z"
   },
   {
    "duration": 34,
    "start_time": "2022-03-28T15:58:15.179Z"
   },
   {
    "duration": 18,
    "start_time": "2022-03-28T15:58:15.538Z"
   },
   {
    "duration": 9,
    "start_time": "2022-03-28T15:58:15.733Z"
   },
   {
    "duration": 20,
    "start_time": "2022-03-28T15:58:16.075Z"
   },
   {
    "duration": 16,
    "start_time": "2022-03-28T15:58:16.283Z"
   },
   {
    "duration": 5,
    "start_time": "2022-03-28T15:58:16.471Z"
   },
   {
    "duration": 16,
    "start_time": "2022-03-28T15:58:16.661Z"
   },
   {
    "duration": 9,
    "start_time": "2022-03-28T15:58:17.036Z"
   },
   {
    "duration": 27,
    "start_time": "2022-03-28T15:58:17.219Z"
   },
   {
    "duration": 12,
    "start_time": "2022-03-28T15:58:17.409Z"
   },
   {
    "duration": 12,
    "start_time": "2022-03-28T15:58:17.789Z"
   },
   {
    "duration": 15,
    "start_time": "2022-03-28T15:58:17.989Z"
   },
   {
    "duration": 12,
    "start_time": "2022-03-28T15:58:18.171Z"
   },
   {
    "duration": 6,
    "start_time": "2022-03-28T15:58:18.363Z"
   },
   {
    "duration": 13,
    "start_time": "2022-03-28T15:58:18.538Z"
   },
   {
    "duration": 65,
    "start_time": "2022-03-28T15:58:18.908Z"
   },
   {
    "duration": 35,
    "start_time": "2022-03-28T15:58:19.102Z"
   },
   {
    "duration": 55,
    "start_time": "2022-03-28T15:58:19.300Z"
   },
   {
    "duration": 6,
    "start_time": "2022-03-28T15:58:19.480Z"
   },
   {
    "duration": 7,
    "start_time": "2022-03-28T15:58:19.687Z"
   },
   {
    "duration": 77,
    "start_time": "2022-03-28T15:58:20.674Z"
   },
   {
    "duration": 34,
    "start_time": "2022-03-28T15:58:20.860Z"
   },
   {
    "duration": 12,
    "start_time": "2022-03-28T15:58:21.062Z"
   },
   {
    "duration": 73,
    "start_time": "2022-03-28T15:58:22.366Z"
   },
   {
    "duration": 21,
    "start_time": "2022-03-28T15:58:22.836Z"
   },
   {
    "duration": 8,
    "start_time": "2022-03-28T15:58:23.740Z"
   },
   {
    "duration": 64,
    "start_time": "2022-03-28T15:58:24.782Z"
   },
   {
    "duration": 32,
    "start_time": "2022-03-28T15:58:25.445Z"
   },
   {
    "duration": 8,
    "start_time": "2022-03-28T15:58:26.187Z"
   },
   {
    "duration": 21,
    "start_time": "2022-03-28T15:58:26.759Z"
   },
   {
    "duration": 12,
    "start_time": "2022-03-28T15:58:27.214Z"
   },
   {
    "duration": 25,
    "start_time": "2022-03-28T15:58:27.913Z"
   },
   {
    "duration": 8,
    "start_time": "2022-03-28T15:58:28.237Z"
   },
   {
    "duration": 11,
    "start_time": "2022-03-28T15:58:28.701Z"
   },
   {
    "duration": 5,
    "start_time": "2022-03-28T15:58:33.708Z"
   },
   {
    "duration": 138,
    "start_time": "2022-03-28T15:58:34.932Z"
   },
   {
    "duration": 3,
    "start_time": "2022-03-28T15:58:38.580Z"
   },
   {
    "duration": 4,
    "start_time": "2022-03-28T15:59:46.988Z"
   },
   {
    "duration": 6,
    "start_time": "2022-03-28T16:00:00.362Z"
   },
   {
    "duration": 10,
    "start_time": "2022-03-28T16:00:01.403Z"
   },
   {
    "duration": 9,
    "start_time": "2022-03-28T16:00:10.054Z"
   },
   {
    "duration": 15,
    "start_time": "2022-03-28T16:00:10.522Z"
   },
   {
    "duration": 5,
    "start_time": "2022-03-28T16:00:10.840Z"
   },
   {
    "duration": 34,
    "start_time": "2022-03-28T16:00:11.071Z"
   },
   {
    "duration": 19,
    "start_time": "2022-03-28T16:00:11.906Z"
   },
   {
    "duration": 9,
    "start_time": "2022-03-28T16:00:12.300Z"
   },
   {
    "duration": 20,
    "start_time": "2022-03-28T16:00:12.797Z"
   },
   {
    "duration": 15,
    "start_time": "2022-03-28T16:00:13.003Z"
   },
   {
    "duration": 4,
    "start_time": "2022-03-28T16:00:13.206Z"
   },
   {
    "duration": 17,
    "start_time": "2022-03-28T16:00:13.397Z"
   },
   {
    "duration": 9,
    "start_time": "2022-03-28T16:00:13.767Z"
   },
   {
    "duration": 23,
    "start_time": "2022-03-28T16:00:13.938Z"
   },
   {
    "duration": 11,
    "start_time": "2022-03-28T16:00:14.119Z"
   },
   {
    "duration": 12,
    "start_time": "2022-03-28T16:00:14.481Z"
   },
   {
    "duration": 14,
    "start_time": "2022-03-28T16:00:14.690Z"
   },
   {
    "duration": 12,
    "start_time": "2022-03-28T16:00:14.856Z"
   },
   {
    "duration": 7,
    "start_time": "2022-03-28T16:00:15.034Z"
   },
   {
    "duration": 11,
    "start_time": "2022-03-28T16:00:15.236Z"
   },
   {
    "duration": 73,
    "start_time": "2022-03-28T16:00:15.644Z"
   },
   {
    "duration": 36,
    "start_time": "2022-03-28T16:00:15.829Z"
   },
   {
    "duration": 57,
    "start_time": "2022-03-28T16:00:16.030Z"
   },
   {
    "duration": 6,
    "start_time": "2022-03-28T16:00:16.217Z"
   },
   {
    "duration": 7,
    "start_time": "2022-03-28T16:00:16.403Z"
   },
   {
    "duration": 74,
    "start_time": "2022-03-28T16:00:17.431Z"
   },
   {
    "duration": 33,
    "start_time": "2022-03-28T16:00:17.615Z"
   },
   {
    "duration": 8,
    "start_time": "2022-03-28T16:00:17.822Z"
   },
   {
    "duration": 50,
    "start_time": "2022-03-28T16:00:18.215Z"
   },
   {
    "duration": 79,
    "start_time": "2022-03-28T16:00:34.234Z"
   },
   {
    "duration": 31,
    "start_time": "2022-03-28T16:00:34.459Z"
   },
   {
    "duration": 9,
    "start_time": "2022-03-28T16:00:34.684Z"
   },
   {
    "duration": 53,
    "start_time": "2022-03-28T16:00:35.173Z"
   },
   {
    "duration": 21,
    "start_time": "2022-03-28T16:00:35.677Z"
   },
   {
    "duration": 8,
    "start_time": "2022-03-28T16:00:35.881Z"
   },
   {
    "duration": 58,
    "start_time": "2022-03-28T16:00:36.329Z"
   },
   {
    "duration": 25,
    "start_time": "2022-03-28T16:00:36.545Z"
   },
   {
    "duration": 8,
    "start_time": "2022-03-28T16:00:36.763Z"
   },
   {
    "duration": 21,
    "start_time": "2022-03-28T16:00:37.251Z"
   },
   {
    "duration": 11,
    "start_time": "2022-03-28T16:00:37.715Z"
   },
   {
    "duration": 24,
    "start_time": "2022-03-28T16:00:37.931Z"
   },
   {
    "duration": 8,
    "start_time": "2022-03-28T16:00:38.147Z"
   },
   {
    "duration": 12,
    "start_time": "2022-03-28T16:00:38.595Z"
   },
   {
    "duration": 4,
    "start_time": "2022-03-28T16:00:39.289Z"
   },
   {
    "duration": 136,
    "start_time": "2022-03-28T16:00:40.427Z"
   },
   {
    "duration": 3,
    "start_time": "2022-03-28T16:00:45.069Z"
   },
   {
    "duration": 415,
    "start_time": "2022-03-28T16:08:15.119Z"
   },
   {
    "duration": 2500,
    "start_time": "2022-03-28T16:08:57.333Z"
   },
   {
    "duration": 198,
    "start_time": "2022-03-28T16:10:34.043Z"
   },
   {
    "duration": 148,
    "start_time": "2022-03-28T16:11:33.458Z"
   },
   {
    "duration": 139,
    "start_time": "2022-03-28T16:12:08.219Z"
   },
   {
    "duration": 123,
    "start_time": "2022-03-28T16:12:21.720Z"
   },
   {
    "duration": 224,
    "start_time": "2022-03-28T16:17:41.202Z"
   },
   {
    "duration": 194,
    "start_time": "2022-03-28T16:17:48.396Z"
   },
   {
    "duration": 213,
    "start_time": "2022-03-28T16:18:34.410Z"
   },
   {
    "duration": 237,
    "start_time": "2022-03-28T16:18:44.778Z"
   },
   {
    "duration": 137,
    "start_time": "2022-03-28T16:19:30.636Z"
   },
   {
    "duration": 158,
    "start_time": "2022-03-28T16:20:57.101Z"
   },
   {
    "duration": 159,
    "start_time": "2022-03-28T16:21:01.314Z"
   },
   {
    "duration": 242,
    "start_time": "2022-03-28T16:21:30.155Z"
   },
   {
    "duration": 155,
    "start_time": "2022-03-28T16:22:09.479Z"
   },
   {
    "duration": 211,
    "start_time": "2022-03-28T16:22:43.727Z"
   },
   {
    "duration": 157,
    "start_time": "2022-03-28T16:26:08.382Z"
   },
   {
    "duration": 152,
    "start_time": "2022-03-28T16:26:10.841Z"
   },
   {
    "duration": 156,
    "start_time": "2022-03-28T16:26:40.571Z"
   },
   {
    "duration": 140,
    "start_time": "2022-03-28T16:26:49.495Z"
   },
   {
    "duration": 143,
    "start_time": "2022-03-28T16:47:10.777Z"
   },
   {
    "duration": 44,
    "start_time": "2022-03-29T04:30:14.028Z"
   },
   {
    "duration": 1171,
    "start_time": "2022-03-29T04:30:20.233Z"
   },
   {
    "duration": 2,
    "start_time": "2022-03-29T04:30:21.406Z"
   },
   {
    "duration": 377,
    "start_time": "2022-03-29T04:30:22.021Z"
   },
   {
    "duration": 10,
    "start_time": "2022-03-29T04:30:23.598Z"
   },
   {
    "duration": 22,
    "start_time": "2022-03-29T04:30:24.107Z"
   },
   {
    "duration": 22,
    "start_time": "2022-03-29T04:30:24.567Z"
   },
   {
    "duration": 29,
    "start_time": "2022-03-29T04:30:24.908Z"
   },
   {
    "duration": 21,
    "start_time": "2022-03-29T04:30:25.380Z"
   },
   {
    "duration": 4,
    "start_time": "2022-03-29T04:30:25.698Z"
   },
   {
    "duration": 7,
    "start_time": "2022-03-29T04:30:26.156Z"
   },
   {
    "duration": 7,
    "start_time": "2022-03-29T04:30:26.912Z"
   },
   {
    "duration": 25,
    "start_time": "2022-03-29T04:30:27.329Z"
   },
   {
    "duration": 19,
    "start_time": "2022-03-29T04:30:27.657Z"
   },
   {
    "duration": 34,
    "start_time": "2022-03-29T04:30:27.957Z"
   },
   {
    "duration": 14,
    "start_time": "2022-03-29T04:30:28.567Z"
   },
   {
    "duration": 7,
    "start_time": "2022-03-29T04:30:28.909Z"
   },
   {
    "duration": 12,
    "start_time": "2022-03-29T04:30:29.513Z"
   },
   {
    "duration": 18,
    "start_time": "2022-03-29T04:30:29.810Z"
   },
   {
    "duration": 14,
    "start_time": "2022-03-29T04:30:30.049Z"
   },
   {
    "duration": 10,
    "start_time": "2022-03-29T04:30:30.323Z"
   },
   {
    "duration": 8,
    "start_time": "2022-03-29T04:30:30.864Z"
   },
   {
    "duration": 21,
    "start_time": "2022-03-29T04:30:31.122Z"
   },
   {
    "duration": 9,
    "start_time": "2022-03-29T04:30:31.370Z"
   },
   {
    "duration": 9,
    "start_time": "2022-03-29T04:30:31.826Z"
   },
   {
    "duration": 13,
    "start_time": "2022-03-29T04:30:32.069Z"
   },
   {
    "duration": 10,
    "start_time": "2022-03-29T04:30:32.322Z"
   },
   {
    "duration": 5,
    "start_time": "2022-03-29T04:30:32.586Z"
   },
   {
    "duration": 10,
    "start_time": "2022-03-29T04:30:32.848Z"
   },
   {
    "duration": 53,
    "start_time": "2022-03-29T04:30:33.404Z"
   },
   {
    "duration": 25,
    "start_time": "2022-03-29T04:30:33.657Z"
   },
   {
    "duration": 36,
    "start_time": "2022-03-29T04:30:33.890Z"
   },
   {
    "duration": 5,
    "start_time": "2022-03-29T04:30:34.146Z"
   },
   {
    "duration": 6,
    "start_time": "2022-03-29T04:30:34.410Z"
   },
   {
    "duration": 64,
    "start_time": "2022-03-29T04:30:35.736Z"
   },
   {
    "duration": 34,
    "start_time": "2022-03-29T04:30:36.018Z"
   },
   {
    "duration": 7,
    "start_time": "2022-03-29T04:30:36.394Z"
   },
   {
    "duration": 39,
    "start_time": "2022-03-29T04:30:36.977Z"
   },
   {
    "duration": 20,
    "start_time": "2022-03-29T04:30:39.426Z"
   },
   {
    "duration": 7,
    "start_time": "2022-03-29T04:30:43.367Z"
   },
   {
    "duration": 46,
    "start_time": "2022-03-29T04:30:44.288Z"
   },
   {
    "duration": 23,
    "start_time": "2022-03-29T04:30:44.763Z"
   },
   {
    "duration": 7,
    "start_time": "2022-03-29T04:30:45.185Z"
   },
   {
    "duration": 20,
    "start_time": "2022-03-29T04:30:46.050Z"
   },
   {
    "duration": 9,
    "start_time": "2022-03-29T04:30:47.326Z"
   },
   {
    "duration": 20,
    "start_time": "2022-03-29T04:30:48.123Z"
   },
   {
    "duration": 7,
    "start_time": "2022-03-29T04:30:49.141Z"
   },
   {
    "duration": 10,
    "start_time": "2022-03-29T04:30:51.493Z"
   },
   {
    "duration": 3,
    "start_time": "2022-03-29T04:31:09.068Z"
   },
   {
    "duration": 114,
    "start_time": "2022-03-29T04:31:10.474Z"
   },
   {
    "duration": 3,
    "start_time": "2022-03-29T04:31:11.420Z"
   },
   {
    "duration": 17,
    "start_time": "2022-03-29T04:31:15.146Z"
   },
   {
    "duration": 126,
    "start_time": "2022-03-29T04:31:22.194Z"
   },
   {
    "duration": 104,
    "start_time": "2022-03-29T04:31:49.087Z"
   },
   {
    "duration": 117,
    "start_time": "2022-03-29T04:32:11.583Z"
   },
   {
    "duration": 102,
    "start_time": "2022-03-29T04:32:14.585Z"
   },
   {
    "duration": 11,
    "start_time": "2022-03-29T04:32:15.106Z"
   },
   {
    "duration": 129,
    "start_time": "2022-03-29T04:32:16.280Z"
   },
   {
    "duration": 122,
    "start_time": "2022-03-29T04:32:16.898Z"
   },
   {
    "duration": 10,
    "start_time": "2022-03-29T04:32:17.203Z"
   },
   {
    "duration": 129,
    "start_time": "2022-03-29T04:32:17.666Z"
   },
   {
    "duration": 118,
    "start_time": "2022-03-29T04:32:17.856Z"
   },
   {
    "duration": 12,
    "start_time": "2022-03-29T04:32:18.122Z"
   },
   {
    "duration": 178,
    "start_time": "2022-03-29T04:32:18.539Z"
   },
   {
    "duration": 110,
    "start_time": "2022-03-29T04:32:18.792Z"
   },
   {
    "duration": 11,
    "start_time": "2022-03-29T04:32:18.990Z"
   },
   {
    "duration": 4,
    "start_time": "2022-03-29T04:32:20.002Z"
   },
   {
    "duration": 15,
    "start_time": "2022-03-29T04:32:20.674Z"
   },
   {
    "duration": 4,
    "start_time": "2022-03-29T04:32:22.226Z"
   },
   {
    "duration": 3185,
    "start_time": "2022-03-29T04:32:22.637Z"
   },
   {
    "duration": 1164,
    "start_time": "2022-10-04T12:54:26.117Z"
   },
   {
    "duration": 6,
    "start_time": "2022-10-04T12:54:27.283Z"
   },
   {
    "duration": 1926,
    "start_time": "2022-10-04T12:54:27.292Z"
   },
   {
    "duration": 12,
    "start_time": "2022-10-04T12:54:29.220Z"
   },
   {
    "duration": 29,
    "start_time": "2022-10-04T12:54:29.234Z"
   },
   {
    "duration": 27,
    "start_time": "2022-10-04T12:54:29.265Z"
   },
   {
    "duration": 42,
    "start_time": "2022-10-04T12:54:29.294Z"
   },
   {
    "duration": 27,
    "start_time": "2022-10-04T12:54:29.338Z"
   },
   {
    "duration": 21,
    "start_time": "2022-10-04T12:54:29.367Z"
   },
   {
    "duration": 20,
    "start_time": "2022-10-04T12:54:29.390Z"
   },
   {
    "duration": 34,
    "start_time": "2022-10-04T12:54:29.412Z"
   },
   {
    "duration": 50,
    "start_time": "2022-10-04T12:54:29.447Z"
   },
   {
    "duration": 28,
    "start_time": "2022-10-04T12:54:29.498Z"
   },
   {
    "duration": 60,
    "start_time": "2022-10-04T12:54:29.530Z"
   },
   {
    "duration": 12,
    "start_time": "2022-10-04T12:54:29.592Z"
   },
   {
    "duration": 38,
    "start_time": "2022-10-04T12:54:29.606Z"
   },
   {
    "duration": 44,
    "start_time": "2022-10-04T12:54:29.645Z"
   },
   {
    "duration": 44,
    "start_time": "2022-10-04T12:54:29.692Z"
   },
   {
    "duration": 27,
    "start_time": "2022-10-04T12:54:29.738Z"
   },
   {
    "duration": 33,
    "start_time": "2022-10-04T12:54:29.767Z"
   },
   {
    "duration": 10,
    "start_time": "2022-10-04T12:54:29.802Z"
   },
   {
    "duration": 31,
    "start_time": "2022-10-04T12:54:29.814Z"
   },
   {
    "duration": 11,
    "start_time": "2022-10-04T12:54:29.847Z"
   },
   {
    "duration": 30,
    "start_time": "2022-10-04T12:54:29.860Z"
   },
   {
    "duration": 20,
    "start_time": "2022-10-04T12:54:29.892Z"
   },
   {
    "duration": 14,
    "start_time": "2022-10-04T12:54:29.915Z"
   },
   {
    "duration": 9,
    "start_time": "2022-10-04T12:54:29.931Z"
   },
   {
    "duration": 16,
    "start_time": "2022-10-04T12:54:29.942Z"
   },
   {
    "duration": 95,
    "start_time": "2022-10-04T12:54:29.960Z"
   },
   {
    "duration": 42,
    "start_time": "2022-10-04T12:54:30.056Z"
   },
   {
    "duration": 57,
    "start_time": "2022-10-04T12:54:30.101Z"
   },
   {
    "duration": 6,
    "start_time": "2022-10-04T12:54:30.159Z"
   },
   {
    "duration": 27,
    "start_time": "2022-10-04T12:54:30.167Z"
   },
   {
    "duration": 82,
    "start_time": "2022-10-04T12:54:30.196Z"
   },
   {
    "duration": 45,
    "start_time": "2022-10-04T12:54:30.288Z"
   },
   {
    "duration": 11,
    "start_time": "2022-10-04T12:54:30.335Z"
   },
   {
    "duration": 92,
    "start_time": "2022-10-04T12:54:30.348Z"
   },
   {
    "duration": 26,
    "start_time": "2022-10-04T12:54:30.442Z"
   },
   {
    "duration": 19,
    "start_time": "2022-10-04T12:54:30.470Z"
   },
   {
    "duration": 101,
    "start_time": "2022-10-04T12:54:30.492Z"
   },
   {
    "duration": 34,
    "start_time": "2022-10-04T12:54:30.598Z"
   },
   {
    "duration": 12,
    "start_time": "2022-10-04T12:54:30.634Z"
   },
   {
    "duration": 34,
    "start_time": "2022-10-04T12:54:30.649Z"
   },
   {
    "duration": 14,
    "start_time": "2022-10-04T12:54:30.685Z"
   },
   {
    "duration": 31,
    "start_time": "2022-10-04T12:54:30.702Z"
   },
   {
    "duration": 10,
    "start_time": "2022-10-04T12:54:30.735Z"
   },
   {
    "duration": 27,
    "start_time": "2022-10-04T12:54:30.747Z"
   },
   {
    "duration": 4,
    "start_time": "2022-10-04T12:54:30.790Z"
   },
   {
    "duration": 165,
    "start_time": "2022-10-04T12:54:30.796Z"
   },
   {
    "duration": 2,
    "start_time": "2022-10-04T12:54:30.964Z"
   },
   {
    "duration": 31,
    "start_time": "2022-10-04T12:54:30.968Z"
   },
   {
    "duration": 184,
    "start_time": "2022-10-04T12:54:31.001Z"
   },
   {
    "duration": 150,
    "start_time": "2022-10-04T12:54:31.187Z"
   },
   {
    "duration": 15,
    "start_time": "2022-10-04T12:54:31.339Z"
   },
   {
    "duration": 189,
    "start_time": "2022-10-04T12:54:31.356Z"
   },
   {
    "duration": 178,
    "start_time": "2022-10-04T12:54:31.547Z"
   },
   {
    "duration": 13,
    "start_time": "2022-10-04T12:54:31.727Z"
   },
   {
    "duration": 236,
    "start_time": "2022-10-04T12:54:31.742Z"
   },
   {
    "duration": 231,
    "start_time": "2022-10-04T12:54:31.980Z"
   },
   {
    "duration": 14,
    "start_time": "2022-10-04T12:54:32.213Z"
   },
   {
    "duration": 181,
    "start_time": "2022-10-04T12:54:32.229Z"
   },
   {
    "duration": 159,
    "start_time": "2022-10-04T12:54:32.412Z"
   },
   {
    "duration": 23,
    "start_time": "2022-10-04T12:54:32.573Z"
   },
   {
    "duration": 5,
    "start_time": "2022-10-04T12:54:32.597Z"
   },
   {
    "duration": 113,
    "start_time": "2022-10-04T12:54:32.603Z"
   },
   {
    "duration": 6,
    "start_time": "2022-10-04T12:54:32.717Z"
   },
   {
    "duration": 1337,
    "start_time": "2022-10-04T12:54:32.724Z"
   },
   {
    "duration": 461,
    "start_time": "2022-10-04T12:55:55.918Z"
   }
  ],
  "kernelspec": {
   "display_name": "Python 3 (ipykernel)",
   "language": "python",
   "name": "python3"
  },
  "language_info": {
   "codemirror_mode": {
    "name": "ipython",
    "version": 3
   },
   "file_extension": ".py",
   "mimetype": "text/x-python",
   "name": "python",
   "nbconvert_exporter": "python",
   "pygments_lexer": "ipython3",
   "version": "3.9.5"
  },
  "toc": {
   "base_numbering": 1,
   "nav_menu": {},
   "number_sections": true,
   "sideBar": true,
   "skip_h1_title": true,
   "title_cell": "Table of Contents",
   "title_sidebar": "Contents",
   "toc_cell": false,
   "toc_position": {},
   "toc_section_display": true,
   "toc_window_display": false
  }
 },
 "nbformat": 4,
 "nbformat_minor": 2
}
